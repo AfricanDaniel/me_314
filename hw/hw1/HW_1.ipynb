{
 "cells": [
  {
   "metadata": {},
   "cell_type": "markdown",
   "source": "Collaborators: Saif Ahmad",
   "id": "68e21b6b3dd7b80b"
  },
  {
   "metadata": {
    "collapsed": true
   },
   "cell_type": "markdown",
   "source": [
    "# ME314 Homework 1\n",
    "\n",
    "###Submission instructions\n",
    "\n",
    "Deliverables that should be included with your submission are shown in **bold** at the end of each problem statement and the corresponding supplemental material. Your homework will be graded IFF you submit a **single** PDF and a link to a Google colab file that meet all the requirements outlined below.\n",
    "\n",
    "- List the names of students you've collaborated with on this homework assignment.\n",
    "- Include all of your code (and handwritten solutions when applicable) used to complete the problems.\n",
    "- Highlight your answers (i.e. **bold** and outline the answers) for handwritten or markdown questions and include simplified code outputs (e.g. .simplify()) for python questions.\n",
    "- Enable Google Colab permission for viewing\n",
    " * Click Share in the upper right corner\n",
    " * Under \"Get Link\" click \"Share with...\" or \"Change\"\n",
    " * Then make sure it says \"Anyone with Link\" and \"Editor\" under the dropdown menu\n",
    "- Make sure all cells are run before submitting (i.e. check the permission by running your code in a private mode)\n",
    " * Please don't make changes to your file after submitting, so we can grade it!\n",
    "- Submit a link to your Google Colab file that has been run (before the submission deadline) and don't edit it afterwards!\n",
    "\n",
    "**NOTE:** This Juputer Notebook file serves as a template for you to start homework. Make sure you first copy this template to your own Google driver (click \"File\" -> \"Save a copy in Drive\"), and then start to edit it."
   ],
   "id": "330b73093ba30872"
  },
  {
   "metadata": {
    "ExecuteTime": {
     "end_time": "2025-10-02T15:59:47.351455Z",
     "start_time": "2025-10-02T15:59:46.928333Z"
    }
   },
   "cell_type": "code",
   "source": [
    "#IMPORT ALL NECESSARY PACKAGES AT THE TOP OF THE CODE\n",
    "import sympy as sym\n",
    "import sympy as sp\n",
    "import numpy as np\n",
    "import matplotlib.pyplot as plt"
   ],
   "id": "c423a92f145b67f7",
   "outputs": [],
   "execution_count": 2
  },
  {
   "metadata": {
    "ExecuteTime": {
     "end_time": "2025-10-02T15:59:47.365846Z",
     "start_time": "2025-10-02T15:59:47.361647Z"
    }
   },
   "cell_type": "code",
   "source": [
    "try:\n",
    "    # Only works in Google Colab\n",
    "    from google.colab.output._publish import javascript\n",
    "\n",
    "    def custom_latex_printer(exp, **options):\n",
    "        url = \"https://cdnjs.cloudflare.com/ajax/libs/mathjax/3.1.1/latest.js?config=TeX-AMS_HTML\"\n",
    "        javascript(url=url)\n",
    "        return sym.printing.latex(exp, **options)\n",
    "    sym.init_printing(use_latex=\"mathjax\", latex_printer=custom_latex_printer)\n",
    "\n",
    "except ModuleNotFoundError:\n",
    "    # Fallback for Jupyter or other environments\n",
    "    sym.init_printing(use_latex=\"mathjax\")"
   ],
   "id": "b17a016bdb63d204",
   "outputs": [],
   "execution_count": 3
  },
  {
   "metadata": {},
   "cell_type": "markdown",
   "source": [
    "\n",
    "\n",
    "```\n",
    "# This is formatted as code\n",
    "```\n",
    "\n",
    "## Problem 1 (15pts)"
   ],
   "id": "baa85ebf00e614cd"
  },
  {
   "metadata": {
    "ExecuteTime": {
     "end_time": "2025-10-02T15:59:47.414584Z",
     "start_time": "2025-10-02T15:59:47.410476Z"
    }
   },
   "cell_type": "code",
   "source": [
    "from IPython.core.display import HTML\n",
    "display(HTML(\"<table><tr><td><img src='https://github.com/MuchenSun/ME314pngs/raw/master/2mass_spring.png' width=500' height='350'></table>\"))"
   ],
   "id": "db61a8a42842590b",
   "outputs": [
    {
     "data": {
      "text/plain": [
       "<IPython.core.display.HTML object>"
      ],
      "text/html": [
       "<table><tr><td><img src='https://github.com/MuchenSun/ME314pngs/raw/master/2mass_spring.png' width=500' height='350'></table>"
      ]
     },
     "metadata": {},
     "output_type": "display_data",
     "jetTransient": {
      "display_id": null
     }
    }
   ],
   "execution_count": 4
  },
  {
   "metadata": {},
   "cell_type": "markdown",
   "source": [
    "As shown in the image above, a block of mass $m_1$ is on one side connected to a wall by a massless spring with a spring constant $k_1$ and on another side to a block of mass $m_2$ by a massless spring with a spring constant $k_2$. Assume that the two springs have lengths of zero when \"relaxed\", they are stretched with any positive displacement $\\Delta x > 0$, and the magnitude of the force can be computed using Hooke's law $|F| = k \\Delta x$, where $k$ is the spring constant. Furthermore, there is no friction between the blocks and the ground.\n",
    "\n",
    "Given masses $m_1=1kg$ and $ m_2=2kg$, spring constants $k_1=0.5N/m$ and $k_2=0.8N/m$, and positions of the blocks as $x_1$ and $x_2$, use Newton's law $F=ma$ to compute the accelerations of the blocks $a_1=\\ddot{x}_1$ and $a_2=\\ddot{x}_2$. You need to use Pythons's SymPy package to solve for symbolic solutions, as well as numerically evaluate your solutions for $a_1$ and $a_2$ as functions of $x_1$ and $x_2$ respectively. Test your numerical functions with $x_1=1m$ and $x_2=3m$ as function inputs.\n",
    "\n",
    "*Hint 1: You will have two equations based on Newton's law $F=ma$ for each block. Thus, for each block you need to write down its $F$ in terms of $x_1$ and $x_2$ (which can be defined as symbols in SymPy).*\n",
    "\n",
    "*Hint 2: You will need to use SymPy's **`solve()`** and **`lambdify()`** methods in this problem as seen in Homework 0. This problem is very similar to Problem 5 in Homework 0, except that (1) you need to write down the equations yourself, and (2) you don't need to solve the equations simultaneously - you can solve them one by one for each block. Feel free to take the example code in Homework 0 as a starting point.*\n",
    "\n",
    "*Hint 3: You will need to use **`lambdify()`** to numerically evaluate a function with multiple variables. Below is an example.*"
   ],
   "id": "9d7482b20304565"
  },
  {
   "metadata": {
    "ExecuteTime": {
     "end_time": "2025-10-02T15:59:47.634913Z",
     "start_time": "2025-10-02T15:59:47.472362Z"
    }
   },
   "cell_type": "code",
   "source": [
    "# Define symbols\n",
    "x1, x2 = sym.symbols('x1 x2')\n",
    "m1, m2 = sym.symbols('m1 m2')\n",
    "k1, k2 = sym.symbols('k1 k2')\n",
    "a1, a2 = sym.symbols('a1 a2')\n",
    "\n",
    "# Equations from Newton's second law\n",
    "eq1 = sym.Eq(m1*a1, -k1*x1 + k2*(x2 - x1))\n",
    "eq2 = sym.Eq(m2*a2, -k2*(x2 - x1))\n",
    "\n",
    "# Solve equations for accelerations\n",
    "sol_a1 = sym.solve(eq1, a1)[0]\n",
    "sol_a2 = sym.solve(eq2, a2)[0]\n",
    "\n",
    "display(sym.Eq(a1, sol_a1))\n",
    "display(sym.Eq(a2, sol_a2))\n",
    "\n",
    "# Substitute numerical values\n",
    "subs_vals = {m1: 1, m2: 2, k1: 0.5, k2: 0.8}\n",
    "\n",
    "a1_num = sol_a1.subs(subs_vals)\n",
    "a2_num = sol_a2.subs(subs_vals)\n",
    "\n",
    "# Lambdify for numerical evaluation\n",
    "a1_func = sym.lambdify((x1, x2), a1_num)\n",
    "a2_func = sym.lambdify((x1, x2), a2_num)\n",
    "\n",
    "# Test with x1 = 1, x2 = 3\n",
    "print('\\n\\033[1mTest at x_1=1, x_2=2 : \\033[0m{:.2f}'.format(a1_func(1,3)))\n",
    "print('\\n\\033[1mTest at x_1=1, x_2=2 : \\033[0m{:.2f}'.format(a2_func(1,3)))\n",
    "\n"
   ],
   "id": "54f89e2543e1bcbc",
   "outputs": [
    {
     "data": {
      "text/plain": [
       "     -k₁⋅x₁ - k₂⋅x₁ + k₂⋅x₂\n",
       "a₁ = ──────────────────────\n",
       "               m₁          "
      ],
      "text/latex": "$\\displaystyle a_{1} = \\frac{- k_{1} x_{1} - k_{2} x_{1} + k_{2} x_{2}}{m_{1}}$"
     },
     "metadata": {},
     "output_type": "display_data",
     "jetTransient": {
      "display_id": null
     }
    },
    {
     "data": {
      "text/plain": [
       "     k₂⋅(x₁ - x₂)\n",
       "a₂ = ────────────\n",
       "          m₂     "
      ],
      "text/latex": "$\\displaystyle a_{2} = \\frac{k_{2} \\left(x_{1} - x_{2}\\right)}{m_{2}}$"
     },
     "metadata": {},
     "output_type": "display_data",
     "jetTransient": {
      "display_id": null
     }
    },
    {
     "name": "stdout",
     "output_type": "stream",
     "text": [
      "\n",
      "\u001B[1mTest at x_1=1, x_2=2 : \u001B[0m1.10\n",
      "\n",
      "\u001B[1mTest at x_1=1, x_2=2 : \u001B[0m-0.80\n"
     ]
    }
   ],
   "execution_count": 5
  },
  {
   "metadata": {},
   "cell_type": "markdown",
   "source": "\\**Turn in: A copy of the code used to solve for symbolic solutions and evaluate them as numerical functions, output of the code as well as the test results for numerical functions.**",
   "id": "4b0566f4165ba734"
  },
  {
   "metadata": {},
   "cell_type": "markdown",
   "source": "## paper here",
   "id": "e46cba2ccd581897"
  },
  {
   "metadata": {},
   "cell_type": "markdown",
   "source": [
    "## Problem 2 (10pts)\n",
    "\n",
    "For the same system in Problem 1, compute the Lagrangian of the system using Python's SymPy package with $x_1$, $x_2$ as system configuration variables.\n",
    "\n",
    "*Hint 1: For an object with mass $m$ and velocity $v$, its kinetic energy is $\\frac{1}{2} mv^2$.*\n",
    "\n",
    "*Hint 2: For a spring stretched with displacement $\\Delta x$ and spring ratio $k$, its potential energy is $\\frac{1}{2} k (\\Delta x)^2$. Also, the springs have zero mass.*\n",
    "\n",
    "*Hint 3: Since $x_1$ and $x_2$ are actually functions of time $t$, in order to compute Euler-Lagrange equations you will need to take their derivative with respect to $t$. Instead of defining position and velocity as two separate symbols, you need to define position as SymPy's **Function** object and the velocity as the derivative of that function with respect to time $t$. An example is provided below.*"
   ],
   "id": "60b115a508072c1e"
  },
  {
   "metadata": {
    "ExecuteTime": {
     "end_time": "2025-10-02T16:06:04.694068Z",
     "start_time": "2025-10-02T16:06:04.660395Z"
    }
   },
   "cell_type": "code",
   "source": [
    "# Time variable\n",
    "t = sp.symbols('t')\n",
    "T_sym, V_sym , L_sym = sym.symbols('T V L')\n",
    "\n",
    "# Generalized coordinates as functions of time\n",
    "x1 = sp.Function('x1')(t)\n",
    "x2 = sp.Function('x2')(t)\n",
    "\n",
    "# Velocities\n",
    "x1_dot = sp.diff(x1, t)\n",
    "x2_dot = sp.diff(x2, t)\n",
    "\n",
    "# Kinetic energy\n",
    "T = sp.Rational(1,2)*m1*x1_dot**2 + sp.Rational(1,2)*m2*x2_dot**2\n",
    "\n",
    "# Potential energy\n",
    "V = sp.Rational(1,2)*k1*x1**2 + sp.Rational(1,2)*k2*(x2 - x1)**2\n",
    "\n",
    "# Lagrangian\n",
    "L = T - V\n",
    "\n",
    "display(sym.Eq(T_sym, T))\n",
    "display(sym.Eq(V_sym, V))\n",
    "display(sym.Eq(L_sym, L))\n"
   ],
   "id": "704b33ae1db9fefd",
   "outputs": [
    {
     "data": {
      "text/plain": [
       "                  2                 2\n",
       "       ⎛d        ⎞       ⎛d        ⎞ \n",
       "    m₁⋅⎜──(x₁(t))⎟    m₂⋅⎜──(x₂(t))⎟ \n",
       "       ⎝dt       ⎠       ⎝dt       ⎠ \n",
       "T = ─────────────── + ───────────────\n",
       "           2                 2       "
      ],
      "text/latex": "$\\displaystyle T = \\frac{m_{1} \\left(\\frac{d}{d t} x_{1}{\\left(t \\right)}\\right)^{2}}{2} + \\frac{m_{2} \\left(\\frac{d}{d t} x_{2}{\\left(t \\right)}\\right)^{2}}{2}$"
     },
     "metadata": {},
     "output_type": "display_data",
     "jetTransient": {
      "display_id": null
     }
    },
    {
     "data": {
      "text/plain": [
       "         2                         2\n",
       "    k₁⋅x₁ (t)   k₂⋅(-x₁(t) + x₂(t)) \n",
       "V = ───────── + ────────────────────\n",
       "        2                2          "
      ],
      "text/latex": "$\\displaystyle V = \\frac{k_{1} x_{1}^{2}{\\left(t \\right)}}{2} + \\frac{k_{2} \\left(- x_{1}{\\left(t \\right)} + x_{2}{\\left(t \\right)}\\right)^{2}}{2}$"
     },
     "metadata": {},
     "output_type": "display_data",
     "jetTransient": {
      "display_id": null
     }
    },
    {
     "data": {
      "text/plain": [
       "                                                       2                 2\n",
       "                                            ⎛d        ⎞       ⎛d        ⎞ \n",
       "           2                         2   m₁⋅⎜──(x₁(t))⎟    m₂⋅⎜──(x₂(t))⎟ \n",
       "      k₁⋅x₁ (t)   k₂⋅(-x₁(t) + x₂(t))       ⎝dt       ⎠       ⎝dt       ⎠ \n",
       "L = - ───────── - ──────────────────── + ─────────────── + ───────────────\n",
       "          2                2                    2                 2       "
      ],
      "text/latex": "$\\displaystyle L = - \\frac{k_{1} x_{1}^{2}{\\left(t \\right)}}{2} - \\frac{k_{2} \\left(- x_{1}{\\left(t \\right)} + x_{2}{\\left(t \\right)}\\right)^{2}}{2} + \\frac{m_{1} \\left(\\frac{d}{d t} x_{1}{\\left(t \\right)}\\right)^{2}}{2} + \\frac{m_{2} \\left(\\frac{d}{d t} x_{2}{\\left(t \\right)}\\right)^{2}}{2}$"
     },
     "metadata": {},
     "output_type": "display_data",
     "jetTransient": {
      "display_id": null
     }
    }
   ],
   "execution_count": 24
  },
  {
   "metadata": {},
   "cell_type": "markdown",
   "source": [
    "## Problem 3 (10pts)\n",
    "\n",
    "Based on your solution for Problem 2, compute the Euler-Lagrange equations for this system.\n",
    "\n",
    "*Hint 1: In this problem, the system has two configuration variables. Thus, when taking the derivative of the Lagrangian with respect to the system state vector, the derivative is also a vector (sometimes also called the Jacobian of the Lagrangian with respect to system states). Below is an example of several ways to compute the derivative with respect to a vector in SymPy.*"
   ],
   "id": "920cd9099c8ff8c7"
  },
  {
   "metadata": {
    "ExecuteTime": {
     "end_time": "2025-10-02T16:06:27.820725Z",
     "start_time": "2025-10-02T16:06:27.756881Z"
    }
   },
   "cell_type": "code",
   "source": [
    "# Euler-Lagrange for x1\n",
    "dLd_x1_dot = sp.diff(L, x1_dot)\n",
    "d_dt__dLd_x1_dot = sp.diff(dLd_x1_dot, t)\n",
    "dLd_x1 = sp.diff(L, x1)\n",
    "EL1 = sp.simplify(d_dt__dLd_x1_dot - dLd_x1)\n",
    "\n",
    "# Euler-Lagrange for x2\n",
    "dLd_x2_dot = sp.diff(L, x2_dot)\n",
    "d_dt__dLd_x2_dot = sp.diff(dLd_x2_dot, t)\n",
    "dLd_x2 = sp.diff(L, x2)\n",
    "EL2 = sp.simplify(d_dt__dLd_x2_dot - dLd_x2)\n",
    "\n",
    "el_eqns = [EL1, EL2]\n",
    "\n",
    "display(el_eqns)"
   ],
   "id": "5ecda5fbcc54a6ec",
   "outputs": [
    {
     "data": {
      "text/plain": [
       "⎡                                    2                                    2    ↪\n",
       "⎢                                   d                                    d     ↪\n",
       "⎢k₁⋅x₁(t) + k₂⋅(x₁(t) - x₂(t)) + m₁⋅───(x₁(t)), -k₂⋅(x₁(t) - x₂(t)) + m₂⋅───(x ↪\n",
       "⎢                                     2                                    2   ↪\n",
       "⎣                                   dt                                   dt    ↪\n",
       "\n",
       "↪      ⎤\n",
       "↪      ⎥\n",
       "↪ ₂(t))⎥\n",
       "↪      ⎥\n",
       "↪      ⎦"
      ],
      "text/latex": "$\\displaystyle \\left[ k_{1} x_{1}{\\left(t \\right)} + k_{2} \\left(x_{1}{\\left(t \\right)} - x_{2}{\\left(t \\right)}\\right) + m_{1} \\frac{d^{2}}{d t^{2}} x_{1}{\\left(t \\right)}, \\  - k_{2} \\left(x_{1}{\\left(t \\right)} - x_{2}{\\left(t \\right)}\\right) + m_{2} \\frac{d^{2}}{d t^{2}} x_{2}{\\left(t \\right)}\\right]$"
     },
     "metadata": {},
     "output_type": "display_data",
     "jetTransient": {
      "display_id": null
     }
    }
   ],
   "execution_count": 25
  },
  {
   "metadata": {},
   "cell_type": "markdown",
   "source": [
    "## Problem 4 (15pts)\n",
    "\n",
    "Based on your Euler-Lagrange equations from Problem 3, use Python's SymPy package to solve the equations for the accelerations of the two blocks $\\ddot{x}_1, \\ddot{x}_2$, in terms of position $x_1, x_2$, and velocity $\\dot{x}_1, \\dot{x}_2$. Compare your answer to Problem 1 to see if they match with each other and comment if this is not the case.\n",
    "\n",
    "*Hint 1: Since you need to solve a set of multiple equations symbolically in SymPy, it's recommended to wrap both sides of the equations into SymPy's Matrix object. As an example, below is the code solving the following set of equations (feel free to use this code as a starting point).*\n",
    "$$\n",
    "\\begin{aligned}\n",
    "\\left\\{\n",
    "    \\begin{array}{ll}\n",
    "      x^2 + y = 3 \\\\\n",
    "      x + y = 1\n",
    "    \\end{array}\n",
    "\\right.\n",
    "\\end{aligned}\n",
    "$$"
   ],
   "id": "4cb8063aea4d780a"
  },
  {
   "metadata": {
    "ExecuteTime": {
     "end_time": "2025-10-02T16:29:58.983788Z",
     "start_time": "2025-10-02T16:29:58.948440Z"
    }
   },
   "cell_type": "code",
   "source": [
    "# Accelerations (actually we want to solve for these)\n",
    "xdd1 = sp.Symbol('xdd1')\n",
    "xdd2 = sp.Symbol('xdd2')\n",
    "\n",
    "# Equations (from Problem 3)\n",
    "eq1 = sp.Eq(m1*xdd1 + k1*x1 + k2*(x1 - x2), 0)\n",
    "eq2 = sp.Eq(m2*xdd2 - k2*(x1 - x2), 0)\n",
    "\n",
    "# Solve simultaneously for accelerations\n",
    "solutions = sp.solve([eq1, eq2], [xdd1, xdd2])\n",
    "\n",
    "# Matrix to display sln\n",
    "el_eqns = [el_eqns[0], el_eqns[1]]\n",
    "rhs = sym.Matrix([0, 0])\n",
    "eqn = sym.Eq(solutions, rhs)\n",
    "display(eqn)\n",
    "\n",
    "display(sym.Eq(xdd1, solutions[xdd1]))\n",
    "display(sym.Eq(xdd2, solutions[xdd2]))\n"
   ],
   "id": "7c7c59c4aca2f117",
   "outputs": [
    {
     "data": {
      "text/plain": [
       "⎧        k₁⋅x₁(t)   k₂⋅x₁(t)   k₂⋅x₂(t)        k₂⋅x₁(t)   k₂⋅x₂(t)⎫   ⎡0⎤\n",
       "⎨xdd₁: - ──────── - ──────── + ────────, xdd₂: ──────── - ────────⎬ = ⎢ ⎥\n",
       "⎩           m₁         m₁         m₁              m₂         m₂   ⎭   ⎣0⎦"
      ],
      "text/latex": "$\\displaystyle \\left\\{ xdd_{1} : - \\frac{k_{1} x_{1}{\\left(t \\right)}}{m_{1}} - \\frac{k_{2} x_{1}{\\left(t \\right)}}{m_{1}} + \\frac{k_{2} x_{2}{\\left(t \\right)}}{m_{1}}, \\  xdd_{2} : \\frac{k_{2} x_{1}{\\left(t \\right)}}{m_{2}} - \\frac{k_{2} x_{2}{\\left(t \\right)}}{m_{2}}\\right\\} = \\left[\\begin{matrix}0\\\\0\\end{matrix}\\right]$"
     },
     "metadata": {},
     "output_type": "display_data",
     "jetTransient": {
      "display_id": null
     }
    },
    {
     "data": {
      "text/plain": [
       "         k₁⋅x₁(t)   k₂⋅x₁(t)   k₂⋅x₂(t)\n",
       "xdd₁ = - ──────── - ──────── + ────────\n",
       "            m₁         m₁         m₁   "
      ],
      "text/latex": "$\\displaystyle xdd_{1} = - \\frac{k_{1} x_{1}{\\left(t \\right)}}{m_{1}} - \\frac{k_{2} x_{1}{\\left(t \\right)}}{m_{1}} + \\frac{k_{2} x_{2}{\\left(t \\right)}}{m_{1}}$"
     },
     "metadata": {},
     "output_type": "display_data",
     "jetTransient": {
      "display_id": null
     }
    },
    {
     "data": {
      "text/plain": [
       "       k₂⋅x₁(t)   k₂⋅x₂(t)\n",
       "xdd₂ = ──────── - ────────\n",
       "          m₂         m₂   "
      ],
      "text/latex": "$\\displaystyle xdd_{2} = \\frac{k_{2} x_{1}{\\left(t \\right)}}{m_{2}} - \\frac{k_{2} x_{2}{\\left(t \\right)}}{m_{2}}$"
     },
     "metadata": {},
     "output_type": "display_data",
     "jetTransient": {
      "display_id": null
     }
    }
   ],
   "execution_count": 40
  },
  {
   "metadata": {},
   "cell_type": "markdown",
   "source": "## Problem 5 (10pts)\n",
   "id": "c2a96a3482cfd0a6"
  },
  {
   "metadata": {
    "ExecuteTime": {
     "end_time": "2025-10-02T15:59:47.936888Z",
     "start_time": "2025-10-02T15:59:47.932897Z"
    }
   },
   "cell_type": "code",
   "source": [
    "from IPython.core.display import HTML\n",
    "display(HTML(\"<table><tr><td><img src='https://raw.githubusercontent.com/MuchenSun/ME314pngs/master/dyninvpend.png' width=500' height='350'></table>\"))"
   ],
   "id": "465623a0db5aa161",
   "outputs": [
    {
     "data": {
      "text/plain": [
       "<IPython.core.display.HTML object>"
      ],
      "text/html": [
       "<table><tr><td><img src='https://raw.githubusercontent.com/MuchenSun/ME314pngs/master/dyninvpend.png' width=500' height='350'></table>"
      ]
     },
     "metadata": {},
     "output_type": "display_data",
     "jetTransient": {
      "display_id": null
     }
    }
   ],
   "execution_count": 9
  },
  {
   "metadata": {},
   "cell_type": "markdown",
   "source": [
    "\n",
    "You are given the unforced inverted cart-pendulum as shown below. The pendulum is in gravity and can swing freely (the cart will not interfere with pendulum's motion). The cart can move freely in the horizontal direction. Take $x$ and $\\theta$ as the system configuration variables and compute the Lagrangian of the system using Python's SymPy package. Provide symoblic solution of the Lagrangian with $m$, $R$, and $M$ as symbols instead of given constants.\n",
    "\n",
    "*Hint 1: Assume that the positive direction for the rotation of the pendulum $\\dot{\\theta}$ is clockwise. Likewise, the positive direction for the translation of the cart is to the right.*\n",
    "\n",
    "*Hint 2: You will need to define $m$, $R$, and $M$ as SymPy's symbols.*\n",
    "\n",
    "*Hint 3: Note that the pendulum is attached to the cart! In order to compute the kinetic energy of the pendulum, the velocity of the cart needs to be considered. One suggestion is to compute the velocity of the pendulum in a different coordinate system (other than Cartesian with $x$ and $y$ coordinates).*"
   ],
   "id": "ab7588ea28be7ea6"
  },
  {
   "metadata": {
    "ExecuteTime": {
     "end_time": "2025-10-02T16:42:08.648112Z",
     "start_time": "2025-10-02T16:42:08.526207Z"
    }
   },
   "cell_type": "code",
   "source": [
    "# Symbols\n",
    "M, m, R, g = sp.symbols('M m R g', real=True, positive=True)\n",
    "x, theta = sp.symbols('x theta', real=True)\n",
    "xdot, thetadot = sp.symbols('xdot thetadot', real=True)\n",
    "T_sym, V_sym , L_sym = sym.symbols('T V L')\n",
    "\n",
    "# Kinetic energy\n",
    "T_cart = 0.5 * M * xdot**2\n",
    "T_pend = 0.5 * m * ((xdot + R*sp.cos(theta)*thetadot)**2 + (R*sp.sin(theta)*thetadot)**2)\n",
    "T = T_cart + T_pend\n",
    "\n",
    "# Potential energy\n",
    "V = -m*g*R*sp.cos(theta)\n",
    "\n",
    "# Lagrangian\n",
    "L = sp.simplify(T - V)\n",
    "\n",
    "display(sym.Eq(T_sym, T))\n",
    "display(sym.Eq(V_sym, V))\n",
    "display(sym.Eq(L_sym, L))"
   ],
   "id": "834d3b6e24ad1397",
   "outputs": [
    {
     "data": {
      "text/plain": [
       "           2         ⎛ 2  2    2                      2⎞\n",
       "T = 0.5⋅M⋅ẋ  + 0.5⋅m⋅⎝R ⋅θ̇ ⋅sin (θ) + (R⋅θ̇⋅cos(θ) + ẋ) ⎠"
      ],
      "text/latex": "$\\displaystyle T = 0.5 M \\dot{x}^{2} + 0.5 m \\left(R^{2} \\dot{\\theta}^{2} \\sin^{2}{\\left(\\theta \\right)} + \\left(R \\dot{\\theta} \\cos{\\left(\\theta \\right)} + \\dot{x}\\right)^{2}\\right)$"
     },
     "metadata": {},
     "output_type": "display_data",
     "jetTransient": {
      "display_id": null
     }
    },
    {
     "data": {
      "text/plain": [
       "V = -R⋅g⋅m⋅cos(θ)"
      ],
      "text/latex": "$\\displaystyle V = - R g m \\cos{\\left(\\theta \\right)}$"
     },
     "metadata": {},
     "output_type": "display_data",
     "jetTransient": {
      "display_id": null
     }
    },
    {
     "data": {
      "text/plain": [
       "           2                        ⎛ 2  2                     2⎞\n",
       "L = 0.5⋅M⋅ẋ  + R⋅g⋅m⋅cos(θ) + 0.5⋅m⋅⎝R ⋅θ̇  + 2⋅R⋅θ̇⋅ẋ⋅cos(θ) + ẋ ⎠"
      ],
      "text/latex": "$\\displaystyle L = 0.5 M \\dot{x}^{2} + R g m \\cos{\\left(\\theta \\right)} + 0.5 m \\left(R^{2} \\dot{\\theta}^{2} + 2 R \\dot{\\theta} \\dot{x} \\cos{\\left(\\theta \\right)} + \\dot{x}^{2}\\right)$"
     },
     "metadata": {},
     "output_type": "display_data",
     "jetTransient": {
      "display_id": null
     }
    }
   ],
   "execution_count": 45
  },
  {
   "metadata": {},
   "cell_type": "markdown",
   "source": [
    "## Problem 6 (15pts)\n",
    "\n",
    "Based on your solution in Problem 5, compute the Euler-Lagrange equations for this inverted cart-pendulun system using Python's SymPy package.\n",
    "\n",
    "**Turn in: A copy of the code used to symbolically compute Euler-Lagrange equations  and the code output (i.e. the computed expression of the Lagrangian).**"
   ],
   "id": "c93729ba45a472f6"
  },
  {
   "metadata": {
    "ExecuteTime": {
     "end_time": "2025-10-02T16:48:25.609366Z",
     "start_time": "2025-10-02T16:48:25.430425Z"
    }
   },
   "cell_type": "code",
   "source": [
    "# Time variable\n",
    "t = sp.symbols('t')\n",
    "\n",
    "# Generalized coordinates as functions of time\n",
    "x = sp.Function('x')(t)\n",
    "theta = sp.Function(r'\\theta')(t)\n",
    "\n",
    "# Velocities\n",
    "x_dot = sp.diff(x, t)\n",
    "theta_dot = sp.diff(theta, t)\n",
    "\n",
    "# Kinetic energy\n",
    "T_cart = sp.Rational(1,2) * M * x_dot**2\n",
    "T_pend = sp.Rational(1,2) * m * ((x_dot + R*sp.cos(theta)*theta_dot)**2 + (R*sp.sin(theta)*theta_dot)**2)\n",
    "T = T_cart + T_pend\n",
    "\n",
    "# Potential energy\n",
    "V = m*g*R*sp.cos(theta)\n",
    "\n",
    "# Lagrangian\n",
    "L = T - V\n",
    "\n",
    "# Euler-Lagrange for x1\n",
    "dLd_x1dot = sp.diff(L, x_dot)\n",
    "d_dt__dLd_x1dot = sp.diff(dLd_x1dot, t)\n",
    "dLd_x1 = sp.diff(L, x1)\n",
    "EL1 = sp.simplify(d_dt__dLd_x1dot - dLd_x1)\n",
    "\n",
    "# Euler-Lagrange for x2\n",
    "dLd_theta_dot = sp.diff(L, theta_dot)\n",
    "d_dt__dLd_theta_dot = sp.diff(dLd_theta_dot, t)\n",
    "dLd_x2 = sp.diff(L, theta)\n",
    "EL2 = sp.simplify(d_dt__dLd_theta_dot - dLd_x2)\n",
    "\n",
    "el_eqns = [EL1, EL2]\n",
    "\n",
    "display(el_eqns)"
   ],
   "id": "7faeba5b95e3944",
   "outputs": [
    {
     "data": {
      "text/plain": [
       "⎡   2            ⎛                                  2                     2    ↪\n",
       "⎢  d             ⎜                   ⎛d            ⎞                     d     ↪\n",
       "⎢M⋅───(x(t)) + m⋅⎜- R⋅sin(\\theta(t))⋅⎜──(\\theta(t))⎟  + R⋅cos(\\theta(t))⋅───(\\ ↪\n",
       "⎢    2           ⎜                   ⎝dt           ⎠                       2   ↪\n",
       "⎣  dt            ⎝                                                       dt    ↪\n",
       "\n",
       "↪              2       ⎞      ⎛   2                                            ↪\n",
       "↪             d        ⎟      ⎜  d                                             ↪\n",
       "↪ theta(t)) + ───(x(t))⎟, R⋅m⋅⎜R⋅───(\\theta(t)) - g⋅sin(\\theta(t)) + cos(\\thet ↪\n",
       "↪               2      ⎟      ⎜    2                                           ↪\n",
       "↪             dt       ⎠      ⎝  dt                                            ↪\n",
       "\n",
       "↪        2       ⎞⎤\n",
       "↪       d        ⎟⎥\n",
       "↪ a(t))⋅───(x(t))⎟⎥\n",
       "↪         2      ⎟⎥\n",
       "↪       dt       ⎠⎦"
      ],
      "text/latex": "$\\displaystyle \\left[ M \\frac{d^{2}}{d t^{2}} x{\\left(t \\right)} + m \\left(- R \\sin{\\left(\\theta{\\left(t \\right)} \\right)} \\left(\\frac{d}{d t} \\theta{\\left(t \\right)}\\right)^{2} + R \\cos{\\left(\\theta{\\left(t \\right)} \\right)} \\frac{d^{2}}{d t^{2}} \\theta{\\left(t \\right)} + \\frac{d^{2}}{d t^{2}} x{\\left(t \\right)}\\right), \\  R m \\left(R \\frac{d^{2}}{d t^{2}} \\theta{\\left(t \\right)} - g \\sin{\\left(\\theta{\\left(t \\right)} \\right)} + \\cos{\\left(\\theta{\\left(t \\right)} \\right)} \\frac{d^{2}}{d t^{2}} x{\\left(t \\right)}\\right)\\right]$"
     },
     "metadata": {},
     "output_type": "display_data",
     "jetTransient": {
      "display_id": null
     }
    }
   ],
   "execution_count": 52
  },
  {
   "metadata": {
    "ExecuteTime": {
     "end_time": "2025-10-01T20:07:11.553985Z",
     "start_time": "2025-10-01T20:07:11.551577Z"
    }
   },
   "cell_type": "markdown",
   "source": [
    "## Problem 7 (15pts)\n",
    "\n",
    "Find symbolic expressions of $\\ddot{x}$ and $\\ddot{\\theta}$ from the Euler-Lagrange equations in Problem 6 using SymPy's **`solve()`** method (NOTE: the expressions should be in terms of $x$, $\\theta$, $\\dot{x}$ and $\\dot{\\theta}$ only). Convert these results to numerical functions using SymPy's **`lambdify()`** method by substituting $M, m, R, g$ symbols with $M=2, m=1, R=1, g=9.8$ values. Test your numerical functions of $\\ddot{x}$ and $\\ddot{\\theta}$ by evaluating them given $x=0, \\theta=0.1, \\dot{x}=0, \\dot{\\theta}=0$ as function inputs.\n",
    "\n",
    "**Turn in: A copy of the code used to symbolically solve and numerically evaluate the solutions of Euler-Lagrange equations (i.e. $\\ddot{x}$ and $\\ddot{\\theta}$). Include the code output, consisting of symbolic expression of $\\ddot{x}$ and $\\ddot{\\theta}$, as well as your test results for the numerical evaluations.**"
   ],
   "id": "6d10f837f066afaa"
  },
  {
   "metadata": {
    "ExecuteTime": {
     "end_time": "2025-10-02T16:45:42.756679Z",
     "start_time": "2025-10-02T16:45:42.529748Z"
    }
   },
   "cell_type": "code",
   "source": [
    "xdd = sp.diff(x, (t,2))\n",
    "thdd = sp.diff(theta, (t,2))\n",
    "\n",
    "sol = sp.solve([EL1, EL2], [xdd, thdd], dict=True)[0]\n",
    "xdd_expr = sp.simplify(sol[xdd])\n",
    "thdd_expr = sp.simplify(sol[thdd])\n",
    "\n",
    "#display(xdd_expr)\n",
    "#display(thdd_expr)\n",
    "\n",
    "# Substitute numerical values\n",
    "subs_vals = {M: 2, m: 1, R: 1, g: 9.8}\n",
    "sol_x_acc_subs = sol[xdd].subs(subs_vals)\n",
    "sol_theta_acc_subs = sol[thdd].subs(subs_vals)\n",
    "\n",
    "# Lambdify for numerical evaluation\n",
    "sol_x_func = sym.lambdify([x, x_dot, theta, theta_dot], sol_x_acc_subs)\n",
    "sol_theta_func = sym.lambdify([x, x_dot, theta, theta_dot], sol_theta_acc_subs)\n",
    "\n",
    "display(sol_x_acc_subs)\n",
    "display(sol_theta_acc_subs)\n",
    "\n",
    "#sol_x_func = sym.lambdify([x,xdot,theta,thetadot],sol_x_acc_subs)\n",
    "print('\\n\\033[ x accealaration at x=0,  xdot=0, theta=0.1,thetadot = 0 : \\033[0m{:.4f}'.format(sol_x_func(0, 0, 0.1,0)))\n",
    "#theta_acc_func = sym.lambdify([x,xdot,theta,thetadot],sol_theta_acc_subs)\n",
    "print('\\n\\033[ theta accealaration at x=0,  xdot=0, theta=0.1, thetadot = 0 : \\033[0m{:.4f}'.format(sol_theta_func(0, 0, 0.1,0)))\n",
    "\n",
    "#display(sym.Eq(xdd_expr, thdd_expr))\n",
    "#display(sym.Eq(xdd_expr, thdd_expr))"
   ],
   "id": "db8d50e30fc6cce6",
   "outputs": [
    {
     "data": {
      "text/plain": [
       "                                                                  2\n",
       "                                                   ⎛d            ⎞ \n",
       "                                    sin(\\theta(t))⋅⎜──(\\theta(t))⎟ \n",
       "9.8⋅sin(\\theta(t))⋅cos(\\theta(t))                  ⎝dt           ⎠ \n",
       "───────────────────────────────── - ───────────────────────────────\n",
       "          2                                  2                     \n",
       "       cos (\\theta(t)) - 3                cos (\\theta(t)) - 3      "
      ],
      "text/latex": "$\\displaystyle \\frac{9.8 \\sin{\\left(\\theta{\\left(t \\right)} \\right)} \\cos{\\left(\\theta{\\left(t \\right)} \\right)}}{\\cos^{2}{\\left(\\theta{\\left(t \\right)} \\right)} - 3} - \\frac{\\sin{\\left(\\theta{\\left(t \\right)} \\right)} \\left(\\frac{d}{d t} \\theta{\\left(t \\right)}\\right)^{2}}{\\cos^{2}{\\left(\\theta{\\left(t \\right)} \\right)} - 3}$"
     },
     "metadata": {},
     "output_type": "display_data",
     "jetTransient": {
      "display_id": null
     }
    },
    {
     "data": {
      "text/plain": [
       "                                             2                      \n",
       "                              ⎛d            ⎞                       \n",
       "sin(\\theta(t))⋅cos(\\theta(t))⋅⎜──(\\theta(t))⎟                       \n",
       "                              ⎝dt           ⎠    29.4⋅sin(\\theta(t))\n",
       "────────────────────────────────────────────── - ───────────────────\n",
       "                2                                   2               \n",
       "             cos (\\theta(t)) - 3                 cos (\\theta(t)) - 3"
      ],
      "text/latex": "$\\displaystyle \\frac{\\sin{\\left(\\theta{\\left(t \\right)} \\right)} \\cos{\\left(\\theta{\\left(t \\right)} \\right)} \\left(\\frac{d}{d t} \\theta{\\left(t \\right)}\\right)^{2}}{\\cos^{2}{\\left(\\theta{\\left(t \\right)} \\right)} - 3} - \\frac{29.4 \\sin{\\left(\\theta{\\left(t \\right)} \\right)}}{\\cos^{2}{\\left(\\theta{\\left(t \\right)} \\right)} - 3}$"
     },
     "metadata": {},
     "output_type": "display_data",
     "jetTransient": {
      "display_id": null
     }
    },
    {
     "name": "stdout",
     "output_type": "stream",
     "text": [
      "\n",
      "\u001B[ x accealaration at x=0,  xdot=0, theta=0.1,thetadot = 0 : \u001B[0m-0.4843\n",
      "\n",
      "\u001B[ theta accealaration at x=0,  xdot=0, theta=0.1, thetadot = 0 : \u001B[0m1.4603\n"
     ]
    }
   ],
   "execution_count": 50
  },
  {
   "metadata": {},
   "cell_type": "markdown",
   "source": [
    "## Problem 8 (10pts)\n",
    "\n",
    "Based on your symbolic and numerical solutions for $\\ddot{x}(t)$ and $\\ddot{\\theta}(t)$, which are now functions of $x(t), \\theta(t), \\dot{x}(t)$ and $\\dot{\\theta}(t)$, simulate the system for $t\\in[0,10]$, with initial conditions $x(0)=0, \\theta(0)=0.1, \\dot{x}(0)=0, \\dot{\\theta}(0)=0$ and the numerical integration and simulation functions provided below. Plot the trajectories of $x(t)$ and $\\theta(t)$ versus time.\n",
    "\n",
    "*Hint 1: The numerical simulation function below can only simulate systems with first-order dynamics. This means that the function of dynamics (i.e. $f(xt)$), whose input is fed to the numerical integration and simulation functions, needs to return the first-order time derivative. This might be confusing because our solutions $\\ddot{x}(t)$ and $\\ddot{\\theta}(t)$ are second-order time derivative. The trick here is to extend the system state from $[x(t), \\theta(t)]$ to $[x(t), \\theta(t), \\dot{x}(t), \\dot{\\theta}(t)]$, thus the time derivative of the state vector becomes $[\\dot{x}(t), \\dot{\\theta}(t), \\ddot{x}(t), \\ddot{\\theta}(t)]$. Now, when you write down the system dynamics function, the third and forth elements of input vector $\\dot{x}(t)$ and $\\dot{\\theta}(t)$ can be put into the output vector directly, and we already know the rest two elements of the output vector, from our previous solution of Euler-Lagrange equations. More information can be found in Lecture Note 1 (Background) - Section 1.4 Ordinary Differential Equations. An example is provided below for simulating a particle falling in gravity, where the acceleration $\\ddot{x}(t) = -9.8$.*\n",
    "\n",
    "*Hint 2: You will need to include the numerical evaluations for $\\ddot{x}(t)$ and $\\ddot{\\theta}(t)$ in system dynamics function. You can either use your previous **`lambdify()`** results, or hand code the equations from previous symbolic solutions. We recommend using **`lambdify()`** for practice because later homeworks will require integration of much more complicated equations.*\n",
    "\n",
    "**Turn in: A copy of the code used to simulate the system with the plot of the simulated trajectories.**"
   ],
   "id": "ca3b6b104994617e"
  },
  {
   "metadata": {
    "ExecuteTime": {
     "end_time": "2025-10-02T15:59:48.654687Z",
     "start_time": "2025-10-02T15:59:48.637265Z"
    }
   },
   "cell_type": "code",
   "source": [
    "\n",
    "def integrate(f, xt, dt):\n",
    "    \"\"\"\n",
    "    This function takes in an initial condition x(t) and a timestep dt,\n",
    "    as well as a dynamical system f(x) that outputs a vector of the\n",
    "    same dimension as x(t). It outputs a vector x(t+dt) at the future\n",
    "    time step.\n",
    "\n",
    "    Parameters\n",
    "    ============\n",
    "    dyn: Python function\n",
    "        derivate of the system at a given step x(t),\n",
    "        it can considered as \\dot{x}(t) = func(x(t))\n",
    "    xt: NumPy array\n",
    "        current step x(t)\n",
    "    dt:\n",
    "        step size for integration\n",
    "\n",
    "    Return\n",
    "    ============\n",
    "    new_xt:\n",
    "        value of x(t+dt) integrated from x(t)\n",
    "    \"\"\"\n",
    "    k1 = dt * f(xt)\n",
    "    k2 = dt * f(xt+k1/2.)\n",
    "    k3 = dt * f(xt+k2/2.)\n",
    "    k4 = dt * f(xt+k3)\n",
    "    new_xt = xt + (1/6.) * (k1+2.0*k2+2.0*k3+k4)\n",
    "    return new_xt\n",
    "\n",
    "def simulate(f, x0, tspan, dt, integrate):\n",
    "    \"\"\"\n",
    "    This function takes in an initial condition x0, a timestep dt,\n",
    "    a time span tspan consisting of a list [min_time, max_time],\n",
    "    as well as a dynamical system f(x) that outputs a vector of the\n",
    "    same dimension as x0. It outputs a full trajectory simulated\n",
    "    over the time span of dimensions (xvec_size, time_vec_size).\n",
    "\n",
    "    Parameters\n",
    "    ============\n",
    "    f: Python function\n",
    "        derivate of the system at a given step x(t),\n",
    "        it can considered as \\dot{x}(t) = func(x(t))\n",
    "    x0: NumPy array\n",
    "        initial conditions\n",
    "    tspan: Python list\n",
    "        tspan = [min_time, max_time], it defines the start and end\n",
    "        time of simulation\n",
    "    dt:\n",
    "        time step for numerical integration\n",
    "    integrate: Python function\n",
    "        numerical integration method used in this simulation\n",
    "\n",
    "    Return\n",
    "    ============\n",
    "    x_traj:\n",
    "        simulated trajectory of x(t) from t=0 to tf\n",
    "    \"\"\"\n",
    "    N = int((max(tspan)-min(tspan))/dt)\n",
    "    x = np.copy(x0)\n",
    "    tvec = np.linspace(min(tspan),max(tspan),N)\n",
    "    xtraj = np.zeros((len(x0),N))\n",
    "    for i in range(N):\n",
    "        xtraj[:,i]=integrate(f,x,dt)\n",
    "        x = np.copy(xtraj[:,i])\n",
    "    return xtraj, tvec\n",
    "\n",
    "##############################################\n",
    "# example: simulate a particle falling in gravity\n",
    "def x_acc(x, xdot, theta, thetadot):\n",
    "    X_acc = sol_x_func(x, xdot, theta, thetadot)\n",
    "    return X_acc\n",
    "\n",
    "def theta_acc(x, xdot, theta, thetadot):\n",
    "    Theta_acc = sol_theta_func(x, xdot, theta, thetadot)\n",
    "    return Theta_acc\n",
    "\n",
    "def dyn(s):\n",
    "  x, xdot,theta,thetadot = s\n",
    "\n",
    "  return np.array([\n",
    "        xdot,\n",
    "        x_acc(x, xdot, theta, thetadot),\n",
    "        thetadot,\n",
    "        theta_acc(x, xdot, theta, thetadot)\n",
    "    ])\n",
    "\n",
    "# define initial state\n",
    "s0 = np.array([0.0, 0.0, 0.1, 0.0]) # at 10m high with zero velocity\n",
    "# simulat from t=0 to 10, since dt=0.1, the returned trajectory\n",
    "# will have 10/0.1=100 time steps, each time step contains extended\n",
    "# system state vector [x(t), xdot(t)]\n",
    "traj, tvec = simulate(dyn, s0, [0, 10], 0.1, integrate)\n",
    "print('\\033[1mShape of traj: \\033[0m', traj.shape)\n",
    "\n"
   ],
   "id": "de8c94c3a582e12",
   "outputs": [
    {
     "name": "stdout",
     "output_type": "stream",
     "text": [
      "\u001B[1mShape of traj: \u001B[0m (4, 100)\n"
     ]
    },
    {
     "name": "stderr",
     "output_type": "stream",
     "text": [
      "<>:2: SyntaxWarning: invalid escape sequence '\\d'\n",
      "<>:31: SyntaxWarning: invalid escape sequence '\\d'\n",
      "<>:2: SyntaxWarning: invalid escape sequence '\\d'\n",
      "<>:31: SyntaxWarning: invalid escape sequence '\\d'\n",
      "/tmp/ipykernel_36920/2297827950.py:2: SyntaxWarning: invalid escape sequence '\\d'\n",
      "  \"\"\"\n",
      "/tmp/ipykernel_36920/2297827950.py:31: SyntaxWarning: invalid escape sequence '\\d'\n",
      "  \"\"\"\n"
     ]
    }
   ],
   "execution_count": 13
  },
  {
   "metadata": {
    "ExecuteTime": {
     "end_time": "2025-10-02T15:59:48.874083Z",
     "start_time": "2025-10-02T15:59:48.708687Z"
    }
   },
   "cell_type": "code",
   "source": [
    "import matplotlib.pyplot as plt\n",
    "\n",
    "\n",
    "plt.figure(figsize=(10,4))\n",
    "plt.plot(tvec, traj[0,:], label=\"x(t)\", color=\"blue\")\n",
    "plt.xlabel(\"Time [s]\")\n",
    "plt.ylabel(\"x(t)\")\n",
    "plt.title(\"Trajectory of x(t)\")\n",
    "plt.grid(True)\n",
    "plt.legend()\n",
    "plt.show()\n",
    "\n",
    "# Plot theta(t)\n",
    "plt.figure(figsize=(10,4))\n",
    "plt.plot(tvec, traj[2,:], label=\"θ(t)\", color=\"red\")\n",
    "plt.xlabel(\"Time [s]\")\n",
    "plt.ylabel(\"θ(t) [rad]\")\n",
    "plt.title(\"Trajectory of θ(t)\")\n",
    "plt.grid(True)\n",
    "plt.legend()\n",
    "plt.show()"
   ],
   "id": "754b2587ddb39edc",
   "outputs": [
    {
     "data": {
      "text/plain": [
       "<Figure size 1000x400 with 1 Axes>"
      ],
      "image/png": "[encoded data removed]"
     },
     "metadata": {},
     "output_type": "display_data",
     "jetTransient": {
      "display_id": null
     }
    },
    {
     "data": {
      "text/plain": [
       "<Figure size 1000x400 with 1 Axes>"
      ],
      "image/png": "[encoded data removed]"
     },
     "metadata": {},
     "output_type": "display_data",
     "jetTransient": {
      "display_id": null
     }
    }
   ],
   "execution_count": 14
  }
 ],
 "metadata": {
  "kernelspec": {
   "display_name": "Python 3",
   "language": "python",
   "name": "python3"
  },
  "language_info": {
   "codemirror_mode": {
    "name": "ipython",
    "version": 2
   },
   "file_extension": ".py",
   "mimetype": "text/x-python",
   "name": "python",
   "nbconvert_exporter": "python",
   "pygments_lexer": "ipython2",
   "version": "2.7.6"
  }
 },
 "nbformat": 4,
 "nbformat_minor": 5
}
