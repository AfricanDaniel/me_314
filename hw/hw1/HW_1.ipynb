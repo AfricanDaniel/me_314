{
 "cells": [
  {
   "metadata": {
    "collapsed": true
   },
   "cell_type": "markdown",
   "source": [
    "# ME314 Homework 1\n",
    "\n",
    "###Submission instructions\n",
    "\n",
    "Deliverables that should be included with your submission are shown in **bold** at the end of each problem statement and the corresponding supplemental material. Your homework will be graded IFF you submit a **single** PDF and a link to a Google colab file that meet all the requirements outlined below.\n",
    "\n",
    "- List the names of students you've collaborated with on this homework assignment.\n",
    "- Include all of your code (and handwritten solutions when applicable) used to complete the problems.\n",
    "- Highlight your answers (i.e. **bold** and outline the answers) for handwritten or markdown questions and include simplified code outputs (e.g. .simplify()) for python questions.\n",
    "- Enable Google Colab permission for viewing\n",
    " * Click Share in the upper right corner\n",
    " * Under \"Get Link\" click \"Share with...\" or \"Change\"\n",
    " * Then make sure it says \"Anyone with Link\" and \"Editor\" under the dropdown menu\n",
    "- Make sure all cells are run before submitting (i.e. check the permission by running your code in a private mode)\n",
    " * Please don't make changes to your file after submitting, so we can grade it!\n",
    "- Submit a link to your Google Colab file that has been run (before the submission deadline) and don't edit it afterwards!\n",
    "\n",
    "**NOTE:** This Juputer Notebook file serves as a template for you to start homework. Make sure you first copy this template to your own Google driver (click \"File\" -> \"Save a copy in Drive\"), and then start to edit it."
   ],
   "id": "8d129dfd6c36b77c"
  },
  {
   "metadata": {
    "ExecuteTime": {
     "end_time": "2025-10-01T20:47:12.787722Z",
     "start_time": "2025-10-01T20:47:12.784606Z"
    }
   },
   "cell_type": "code",
   "source": [
    "#IMPORT ALL NECESSARY PACKAGES AT THE TOP OF THE CODE\n",
    "import sympy as sym\n",
    "import sympy as sp\n",
    "import numpy as np\n",
    "import matplotlib.pyplot as plt"
   ],
   "id": "c423a92f145b67f7",
   "outputs": [],
   "execution_count": 49
  },
  {
   "metadata": {
    "ExecuteTime": {
     "end_time": "2025-10-01T20:47:13.458713Z",
     "start_time": "2025-10-01T20:47:13.454514Z"
    }
   },
   "cell_type": "code",
   "source": [
    "try:\n",
    "    # Only works in Google Colab\n",
    "    from google.colab.output._publish import javascript\n",
    "\n",
    "    def custom_latex_printer(exp, **options):\n",
    "        url = \"https://cdnjs.cloudflare.com/ajax/libs/mathjax/3.1.1/latest.js?config=TeX-AMS_HTML\"\n",
    "        javascript(url=url)\n",
    "        return sym.printing.latex(exp, **options)\n",
    "    sym.init_printing(use_latex=\"mathjax\", latex_printer=custom_latex_printer)\n",
    "\n",
    "except ModuleNotFoundError:\n",
    "    # Fallback for Jupyter or other environments\n",
    "    sym.init_printing(use_latex=\"mathjax\")"
   ],
   "id": "b17a016bdb63d204",
   "outputs": [],
   "execution_count": 50
  },
  {
   "metadata": {},
   "cell_type": "markdown",
   "source": [
    "\n",
    "\n",
    "```\n",
    "# This is formatted as code\n",
    "```\n",
    "\n",
    "## Problem 1 (15pts)"
   ],
   "id": "baa85ebf00e614cd"
  },
  {
   "metadata": {
    "ExecuteTime": {
     "end_time": "2025-10-01T20:47:16.885718Z",
     "start_time": "2025-10-01T20:47:16.881395Z"
    }
   },
   "cell_type": "code",
   "source": [
    "from IPython.core.display import HTML\n",
    "display(HTML(\"<table><tr><td><img src='https://github.com/MuchenSun/ME314pngs/raw/master/2mass_spring.png' width=500' height='350'></table>\"))"
   ],
   "id": "db61a8a42842590b",
   "outputs": [
    {
     "data": {
      "text/plain": [
       "<IPython.core.display.HTML object>"
      ],
      "text/html": [
       "<table><tr><td><img src='https://github.com/MuchenSun/ME314pngs/raw/master/2mass_spring.png' width=500' height='350'></table>"
      ]
     },
     "metadata": {},
     "output_type": "display_data",
     "jetTransient": {
      "display_id": null
     }
    }
   ],
   "execution_count": 51
  },
  {
   "metadata": {},
   "cell_type": "markdown",
   "source": [
    "As shown in the image above, a block of mass $m_1$ is on one side connected to a wall by a massless spring with a spring constant $k_1$ and on another side to a block of mass $m_2$ by a massless spring with a spring constant $k_2$. Assume that the two springs have lengths of zero when \"relaxed\", they are stretched with any positive displacement $\\Delta x > 0$, and the magnitude of the force can be computed using Hooke's law $|F| = k \\Delta x$, where $k$ is the spring constant. Furthermore, there is no friction between the blocks and the ground.\n",
    "\n",
    "Given masses $m_1=1kg$ and $ m_2=2kg$, spring constants $k_1=0.5N/m$ and $k_2=0.8N/m$, and positions of the blocks as $x_1$ and $x_2$, use Newton's law $F=ma$ to compute the accelerations of the blocks $a_1=\\ddot{x}_1$ and $a_2=\\ddot{x}_2$. You need to use Pythons's SymPy package to solve for symbolic solutions, as well as numerically evaluate your solutions for $a_1$ and $a_2$ as functions of $x_1$ and $x_2$ respectively. Test your numerical functions with $x_1=1m$ and $x_2=3m$ as function inputs.\n",
    "\n",
    "*Hint 1: You will have two equations based on Newton's law $F=ma$ for each block. Thus, for each block you need to write down its $F$ in terms of $x_1$ and $x_2$ (which can be defined as symbols in SymPy).*\n",
    "\n",
    "*Hint 2: You will need to use SymPy's **`solve()`** and **`lambdify()`** methods in this problem as seen in Homework 0. This problem is very similar to Problem 5 in Homework 0, except that (1) you need to write down the equations yourself, and (2) you don't need to solve the equations simultaneously - you can solve them one by one for each block. Feel free to take the example code in Homework 0 as a starting point.*\n",
    "\n",
    "*Hint 3: You will need to use **`lambdify()`** to numerically evaluate a function with multiple variables. Below is an example.*"
   ],
   "id": "9d7482b20304565"
  },
  {
   "metadata": {
    "ExecuteTime": {
     "end_time": "2025-10-01T20:37:12.617074Z",
     "start_time": "2025-10-01T20:37:12.557567Z"
    }
   },
   "cell_type": "code",
   "source": [
    "# Define symbols\n",
    "x1, x2 = sym.symbols('x1 x2')\n",
    "m1, m2 = sym.symbols('m1 m2')\n",
    "k1, k2 = sym.symbols('k1 k2')\n",
    "a1, a2 = sym.symbols('a1 a2')\n",
    "\n",
    "# Equations from Newton's second law\n",
    "eq1 = sym.Eq(m1*a1, -k1*x1 + k2*(x2 - x1))\n",
    "eq2 = sym.Eq(m2*a2, -k2*(x2 - x1))\n",
    "\n",
    "# Solve equations for accelerations\n",
    "sol_a1 = sym.solve(eq1, a1)[0]\n",
    "sol_a2 = sym.solve(eq2, a2)[0]\n",
    "\n",
    "display(sym.Eq(a1, sol_a1))\n",
    "display(sym.Eq(a2, sol_a2))\n",
    "\n",
    "# Substitute numerical values\n",
    "subs_vals = {m1: 1, m2: 2, k1: 0.5, k2: 0.8}\n",
    "\n",
    "a1_num = sol_a1.subs(subs_vals)\n",
    "a2_num = sol_a2.subs(subs_vals)\n",
    "\n",
    "# Lambdify for numerical evaluation\n",
    "a1_func = sym.lambdify((x1, x2), a1_num)\n",
    "a2_func = sym.lambdify((x1, x2), a2_num)\n",
    "\n",
    "# Test with x1 = 1, x2 = 3\n",
    "print('\\n\\033[1mTest at x_1=1, x_2=2 : \\033[0m{:.2f}'.format(a1_func(1,3)))\n",
    "print('\\n\\033[1mTest at x_1=1, x_2=2 : \\033[0m{:.2f}'.format(a2_func(1,3)))\n",
    "\n"
   ],
   "id": "54f89e2543e1bcbc",
   "outputs": [
    {
     "data": {
      "text/plain": [
       "     -k₁⋅x₁ - k₂⋅x₁ + k₂⋅x₂\n",
       "a₁ = ──────────────────────\n",
       "               m₁          "
      ],
      "text/latex": "$\\displaystyle a_{1} = \\frac{- k_{1} x_{1} - k_{2} x_{1} + k_{2} x_{2}}{m_{1}}$"
     },
     "metadata": {},
     "output_type": "display_data",
     "jetTransient": {
      "display_id": null
     }
    },
    {
     "data": {
      "text/plain": [
       "     k₂⋅(x₁ - x₂)\n",
       "a₂ = ────────────\n",
       "          m₂     "
      ],
      "text/latex": "$\\displaystyle a_{2} = \\frac{k_{2} \\left(x_{1} - x_{2}\\right)}{m_{2}}$"
     },
     "metadata": {},
     "output_type": "display_data",
     "jetTransient": {
      "display_id": null
     }
    },
    {
     "name": "stdout",
     "output_type": "stream",
     "text": [
      "\n",
      "\u001B[1mTest at x_1=1, x_2=2 : \u001B[0m1.10\n",
      "\n",
      "\u001B[1mTest at x_1=1, x_2=2 : \u001B[0m-0.80\n"
     ]
    }
   ],
   "execution_count": 45
  },
  {
   "metadata": {},
   "cell_type": "markdown",
   "source": "\\**Turn in: A copy of the code used to solve for symbolic solutions and evaluate them as numerical functions, output of the code as well as the test results for numerical functions.**",
   "id": "4b0566f4165ba734"
  },
  {
   "metadata": {},
   "cell_type": "markdown",
   "source": "## paper here",
   "id": "e46cba2ccd581897"
  },
  {
   "metadata": {},
   "cell_type": "markdown",
   "source": [
    "## Problem 2 (10pts)\n",
    "\n",
    "For the same system in Problem 1, compute the Lagrangian of the system using Python's SymPy package with $x_1$, $x_2$ as system configuration variables.\n",
    "\n",
    "*Hint 1: For an object with mass $m$ and velocity $v$, its kinetic energy is $\\frac{1}{2} mv^2$.*\n",
    "\n",
    "*Hint 2: For a spring stretched with displacement $\\Delta x$ and spring ratio $k$, its potential energy is $\\frac{1}{2} k (\\Delta x)^2$. Also, the springs have zero mass.*\n",
    "\n",
    "*Hint 3: Since $x_1$ and $x_2$ are actually functions of time $t$, in order to compute Euler-Lagrange equations you will need to take their derivative with respect to $t$. Instead of defining position and velocity as two separate symbols, you need to define position as SymPy's **Function** object and the velocity as the derivative of that function with respect to time $t$. An example is provided below.*"
   ],
   "id": "60b115a508072c1e"
  },
  {
   "metadata": {
    "ExecuteTime": {
     "end_time": "2025-10-01T20:56:13.636142Z",
     "start_time": "2025-10-01T20:56:13.617469Z"
    }
   },
   "cell_type": "code",
   "source": [
    "# Time variable\n",
    "t = sp.symbols('t')\n",
    "T_sym, V_sym , L_sym = sym.symbols('T V L')\n",
    "\n",
    "# Generalized coordinates as functions of time\n",
    "x1 = sp.Function('x1')(t)\n",
    "x2 = sp.Function('x2')(t)\n",
    "\n",
    "# Masses and spring constants\n",
    "m1, m2, k1, k2 = sp.symbols('m1 m2 k1 k2')\n",
    "\n",
    "# Velocities\n",
    "x1_dot = sp.diff(x1, t)\n",
    "x2_dot = sp.diff(x2, t)\n",
    "\n",
    "# Kinetic energy\n",
    "T = (1/2)*m1*x1_dot**2 + (1/2)*m2*x2_dot**2\n",
    "\n",
    "# Potential energy\n",
    "V = (1/2)*k1*x1**2 + (1/2)*k2*(x2 - x1)**2\n",
    "\n",
    "# Lagrangian\n",
    "L = T - V\n",
    "\n",
    "display(sym.Eq(T_sym, T))\n",
    "display(sym.Eq(V_sym, V))\n",
    "display(sym.Eq(L_sym, L))\n"
   ],
   "id": "704b33ae1db9fefd",
   "outputs": [
    {
     "data": {
      "text/plain": [
       "                      2                     2\n",
       "           ⎛d        ⎞           ⎛d        ⎞ \n",
       "T = 0.5⋅m₁⋅⎜──(x₁(t))⎟  + 0.5⋅m₂⋅⎜──(x₂(t))⎟ \n",
       "           ⎝dt       ⎠           ⎝dt       ⎠ "
      ],
      "text/latex": "$\\displaystyle T = 0.5 m_{1} \\left(\\frac{d}{d t} x_{1}{\\left(t \\right)}\\right)^{2} + 0.5 m_{2} \\left(\\frac{d}{d t} x_{2}{\\left(t \\right)}\\right)^{2}$"
     },
     "metadata": {},
     "output_type": "display_data",
     "jetTransient": {
      "display_id": null
     }
    },
    {
     "data": {
      "text/plain": [
       "             2                             2\n",
       "V = 0.5⋅k₁⋅x₁ (t) + 0.5⋅k₂⋅(-x₁(t) + x₂(t)) "
      ],
      "text/latex": "$\\displaystyle V = 0.5 k_{1} x_{1}^{2}{\\left(t \\right)} + 0.5 k_{2} \\left(- x_{1}{\\left(t \\right)} + x_{2}{\\left(t \\right)}\\right)^{2}$"
     },
     "metadata": {},
     "output_type": "display_data",
     "jetTransient": {
      "display_id": null
     }
    },
    {
     "data": {
      "text/plain": [
       "                                                                   2           ↪\n",
       "               2                             2          ⎛d        ⎞            ↪\n",
       "L = - 0.5⋅k₁⋅x₁ (t) - 0.5⋅k₂⋅(-x₁(t) + x₂(t))  + 0.5⋅m₁⋅⎜──(x₁(t))⎟  + 0.5⋅m₂⋅ ↪\n",
       "                                                        ⎝dt       ⎠            ↪\n",
       "\n",
       "↪            2\n",
       "↪ ⎛d        ⎞ \n",
       "↪ ⎜──(x₂(t))⎟ \n",
       "↪ ⎝dt       ⎠ "
      ],
      "text/latex": "$\\displaystyle L = - 0.5 k_{1} x_{1}^{2}{\\left(t \\right)} - 0.5 k_{2} \\left(- x_{1}{\\left(t \\right)} + x_{2}{\\left(t \\right)}\\right)^{2} + 0.5 m_{1} \\left(\\frac{d}{d t} x_{1}{\\left(t \\right)}\\right)^{2} + 0.5 m_{2} \\left(\\frac{d}{d t} x_{2}{\\left(t \\right)}\\right)^{2}$"
     },
     "metadata": {},
     "output_type": "display_data",
     "jetTransient": {
      "display_id": null
     }
    }
   ],
   "execution_count": 52
  },
  {
   "metadata": {},
   "cell_type": "markdown",
   "source": [
    "## Problem 3 (10pts)\n",
    "\n",
    "Based on your solution for Problem 2, compute the Euler-Lagrange equations for this system.\n",
    "\n",
    "*Hint 1: In this problem, the system has two configuration variables. Thus, when taking the derivative of the Lagrangian with respect to the system state vector, the derivative is also a vector (sometimes also called the Jacobian of the Lagrangian with respect to system states). Below is an example of several ways to compute the derivative with respect to a vector in SymPy.*"
   ],
   "id": "920cd9099c8ff8c7"
  },
  {
   "metadata": {
    "ExecuteTime": {
     "end_time": "2025-10-01T21:08:30.992544Z",
     "start_time": "2025-10-01T21:08:30.913679Z"
    }
   },
   "cell_type": "code",
   "source": [
    "t = sp.symbols('t')\n",
    "x1 = sp.Function('x1')(t)\n",
    "x2 = sp.Function('x2')(t)\n",
    "m1, m2, k1, k2 = sp.symbols('m1 m2 k1 k2')\n",
    "\n",
    "x1d = sp.diff(x1, t)\n",
    "x2d = sp.diff(x2, t)\n",
    "\n",
    "T = sp.Rational(1,2)*m1*x1d**2 + sp.Rational(1,2)*m2*x2d**2\n",
    "V = sp.Rational(1,2)*k1*x1**2 + sp.Rational(1,2)*k2*(x2 - x1)**2\n",
    "L = T - V\n",
    "\n",
    "# Euler-Lagrange for x1\n",
    "dLd_x1dot = sp.diff(L, x1d)\n",
    "d_dt__dLd_x1dot = sp.diff(dLd_x1dot, t)\n",
    "dLd_x1 = sp.diff(L, x1)\n",
    "EL1 = sp.simplify(d_dt__dLd_x1dot - dLd_x1)\n",
    "\n",
    "# Euler-Lagrange for x2\n",
    "dLd_x2dot = sp.diff(L, x2d)\n",
    "d_dt__dLd_x2dot = sp.diff(dLd_x2dot, t)\n",
    "dLd_x2 = sp.diff(L, x2)\n",
    "EL2 = sp.simplify(d_dt__dLd_x2dot - dLd_x2)\n",
    "\n",
    "el_eqns = [EL1, EL2]\n",
    "\n",
    "display(el_eqns)"
   ],
   "id": "5ecda5fbcc54a6ec",
   "outputs": [
    {
     "data": {
      "text/plain": [
       "⎡                                    2                                    2    ↪\n",
       "⎢                                   d                                    d     ↪\n",
       "⎢k₁⋅x₁(t) + k₂⋅(x₁(t) - x₂(t)) + m₁⋅───(x₁(t)), -k₂⋅(x₁(t) - x₂(t)) + m₂⋅───(x ↪\n",
       "⎢                                     2                                    2   ↪\n",
       "⎣                                   dt                                   dt    ↪\n",
       "\n",
       "↪      ⎤\n",
       "↪      ⎥\n",
       "↪ ₂(t))⎥\n",
       "↪      ⎥\n",
       "↪      ⎦"
      ],
      "text/latex": "$\\displaystyle \\left[ k_{1} x_{1}{\\left(t \\right)} + k_{2} \\left(x_{1}{\\left(t \\right)} - x_{2}{\\left(t \\right)}\\right) + m_{1} \\frac{d^{2}}{d t^{2}} x_{1}{\\left(t \\right)}, \\  - k_{2} \\left(x_{1}{\\left(t \\right)} - x_{2}{\\left(t \\right)}\\right) + m_{2} \\frac{d^{2}}{d t^{2}} x_{2}{\\left(t \\right)}\\right]$"
     },
     "metadata": {},
     "output_type": "display_data",
     "jetTransient": {
      "display_id": null
     }
    }
   ],
   "execution_count": 56
  },
  {
   "metadata": {},
   "cell_type": "markdown",
   "source": [
    "## Problem 4 (15pts)\n",
    "\n",
    "Based on your Euler-Lagrange equations from Problem 3, use Python's SymPy package to solve the equations for the accelerations of the two blocks $\\ddot{x}_1, \\ddot{x}_2$, in terms of position $x_1, x_2$, and velocity $\\dot{x}_1, \\dot{x}_2$. Compare your answer to Problem 1 to see if they match with each other and comment if this is not the case.\n",
    "\n",
    "*Hint 1: Since you need to solve a set of multiple equations symbolically in SymPy, it's recommended to wrap both sides of the equations into SymPy's Matrix object. As an example, below is the code solving the following set of equations (feel free to use this code as a starting point).*\n",
    "$$\n",
    "\\begin{aligned}\n",
    "\\left\\{\n",
    "    \\begin{array}{ll}\n",
    "      x^2 + y = 3 \\\\\n",
    "      x + y = 1\n",
    "    \\end{array}\n",
    "\\right.\n",
    "\\end{aligned}\n",
    "$$"
   ],
   "id": "4cb8063aea4d780a"
  },
  {
   "metadata": {
    "ExecuteTime": {
     "end_time": "2025-10-01T21:11:37.483270Z",
     "start_time": "2025-10-01T21:11:37.448786Z"
    }
   },
   "cell_type": "code",
   "source": [
    "# Symbols\n",
    "t = sp.symbols('t')\n",
    "x1 = sp.Function('x1')(t)\n",
    "x2 = sp.Function('x2')(t)\n",
    "m1, m2, k1, k2 = sp.symbols('m1 m2 k1 k2')\n",
    "\n",
    "# Second derivatives\n",
    "x1dd = sp.Function('x1dd')(t)  # placeholder, will solve explicitly\n",
    "x2dd = sp.Function('x2dd')(t)\n",
    "\n",
    "# Accelerations (actually we want to solve for these)\n",
    "xdd1 = sp.Symbol('xdd1')\n",
    "xdd2 = sp.Symbol('xdd2')\n",
    "\n",
    "# Equations (from Problem 3)\n",
    "eq1 = sp.Eq(m1*xdd1 + k1*x1 + k2*(x1 - x2), 0)\n",
    "eq2 = sp.Eq(m2*xdd2 + k2*(x2 - x1), 0)\n",
    "\n",
    "# Solve simultaneously for accelerations\n",
    "solutions = sp.solve([eq1, eq2], [xdd1, xdd2])\n",
    "\n",
    "# Matrix to display sln\n",
    "el_eqns = [el_eqns[0], el_eqns[1]]\n",
    "rhs = sym.Matrix([0, 0])\n",
    "eqn = sym.Eq(solutions, rhs)\n",
    "display(eqn)\n",
    "\n",
    "display(sym.Eq(xdd1, solutions[xdd1]))\n",
    "display(sym.Eq(xdd2, solutions[xdd2]))\n"
   ],
   "id": "7c7c59c4aca2f117",
   "outputs": [
    {
     "data": {
      "text/plain": [
       "⎧        k₁⋅x₁(t)   k₂⋅x₁(t)   k₂⋅x₂(t)        k₂⋅x₁(t)   k₂⋅x₂(t)⎫   ⎡0⎤\n",
       "⎨xdd₁: - ──────── - ──────── + ────────, xdd₂: ──────── - ────────⎬ = ⎢ ⎥\n",
       "⎩           m₁         m₁         m₁              m₂         m₂   ⎭   ⎣0⎦"
      ],
      "text/latex": "$\\displaystyle \\left\\{ xdd_{1} : - \\frac{k_{1} x_{1}{\\left(t \\right)}}{m_{1}} - \\frac{k_{2} x_{1}{\\left(t \\right)}}{m_{1}} + \\frac{k_{2} x_{2}{\\left(t \\right)}}{m_{1}}, \\  xdd_{2} : \\frac{k_{2} x_{1}{\\left(t \\right)}}{m_{2}} - \\frac{k_{2} x_{2}{\\left(t \\right)}}{m_{2}}\\right\\} = \\left[\\begin{matrix}0\\\\0\\end{matrix}\\right]$"
     },
     "metadata": {},
     "output_type": "display_data",
     "jetTransient": {
      "display_id": null
     }
    },
    {
     "data": {
      "text/plain": [
       "         k₁⋅x₁(t)   k₂⋅x₁(t)   k₂⋅x₂(t)\n",
       "xdd₁ = - ──────── - ──────── + ────────\n",
       "            m₁         m₁         m₁   "
      ],
      "text/latex": "$\\displaystyle xdd_{1} = - \\frac{k_{1} x_{1}{\\left(t \\right)}}{m_{1}} - \\frac{k_{2} x_{1}{\\left(t \\right)}}{m_{1}} + \\frac{k_{2} x_{2}{\\left(t \\right)}}{m_{1}}$"
     },
     "metadata": {},
     "output_type": "display_data",
     "jetTransient": {
      "display_id": null
     }
    },
    {
     "data": {
      "text/plain": [
       "       k₂⋅x₁(t)   k₂⋅x₂(t)\n",
       "xdd₂ = ──────── - ────────\n",
       "          m₂         m₂   "
      ],
      "text/latex": "$\\displaystyle xdd_{2} = \\frac{k_{2} x_{1}{\\left(t \\right)}}{m_{2}} - \\frac{k_{2} x_{2}{\\left(t \\right)}}{m_{2}}$"
     },
     "metadata": {},
     "output_type": "display_data",
     "jetTransient": {
      "display_id": null
     }
    }
   ],
   "execution_count": 58
  },
  {
   "metadata": {},
   "cell_type": "markdown",
   "source": "## Problem 5 (10pts)\n",
   "id": "c2a96a3482cfd0a6"
  },
  {
   "metadata": {
    "ExecuteTime": {
     "end_time": "2025-10-01T20:17:47.622574Z",
     "start_time": "2025-10-01T20:17:47.618514Z"
    }
   },
   "cell_type": "code",
   "source": [
    "from IPython.core.display import HTML\n",
    "display(HTML(\"<table><tr><td><img src='https://raw.githubusercontent.com/MuchenSun/ME314pngs/master/dyninvpend.png' width=500' height='350'></table>\"))"
   ],
   "id": "465623a0db5aa161",
   "outputs": [
    {
     "data": {
      "text/plain": [
       "<IPython.core.display.HTML object>"
      ],
      "text/html": [
       "<table><tr><td><img src='https://raw.githubusercontent.com/MuchenSun/ME314pngs/master/dyninvpend.png' width=500' height='350'></table>"
      ]
     },
     "metadata": {},
     "output_type": "display_data",
     "jetTransient": {
      "display_id": null
     }
    }
   ],
   "execution_count": 37
  },
  {
   "metadata": {},
   "cell_type": "markdown",
   "source": [
    "\n",
    "You are given the unforced inverted cart-pendulum as shown below. The pendulum is in gravity and can swing freely (the cart will not interfere with pendulum's motion). The cart can move freely in the horizontal direction. Take $x$ and $\\theta$ as the system configuration variables and compute the Lagrangian of the system using Python's SymPy package. Provide symoblic solution of the Lagrangian with $m$, $R$, and $M$ as symbols instead of given constants.\n",
    "\n",
    "*Hint 1: Assume that the positive direction for the rotation of the pendulum $\\dot{\\theta}$ is clockwise. Likewise, the positive direction for the translation of the cart is to the right.*\n",
    "\n",
    "*Hint 2: You will need to define $m$, $R$, and $M$ as SymPy's symbols.*\n",
    "\n",
    "*Hint 3: Note that the pendulum is attached to the cart! In order to compute the kinetic energy of the pendulum, the velocity of the cart needs to be considered. One suggestion is to compute the velocity of the pendulum in a different coordinate system (other than Cartesian with $x$ and $y$ coordinates).*"
   ],
   "id": "ab7588ea28be7ea6"
  },
  {
   "metadata": {
    "ExecuteTime": {
     "end_time": "2025-10-01T20:41:42.037707Z",
     "start_time": "2025-10-01T20:41:41.933712Z"
    }
   },
   "cell_type": "code",
   "source": [
    "# Symbols\n",
    "M, m, R, g = sp.symbols('M m R g', real=True, positive=True)\n",
    "x, theta = sp.symbols('x theta', real=True)\n",
    "xdot, thetadot = sp.symbols('xdot thetadot', real=True)\n",
    "T_sym, V_sym , L_sym = sym.symbols('T V L')\n",
    "\n",
    "\n",
    "# Kinetic energy\n",
    "T_cart = 0.5 * M * xdot**2\n",
    "T_pend = 0.5 * m * ((xdot + R*sp.cos(theta)*thetadot)**2 + (R*sp.sin(theta)*thetadot)**2)\n",
    "T = T_cart + T_pend\n",
    "\n",
    "# Potential energy\n",
    "V = -m*g*R*sp.cos(theta)\n",
    "\n",
    "# Lagrangian\n",
    "L = sp.simplify(T - V)\n",
    "\n",
    "display(sym.Eq(T_sym, T))\n",
    "display(sym.Eq(V_sym, V))\n",
    "display(sym.Eq(L_sym, L))"
   ],
   "id": "834d3b6e24ad1397",
   "outputs": [
    {
     "data": {
      "text/plain": [
       "           2         ⎛ 2  2    2                      2⎞\n",
       "T = 0.5⋅M⋅ẋ  + 0.5⋅m⋅⎝R ⋅θ̇ ⋅sin (θ) + (R⋅θ̇⋅cos(θ) + ẋ) ⎠"
      ],
      "text/latex": "$\\displaystyle T = 0.5 M \\dot{x}^{2} + 0.5 m \\left(R^{2} \\dot{\\theta}^{2} \\sin^{2}{\\left(\\theta \\right)} + \\left(R \\dot{\\theta} \\cos{\\left(\\theta \\right)} + \\dot{x}\\right)^{2}\\right)$"
     },
     "metadata": {},
     "output_type": "display_data",
     "jetTransient": {
      "display_id": null
     }
    },
    {
     "data": {
      "text/plain": [
       "V = -R⋅g⋅m⋅cos(θ)"
      ],
      "text/latex": "$\\displaystyle V = - R g m \\cos{\\left(\\theta \\right)}$"
     },
     "metadata": {},
     "output_type": "display_data",
     "jetTransient": {
      "display_id": null
     }
    },
    {
     "data": {
      "text/plain": [
       "           2                        ⎛ 2  2                     2⎞\n",
       "L = 0.5⋅M⋅ẋ  + R⋅g⋅m⋅cos(θ) + 0.5⋅m⋅⎝R ⋅θ̇  + 2⋅R⋅θ̇⋅ẋ⋅cos(θ) + ẋ ⎠"
      ],
      "text/latex": "$\\displaystyle L = 0.5 M \\dot{x}^{2} + R g m \\cos{\\left(\\theta \\right)} + 0.5 m \\left(R^{2} \\dot{\\theta}^{2} + 2 R \\dot{\\theta} \\dot{x} \\cos{\\left(\\theta \\right)} + \\dot{x}^{2}\\right)$"
     },
     "metadata": {},
     "output_type": "display_data",
     "jetTransient": {
      "display_id": null
     }
    }
   ],
   "execution_count": 48
  },
  {
   "metadata": {
    "ExecuteTime": {
     "end_time": "2025-10-01T20:56:49.378793Z",
     "start_time": "2025-10-01T20:56:49.361442Z"
    }
   },
   "cell_type": "code",
   "source": [
    "# Time variable\n",
    "t = sp.symbols('t')\n",
    "g = sp.symbols('g')\n",
    "\n",
    "T_sym, V_sym , L_sym = sym.symbols('T V L')\n",
    "\n",
    "# Generalized coordinates as functions of time\n",
    "x = sp.Function('x')(t)\n",
    "theta = sp.Function(r'\\theta')(t)\n",
    "\n",
    "# Masses and constants\n",
    "M, m, R = sp.symbols('M m R')\n",
    "\n",
    "# Velocities\n",
    "x1_dot = sp.diff(x, t)\n",
    "theta_dot = sp.diff(theta, t)\n",
    "\n",
    "# Kinetic energy\n",
    "T = (sp.Rational(1,2) * (M + m) * x1_dot**2 + sp.Rational(1,2) * m * R**2 * theta_dot**2\n",
    "     + R * m * sym.cos(theta) * theta_dot * x1_dot)\n",
    "\n",
    "# Potential energy\n",
    "V = R * m * sym.sin(theta) * g\n",
    "\n",
    "# Lagrangian\n",
    "L = T - V\n",
    "\n",
    "display(sym.Eq(T_sym, T))\n",
    "display(sym.Eq(V_sym, V))\n",
    "display(sym.Eq(L_sym, L))\n",
    "\n",
    "\n",
    "#display(\"Kinetic Energy T =\", T)\n",
    "#display(\"Potential Energy V =\", V)\n",
    "#display(\"Lagrangian L =\", L)\n"
   ],
   "id": "9dd92385d63a2d90",
   "outputs": [
    {
     "data": {
      "text/plain": [
       "                        2                                                      ↪\n",
       "     2   ⎛d            ⎞                                                       ↪\n",
       "    R ⋅m⋅⎜──(\\theta(t))⎟                                                       ↪\n",
       "         ⎝dt           ⎠                       d             d          ⎛M   m ↪\n",
       "T = ───────────────────── + R⋅m⋅cos(\\theta(t))⋅──(\\theta(t))⋅──(x(t)) + ⎜─ + ─ ↪\n",
       "              2                                dt            dt         ⎝2   2 ↪\n",
       "\n",
       "↪              \n",
       "↪              \n",
       "↪             2\n",
       "↪ ⎞ ⎛d       ⎞ \n",
       "↪ ⎟⋅⎜──(x(t))⎟ \n",
       "↪ ⎠ ⎝dt      ⎠ "
      ],
      "text/latex": "$\\displaystyle T = \\frac{R^{2} m \\left(\\frac{d}{d t} \\theta{\\left(t \\right)}\\right)^{2}}{2} + R m \\cos{\\left(\\theta{\\left(t \\right)} \\right)} \\frac{d}{d t} \\theta{\\left(t \\right)} \\frac{d}{d t} x{\\left(t \\right)} + \\left(\\frac{M}{2} + \\frac{m}{2}\\right) \\left(\\frac{d}{d t} x{\\left(t \\right)}\\right)^{2}$"
     },
     "metadata": {},
     "output_type": "display_data",
     "jetTransient": {
      "display_id": null
     }
    },
    {
     "data": {
      "text/plain": [
       "V = R⋅g⋅m⋅sin(\\theta(t))"
      ],
      "text/latex": "$\\displaystyle V = R g m \\sin{\\left(\\theta{\\left(t \\right)} \\right)}$"
     },
     "metadata": {},
     "output_type": "display_data",
     "jetTransient": {
      "display_id": null
     }
    },
    {
     "data": {
      "text/plain": [
       "                        2                                                      ↪\n",
       "     2   ⎛d            ⎞                                                       ↪\n",
       "    R ⋅m⋅⎜──(\\theta(t))⎟                                                       ↪\n",
       "         ⎝dt           ⎠                                              d        ↪\n",
       "L = ───────────────────── - R⋅g⋅m⋅sin(\\theta(t)) + R⋅m⋅cos(\\theta(t))⋅──(\\thet ↪\n",
       "              2                                                       dt       ↪\n",
       "\n",
       "↪                                     \n",
       "↪                                     \n",
       "↪                                    2\n",
       "↪       d          ⎛M   m⎞ ⎛d       ⎞ \n",
       "↪ a(t))⋅──(x(t)) + ⎜─ + ─⎟⋅⎜──(x(t))⎟ \n",
       "↪       dt         ⎝2   2⎠ ⎝dt      ⎠ "
      ],
      "text/latex": "$\\displaystyle L = \\frac{R^{2} m \\left(\\frac{d}{d t} \\theta{\\left(t \\right)}\\right)^{2}}{2} - R g m \\sin{\\left(\\theta{\\left(t \\right)} \\right)} + R m \\cos{\\left(\\theta{\\left(t \\right)} \\right)} \\frac{d}{d t} \\theta{\\left(t \\right)} \\frac{d}{d t} x{\\left(t \\right)} + \\left(\\frac{M}{2} + \\frac{m}{2}\\right) \\left(\\frac{d}{d t} x{\\left(t \\right)}\\right)^{2}$"
     },
     "metadata": {},
     "output_type": "display_data",
     "jetTransient": {
      "display_id": null
     }
    }
   ],
   "execution_count": 53
  },
  {
   "metadata": {},
   "cell_type": "markdown",
   "source": [
    "## Problem 6 (15pts)\n",
    "\n",
    "Based on your solution in Problem 5, compute the Euler-Lagrange equations for this inverted cart-pendulun system using Python's SymPy package.\n",
    "\n",
    "**Turn in: A copy of the code used to symbolically compute Euler-Lagrange equations  and the code output (i.e. the computed expression of the Lagrangian).**"
   ],
   "id": "c93729ba45a472f6"
  },
  {
   "metadata": {
    "ExecuteTime": {
     "end_time": "2025-10-01T20:57:53.926973Z",
     "start_time": "2025-10-01T20:57:53.802175Z"
    }
   },
   "cell_type": "code",
   "source": [
    "# Time variable\n",
    "t = sp.symbols('t')\n",
    "g = sp.symbols('g')\n",
    "\n",
    "T_sym, V_sym , L_sym = sym.symbols('T V L')\n",
    "\n",
    "# Generalized coordinates as functions of time\n",
    "x = sp.Function('x')(t)\n",
    "theta = sp.Function(r'\\theta')(t)\n",
    "\n",
    "# Masses and constants\n",
    "M, m, R = sp.symbols('M m R')\n",
    "\n",
    "# Velocities\n",
    "x1_dot = sp.diff(x, t)\n",
    "theta_dot = sp.diff(theta, t)\n",
    "\n",
    "# Kinetic energy\n",
    "T = (sp.Rational(1,2) * (M + m) * x1_dot**2 + sp.Rational(1,2) * m * R**2 * theta_dot**2\n",
    "     + R * m * sym.cos(theta) * theta_dot * x1_dot)\n",
    "#T = (1/2)*m1*x1_dot**2 + (1/2)*m2*x2_dot**2\n",
    "\n",
    "# Potential energy\n",
    "V = R * m * sym.sin(theta) * g\n",
    "#V = (1/2)*k1*x1**2 + (1/2)*k2*(x2 - x1)**2\n",
    "\n",
    "# Lagrangian\n",
    "L = T - V\n",
    "\n",
    "# Euler-Lagrange for x1\n",
    "dLd_x1dot = sp.diff(L, x1_dot)\n",
    "d_dt__dLd_x1dot = sp.diff(dLd_x1dot, t)\n",
    "dLd_x1 = sp.diff(L, x1)\n",
    "EL1 = sp.simplify(d_dt__dLd_x1dot - dLd_x1)\n",
    "\n",
    "# Euler-Lagrange for x2\n",
    "dLd_theta_dot = sp.diff(L, theta_dot)\n",
    "d_dt__dLd_theta_dot = sp.diff(dLd_theta_dot, t)\n",
    "dLd_x2 = sp.diff(L, theta)\n",
    "EL2 = sp.simplify(d_dt__dLd_theta_dot - dLd_x2)\n",
    "\n",
    "EL1, EL2"
   ],
   "id": "7faeba5b95e3944",
   "outputs": [
    {
     "data": {
      "text/plain": [
       "⎛                                    2                       2                 ↪\n",
       "⎜                     ⎛d            ⎞                       d                  ↪\n",
       "⎜- R⋅m⋅sin(\\theta(t))⋅⎜──(\\theta(t))⎟  + R⋅m⋅cos(\\theta(t))⋅───(\\theta(t)) + ( ↪\n",
       "⎜                     ⎝dt           ⎠                         2                ↪\n",
       "⎝                                                           dt                 ↪\n",
       "\n",
       "↪         2             ⎛   2                                                  ↪\n",
       "↪        d              ⎜  d                                                   ↪\n",
       "↪ M + m)⋅───(x(t)), R⋅m⋅⎜R⋅───(\\theta(t)) + g⋅cos(\\theta(t)) + cos(\\theta(t))⋅ ↪\n",
       "↪          2            ⎜    2                                                 ↪\n",
       "↪        dt             ⎝  dt                                                  ↪\n",
       "\n",
       "↪  2       ⎞⎞\n",
       "↪ d        ⎟⎟\n",
       "↪ ───(x(t))⎟⎟\n",
       "↪   2      ⎟⎟\n",
       "↪ dt       ⎠⎠"
      ],
      "text/latex": "$\\displaystyle \\left( - R m \\sin{\\left(\\theta{\\left(t \\right)} \\right)} \\left(\\frac{d}{d t} \\theta{\\left(t \\right)}\\right)^{2} + R m \\cos{\\left(\\theta{\\left(t \\right)} \\right)} \\frac{d^{2}}{d t^{2}} \\theta{\\left(t \\right)} + \\left(M + m\\right) \\frac{d^{2}}{d t^{2}} x{\\left(t \\right)}, \\  R m \\left(R \\frac{d^{2}}{d t^{2}} \\theta{\\left(t \\right)} + g \\cos{\\left(\\theta{\\left(t \\right)} \\right)} + \\cos{\\left(\\theta{\\left(t \\right)} \\right)} \\frac{d^{2}}{d t^{2}} x{\\left(t \\right)}\\right)\\right)$"
     },
     "execution_count": 54,
     "metadata": {},
     "output_type": "execute_result"
    }
   ],
   "execution_count": 54
  },
  {
   "metadata": {
    "ExecuteTime": {
     "end_time": "2025-10-01T20:07:11.553985Z",
     "start_time": "2025-10-01T20:07:11.551577Z"
    }
   },
   "cell_type": "markdown",
   "source": [
    "## Problem 7 (15pts)\n",
    "\n",
    "Find symbolic expressions of $\\ddot{x}$ and $\\ddot{\\theta}$ from the Euler-Lagrange equations in Problem 6 using SymPy's **`solve()`** method (NOTE: the expressions should be in terms of $x$, $\\theta$, $\\dot{x}$ and $\\dot{\\theta}$ only). Convert these results to numerical functions using SymPy's **`lambdify()`** method by substituting $M, m, R, g$ symbols with $M=2, m=1, R=1, g=9.8$ values. Test your numerical functions of $\\ddot{x}$ and $\\ddot{\\theta}$ by evaluating them given $x=0, \\theta=0.1, \\dot{x}=0, \\dot{\\theta}=0$ as function inputs.\n",
    "\n",
    "**Turn in: A copy of the code used to symbolically solve and numerically evaluate the solutions of Euler-Lagrange equations (i.e. $\\ddot{x}$ and $\\ddot{\\theta}$). Include the code output, consisting of symbolic expression of $\\ddot{x}$ and $\\ddot{\\theta}$, as well as your test results for the numerical evaluations.**"
   ],
   "id": "6d10f837f066afaa"
  },
  {
   "metadata": {
    "ExecuteTime": {
     "end_time": "2025-10-01T20:30:56.037374Z",
     "start_time": "2025-10-01T20:30:55.867063Z"
    }
   },
   "cell_type": "code",
   "source": [
    "xdd = sp.diff(x, (t,2))\n",
    "thdd = sp.diff(theta, (t,2))\n",
    "\n",
    "sol = sp.solve([EL1, EL2], [xdd, thdd], dict=True)[0]\n",
    "\n",
    "xdd_expr = sp.simplify(sol[xdd])\n",
    "thdd_expr = sp.simplify(sol[thdd])\n",
    "\n",
    "display(xdd_expr)\n",
    "#display(sym.Eq(xdd_expr, thdd_expr))\n",
    "#display(sym.Eq(xdd_expr, thdd_expr))\n",
    "\n",
    "#\n",
    "# print(\"\\nSolution for accelerations:\")\n",
    "# print(\"xdd = \")\n",
    "# sp.pprint(xdd_expr, use_unicode=True)\n",
    "# print(\"\\nthdd = \")\n",
    "# sp.pprint(thdd_expr, use_unicode=True)"
   ],
   "id": "db8d50e30fc6cce6",
   "outputs": [
    {
     "data": {
      "text/plain": [
       "  ⎛                                2                    ⎞\n",
       "  ⎜                 ⎛d            ⎞         2           ⎟\n",
       "m⋅⎜R⋅sin(\\theta(t))⋅⎜──(\\theta(t))⎟  + g⋅cos (\\theta(t))⎟\n",
       "  ⎝                 ⎝dt           ⎠                     ⎠\n",
       "─────────────────────────────────────────────────────────\n",
       "                           2                             \n",
       "                  M + m⋅sin (\\theta(t))                  "
      ],
      "text/latex": "$\\displaystyle \\frac{m \\left(R \\sin{\\left(\\theta{\\left(t \\right)} \\right)} \\left(\\frac{d}{d t} \\theta{\\left(t \\right)}\\right)^{2} + g \\cos^{2}{\\left(\\theta{\\left(t \\right)} \\right)}\\right)}{M + m \\sin^{2}{\\left(\\theta{\\left(t \\right)} \\right)}}$"
     },
     "metadata": {},
     "output_type": "display_data",
     "jetTransient": {
      "display_id": null
     }
    }
   ],
   "execution_count": 41
  },
  {
   "metadata": {},
   "cell_type": "markdown",
   "source": [
    "## Problem 8 (10pts)\n",
    "\n",
    "Based on your symbolic and numerical solutions for $\\ddot{x}(t)$ and $\\ddot{\\theta}(t)$, which are now functions of $x(t), \\theta(t), \\dot{x}(t)$ and $\\dot{\\theta}(t)$, simulate the system for $t\\in[0,10]$, with initial conditions $x(0)=0, \\theta(0)=0.1, \\dot{x}(0)=0, \\dot{\\theta}(0)=0$ and the numerical integration and simulation functions provided below. Plot the trajectories of $x(t)$ and $\\theta(t)$ versus time.\n",
    "\n",
    "*Hint 1: The numerical simulation function below can only simulate systems with first-order dynamics. This means that the function of dynamics (i.e. $f(xt)$), whose input is fed to the numerical integration and simulation functions, needs to return the first-order time derivative. This might be confusing because our solutions $\\ddot{x}(t)$ and $\\ddot{\\theta}(t)$ are second-order time derivative. The trick here is to extend the system state from $[x(t), \\theta(t)]$ to $[x(t), \\theta(t), \\dot{x}(t), \\dot{\\theta}(t)]$, thus the time derivative of the state vector becomes $[\\dot{x}(t), \\dot{\\theta}(t), \\ddot{x}(t), \\ddot{\\theta}(t)]$. Now, when you write down the system dynamics function, the third and forth elements of input vector $\\dot{x}(t)$ and $\\dot{\\theta}(t)$ can be put into the output vector directly, and we already know the rest two elements of the output vector, from our previous solution of Euler-Lagrange equations. More information can be found in Lecture Note 1 (Background) - Section 1.4 Ordinary Differential Equations. An example is provided below for simulating a particle falling in gravity, where the acceleration $\\ddot{x}(t) = -9.8$.*\n",
    "\n",
    "*Hint 2: You will need to include the numerical evaluations for $\\ddot{x}(t)$ and $\\ddot{\\theta}(t)$ in system dynamics function. You can either use your previous **`lambdify()`** results, or hand code the equations from previous symbolic solutions. We recommend using **`lambdify()`** for practice because later homeworks will require integration of much more complicated equations.*\n",
    "\n",
    "**Turn in: A copy of the code used to simulate the system with the plot of the simulated trajectories.**"
   ],
   "id": "ca3b6b104994617e"
  },
  {
   "metadata": {
    "ExecuteTime": {
     "end_time": "2025-10-01T20:35:56.000715Z",
     "start_time": "2025-10-01T20:35:55.663140Z"
    }
   },
   "cell_type": "code",
   "source": [
    "# -------------------------\n",
    "# Integration and Simulation functions\n",
    "# -------------------------\n",
    "def integrate(f, xt, dt):\n",
    "    k1 = dt * f(xt)\n",
    "    k2 = dt * f(xt + k1/2.)\n",
    "    k3 = dt * f(xt + k2/2.)\n",
    "    k4 = dt * f(xt + k3)\n",
    "    new_xt = xt + (1/6.) * (k1 + 2.0*k2 + 2.0*k3 + k4)\n",
    "    return new_xt\n",
    "\n",
    "def simulate(f, x0, tspan, dt, integrate):\n",
    "    N = int((max(tspan) - min(tspan)) / dt)\n",
    "    x = np.copy(x0)\n",
    "    tvec = np.linspace(min(tspan), max(tspan), N)\n",
    "    xtraj = np.zeros((len(x0), N))\n",
    "    for i in range(N):\n",
    "        xtraj[:, i] = integrate(f, x, dt)\n",
    "        x = np.copy(xtraj[:, i])\n",
    "    return tvec, xtraj\n",
    "\n",
    "# -------------------------\n",
    "# Cart-pendulum dynamics\n",
    "# -------------------------\n",
    "def dyn(s):\n",
    "    \"\"\"\n",
    "    System dynamics function for cart-pendulum.\n",
    "\n",
    "    State vector: s = [x, theta, xdot, thetadot]\n",
    "    \"\"\"\n",
    "    x, theta, xdot, thetadot = s\n",
    "\n",
    "    # parameters\n",
    "    M = 2.0   # cart mass\n",
    "    m = 1.0   # pendulum mass\n",
    "    R = 1.0   # pendulum length\n",
    "    g = 9.81  # gravity\n",
    "\n",
    "    # accelerations\n",
    "    xddot = (m * (R*thetadot**2 + g*np.cos(theta)) * np.sin(theta)) / (M + m*np.sin(theta)**2)\n",
    "    thetaddot = -((M+m)*g + R*m*np.cos(theta)*thetadot**2) * np.sin(theta) / (R*(M + m*np.sin(theta)**2))\n",
    "\n",
    "    return np.array([xdot, thetadot, xddot, thetaddot])\n",
    "\n",
    "# -------------------------\n",
    "# Initial condition and simulation\n",
    "# -------------------------\n",
    "s0 = np.array([0.0, 0.1, 0.0, 0.0])   # [x(0), theta(0), xdot(0), thetadot(0)]\n",
    "tvec, traj = simulate(dyn, s0, [0, 10], 0.01, integrate)\n",
    "\n",
    "# -------------------------\n",
    "# Plot results\n",
    "# -------------------------\n",
    "plt.figure(figsize=(10,5))\n",
    "plt.subplot(2,1,1)\n",
    "plt.plot(tvec, traj[0,:], label=\"x(t) (cart position)\")\n",
    "plt.xlabel(\"time [s]\")\n",
    "plt.ylabel(\"x [m]\")\n",
    "plt.legend()\n",
    "\n",
    "plt.subplot(2,1,2)\n",
    "plt.plot(tvec, traj[1,:], label=\"theta(t) (pendulum angle)\")\n",
    "plt.xlabel(\"time [s]\")\n",
    "plt.ylabel(\"theta [rad]\")\n",
    "plt.legend()\n",
    "\n",
    "plt.tight_layout()\n",
    "plt.show()"
   ],
   "id": "de8c94c3a582e12",
   "outputs": [
    {
     "data": {
      "text/plain": [
       "<Figure size 1000x500 with 2 Axes>"
      ],
      "image/png": "[encoded data removed]"
     },
     "metadata": {},
     "output_type": "display_data",
     "jetTransient": {
      "display_id": null
     }
    }
   ],
   "execution_count": 44
  },
  {
   "metadata": {},
   "cell_type": "code",
   "outputs": [],
   "execution_count": null,
   "source": "",
   "id": "754b2587ddb39edc"
  },
  {
   "metadata": {
    "ExecuteTime": {
     "end_time": "2025-10-01T20:33:05.090461Z",
     "start_time": "2025-10-01T20:33:04.716323Z"
    }
   },
   "cell_type": "code",
   "source": [
    "import sympy as sp\n",
    "\n",
    "# Define symbols\n",
    "t = sp.symbols('t')\n",
    "M, m, R, g = sp.symbols('M m R g', real=True, positive=True)\n",
    "\n",
    "# Generalized coordinates (functions of time)\n",
    "x = sp.Function('x')(t)\n",
    "theta = sp.Function('theta')(t)\n",
    "\n",
    "# First derivatives\n",
    "xd = sp.diff(x, t)\n",
    "thd = sp.diff(theta, t)\n",
    "\n",
    "# Second derivatives (for later substitution)\n",
    "xdd = sp.diff(x, (t,2))\n",
    "thdd = sp.diff(theta, (t,2))\n",
    "\n",
    "# -----------------------------\n",
    "# Lagrangian\n",
    "# -----------------------------\n",
    "T = (sp.Rational(1,2)*(M + m)*xd**2\n",
    "     + m*R*sp.cos(theta)*xd*thd\n",
    "     + sp.Rational(1,2)*m*R**2*thd**2)\n",
    "\n",
    "V = - m*g*R*sp.cos(theta)\n",
    "\n",
    "L = sp.simplify(T - V)\n",
    "print(\"Lagrangian L = \")\n",
    "sp.pprint(L, use_unicode=True)\n",
    "\n",
    "# -----------------------------\n",
    "# Euler-Lagrange Equations\n",
    "# -----------------------------\n",
    "# For x\n",
    "dL_dx = sp.diff(L, x)\n",
    "dL_dxd = sp.diff(L, xd)\n",
    "d_dt_dL_dxd = sp.diff(dL_dxd, t)\n",
    "eq_x = sp.simplify(d_dt_dL_dxd - dL_dx)\n",
    "\n",
    "# For theta\n",
    "dL_dtheta = sp.diff(L, theta)\n",
    "dL_dthetad = sp.diff(L, thd)\n",
    "d_dt_dL_dthetad = sp.diff(dL_dthetad, t)\n",
    "eq_theta = sp.simplify(d_dt_dL_dthetad - dL_dtheta)\n",
    "\n",
    "print(\"\\nEuler-Lagrange equations:\")\n",
    "sp.pprint(eq_x, use_unicode=True)\n",
    "sp.pprint(eq_theta, use_unicode=True)\n",
    "\n",
    "# -----------------------------\n",
    "# Solve equations for accelerations\n",
    "# -----------------------------\n",
    "sol = sp.solve([eq_x, eq_theta], [xdd, thdd], dict=True)[0]\n",
    "\n",
    "xdd_expr = sp.simplify(sol[xdd])\n",
    "thdd_expr = sp.simplify(sol[thdd])\n",
    "\n",
    "display(xdd_expr)\n",
    "display(thdd_expr)\n",
    "# print(\"\\nSolution for accelerations:\")\n",
    "# print(\"xdd = \")\n",
    "# sp.pprint(xdd_expr, use_unicode=True)\n",
    "# print(\"\\nthdd = \")\n",
    "# sp.pprint(thdd_expr, use_unicode=True)\n"
   ],
   "id": "e03efaf41e8d9ead",
   "outputs": [
    {
     "name": "stdout",
     "output_type": "stream",
     "text": [
      "Lagrangian L = \n",
      "               2                                                               ↪\n",
      " 2   ⎛d       ⎞                                                                ↪\n",
      "R ⋅m⋅⎜──(θ(t))⎟                                                        (M + m) ↪\n",
      "     ⎝dt      ⎠                                    d        d                  ↪\n",
      "──────────────── + R⋅g⋅m⋅cos(θ(t)) + R⋅m⋅cos(θ(t))⋅──(θ(t))⋅──(x(t)) + ─────── ↪\n",
      "       2                                           dt       dt                 ↪\n",
      "\n",
      "↪            2\n",
      "↪  ⎛d       ⎞ \n",
      "↪ ⋅⎜──(x(t))⎟ \n",
      "↪  ⎝dt      ⎠ \n",
      "↪ ────────────\n",
      "↪   2         \n",
      "\n",
      "Euler-Lagrange equations:\n",
      "                          2                  2                   2       \n",
      "                ⎛d       ⎞                  d                   d        \n",
      "- R⋅m⋅sin(θ(t))⋅⎜──(θ(t))⎟  + R⋅m⋅cos(θ(t))⋅───(θ(t)) + (M + m)⋅───(x(t))\n",
      "                ⎝dt      ⎠                    2                   2      \n",
      "                                            dt                  dt       \n",
      "    ⎛   2                                   2       ⎞\n",
      "    ⎜  d                                   d        ⎟\n",
      "R⋅m⋅⎜R⋅───(θ(t)) + g⋅sin(θ(t)) + cos(θ(t))⋅───(x(t))⎟\n",
      "    ⎜    2                                   2      ⎟\n",
      "    ⎝  dt                                  dt       ⎠\n"
     ]
    },
    {
     "data": {
      "text/plain": [
       "  ⎛            2              ⎞          \n",
       "  ⎜  ⎛d       ⎞               ⎟          \n",
       "m⋅⎜R⋅⎜──(θ(t))⎟  + g⋅cos(θ(t))⎟⋅sin(θ(t))\n",
       "  ⎝  ⎝dt      ⎠               ⎠          \n",
       "─────────────────────────────────────────\n",
       "                     2                   \n",
       "            M + m⋅sin (θ(t))             "
      ],
      "text/latex": "$\\displaystyle \\frac{m \\left(R \\left(\\frac{d}{d t} \\theta{\\left(t \\right)}\\right)^{2} + g \\cos{\\left(\\theta{\\left(t \\right)} \\right)}\\right) \\sin{\\left(\\theta{\\left(t \\right)} \\right)}}{M + m \\sin^{2}{\\left(\\theta{\\left(t \\right)} \\right)}}$"
     },
     "metadata": {},
     "output_type": "display_data",
     "jetTransient": {
      "display_id": null
     }
    },
    {
     "data": {
      "text/plain": [
       " ⎛                              2      ⎞           \n",
       " ⎜                    ⎛d       ⎞       ⎟           \n",
       "-⎜M⋅g + R⋅m⋅cos(θ(t))⋅⎜──(θ(t))⎟  + g⋅m⎟⋅sin(θ(t)) \n",
       " ⎝                    ⎝dt      ⎠       ⎠           \n",
       "───────────────────────────────────────────────────\n",
       "                 ⎛         2      ⎞                \n",
       "               R⋅⎝M + m⋅sin (θ(t))⎠                "
      ],
      "text/latex": "$\\displaystyle - \\frac{\\left(M g + R m \\cos{\\left(\\theta{\\left(t \\right)} \\right)} \\left(\\frac{d}{d t} \\theta{\\left(t \\right)}\\right)^{2} + g m\\right) \\sin{\\left(\\theta{\\left(t \\right)} \\right)}}{R \\left(M + m \\sin^{2}{\\left(\\theta{\\left(t \\right)} \\right)}\\right)}$"
     },
     "metadata": {},
     "output_type": "display_data",
     "jetTransient": {
      "display_id": null
     }
    }
   ],
   "execution_count": 43
  },
  {
   "metadata": {},
   "cell_type": "code",
   "outputs": [],
   "execution_count": null,
   "source": "",
   "id": "9fde93c1ab575592"
  }
 ],
 "metadata": {
  "kernelspec": {
   "display_name": "Python 3",
   "language": "python",
   "name": "python3"
  },
  "language_info": {
   "codemirror_mode": {
    "name": "ipython",
    "version": 2
   },
   "file_extension": ".py",
   "mimetype": "text/x-python",
   "name": "python",
   "nbconvert_exporter": "python",
   "pygments_lexer": "ipython2",
   "version": "2.7.6"
  }
 },
 "nbformat": 4,
 "nbformat_minor": 5
}
