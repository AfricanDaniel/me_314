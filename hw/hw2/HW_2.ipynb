{
 "cells": [
  {
   "metadata": {
    "collapsed": true
   },
   "cell_type": "markdown",
   "source": [
    "# ME314 Homework 2\n",
    "\n",
    "###Submission instructions\n",
    "\n",
    "Deliverables that should be included with your submission are shown in **bold** at the end of each problem statement and the corresponding supplemental material. Your homework will be graded IFF you submit a **single** PDF, .mp4 videos of animations when requested and a link to a Google colab file that meet all the requirements outlined below.\n",
    "\n",
    "- List the names of students you've collaborated with on this homework assignment.\n",
    "- Include all of your code (and handwritten solutions when applicable) used to complete the problems.\n",
    "- Highlight your answers (i.e. **bold** and outline the answers) for handwritten or markdown questions and include simplified code outputs (e.g. .simplify()) for python questions.\n",
    "- Enable Google Colab permission for viewing\n",
    " * Click Share in the upper right corner\n",
    " * Under \"Get Link\" click \"Share with...\" or \"Change\"\n",
    " * Then make sure it says \"Anyone with Link\" and \"Editor\" under the dropdown menu\n",
    "- Make sure all cells are run before submitting (i.e. check the permission by running your code in a private mode)\n",
    " * Please don't make changes to your file after submitting, so we can grade it!\n",
    "- Submit a link to your Google Colab file that has been run (before the submission deadline) and don't edit it afterwards!\n",
    "\n",
    "**NOTE:** This Juputer Notebook file serves as a template for you to start homework. Make sure you first copy this template to your own Google driver (click \"File\" -> \"Save a copy in Drive\"), and then start to edit it."
   ],
   "id": "3b1d58408f24ceed"
  },
  {
   "metadata": {
    "ExecuteTime": {
     "end_time": "2025-10-05T21:06:43.622648Z",
     "start_time": "2025-10-05T21:06:43.109438Z"
    }
   },
   "cell_type": "code",
   "source": [
    "# print sympy version for testing\n",
    "import sympy as sym\n",
    "import numpy as np\n",
    "import matplotlib.pyplot as plt\n",
    "\n",
    "print(sym.__version__)"
   ],
   "id": "80ace025a434a5fe",
   "outputs": [
    {
     "name": "stdout",
     "output_type": "stream",
     "text": [
      "1.14.0\n"
     ]
    }
   ],
   "execution_count": 2
  },
  {
   "metadata": {
    "ExecuteTime": {
     "end_time": "2025-10-05T21:06:43.646024Z",
     "start_time": "2025-10-05T21:06:43.641636Z"
    }
   },
   "cell_type": "code",
   "source": [
    "# --- PThis part is from google because I use jupyter notebook instead of collab ---\n",
    "\n",
    "try:\n",
    "    # Only works in Google Colab\n",
    "    from google.colab.output._publish import javascript\n",
    "\n",
    "    def custom_latex_printer(exp, **options):\n",
    "        url = \"https://cdnjs.cloudflare.com/ajax/libs/mathjax/3.1.1/latest.js?config=TeX-AMS_HTML\"\n",
    "        javascript(url=url)\n",
    "        return sym.printing.latex(exp, **options)\n",
    "    sym.init_printing(use_latex=\"mathjax\", latex_printer=custom_latex_printer)\n",
    "\n",
    "except ModuleNotFoundError:\n",
    "    # Fallback for Jupyter or other environments\n",
    "    sym.init_printing(use_latex=\"mathjax\")"
   ],
   "id": "c78d835140993a35",
   "outputs": [],
   "execution_count": 3
  },
  {
   "metadata": {},
   "cell_type": "markdown",
   "source": ":Below are the help functions in previous homeworks, which you may need for this homework.",
   "id": "4c13a65424a7befa"
  },
  {
   "metadata": {
    "ExecuteTime": {
     "end_time": "2025-10-05T21:06:43.703073Z",
     "start_time": "2025-10-05T21:06:43.696317Z"
    }
   },
   "cell_type": "code",
   "source": [
    "def integrate(f, xt, dt):\n",
    "    \"\"\"\n",
    "    This function takes in an initial condition x(t) and a timestep dt,\n",
    "    as well as a dynamical system f(x) that outputs a vector of the\n",
    "    same dimension as x(t). It outputs a vector x(t+dt) at the future\n",
    "    time step.\n",
    "\n",
    "    Parameters\n",
    "    ============\n",
    "    dyn: Python function\n",
    "        derivate of the system at a given step x(t),\n",
    "        it can considered as \\dot{x}(t) = func(x(t))\n",
    "    xt: NumPy array\n",
    "        current step x(t)\n",
    "    dt:\n",
    "        step size for integration\n",
    "\n",
    "    Return\n",
    "    ============\n",
    "    new_xt:\n",
    "        value of x(t+dt) integrated from x(t)\n",
    "    \"\"\"\n",
    "    k1 = dt * f(xt)\n",
    "    k2 = dt * f(xt+k1/2.)\n",
    "    k3 = dt * f(xt+k2/2.)\n",
    "    k4 = dt * f(xt+k3)\n",
    "    new_xt = xt + (1/6.) * (k1+2.0*k2+2.0*k3+k4)\n",
    "    return new_xt\n",
    "\n",
    "def simulate(f, x0, tspan, dt, integrate):\n",
    "    \"\"\"\n",
    "    This function takes in an initial condition x0, a timestep dt,\n",
    "    a time span tspan consisting of a list [min_time, max_time],\n",
    "    as well as a dynamical system f(x) that outputs a vector of the\n",
    "    same dimension as x0. It outputs a full trajectory simulated\n",
    "    over the time span of dimensions (xvec_size, time_vec_size).\n",
    "\n",
    "    Parameters\n",
    "    ============\n",
    "    f: Python function\n",
    "        derivate of the system at a given step x(t),\n",
    "        it can considered as \\dot{x}(t) = func(x(t))\n",
    "    x0: NumPy array\n",
    "        initial conditions\n",
    "    tspan: Python list\n",
    "        tspan = [min_time, max_time], it defines the start and end\n",
    "        time of simulation\n",
    "    dt:\n",
    "        time step for numerical integration\n",
    "    integrate: Python function\n",
    "        numerical integration method used in this simulation\n",
    "\n",
    "    Return\n",
    "    ============\n",
    "    x_traj:\n",
    "        simulated trajectory of x(t) from t=0 to tf\n",
    "    \"\"\"\n",
    "    N = int((max(tspan)-min(tspan))/dt)\n",
    "    x = np.copy(x0)\n",
    "    tvec = np.linspace(min(tspan),max(tspan),N)\n",
    "    xtraj = np.zeros((len(x0),N))\n",
    "    for i in range(N):\n",
    "        xtraj[:,i]=integrate(f,x,dt)\n",
    "        x = np.copy(xtraj[:,i])\n",
    "    return xtraj"
   ],
   "id": "f86eb76692d89cf4",
   "outputs": [
    {
     "name": "stderr",
     "output_type": "stream",
     "text": [
      "<>:2: SyntaxWarning: invalid escape sequence '\\d'\n",
      "<>:31: SyntaxWarning: invalid escape sequence '\\d'\n",
      "<>:2: SyntaxWarning: invalid escape sequence '\\d'\n",
      "<>:31: SyntaxWarning: invalid escape sequence '\\d'\n",
      "/tmp/ipykernel_34260/967150765.py:2: SyntaxWarning: invalid escape sequence '\\d'\n",
      "  \"\"\"\n",
      "/tmp/ipykernel_34260/967150765.py:31: SyntaxWarning: invalid escape sequence '\\d'\n",
      "  \"\"\"\n"
     ]
    }
   ],
   "execution_count": 4
  },
  {
   "metadata": {},
   "cell_type": "markdown",
   "source": "## Problem 1 (15pts)",
   "id": "ac1ade7364d8e9b7"
  },
  {
   "metadata": {
    "ExecuteTime": {
     "end_time": "2025-10-05T21:06:43.758606Z",
     "start_time": "2025-10-05T21:06:43.752755Z"
    }
   },
   "cell_type": "code",
   "source": [
    "from IPython.core.display import HTML\n",
    "display(HTML(\"<table><tr><td><img src='https://github.com/MuchenSun/ME314pngs/raw/master/dyndoublepend.png' width=500' height='350'></table>\"))"
   ],
   "id": "54f2159322865530",
   "outputs": [
    {
     "data": {
      "text/plain": [
       "<IPython.core.display.HTML object>"
      ],
      "text/html": [
       "<table><tr><td><img src='https://github.com/MuchenSun/ME314pngs/raw/master/dyndoublepend.png' width=500' height='350'></table>"
      ]
     },
     "metadata": {},
     "output_type": "display_data",
     "jetTransient": {
      "display_id": null
     }
    }
   ],
   "execution_count": 5
  },
  {
   "metadata": {},
   "cell_type": "markdown",
   "source": [
    "You're given a double-pendulum system hanging in gravity is shown in the figure above. With $q=[\\theta_1, \\theta_2]$ as the system configuration variables, use Python's SymPy package to compute the Lagrangian of the system. Note that we assume that the z-axis is pointing out from the screen/paper and thus the positive direction of rotation is counter-clockwise.\n",
    "\n",
    "> *Hint 1: We recommend that you compute the positions and their time derivatives (velocities) in x-y coordinates! This will involve using some trigonometry to express the $x$ and $y$ coordinates of each mass in terms of $\\theta_{1}$ and $\\theta_{2}$. Consequently, compute kinetic and potential energy based on that.*\n",
    ">\n",
    "> *Hint 2: By convention we will define gravity with positive sign (i.e. $g=9.8$) for numerical evaluation required in the later problems. As such, be careful with the sign of potential energy! You can always go back here after you verify your results by numerical evaluation in Problem 2 and 3.*\n",
    "\n",
    "---\n",
    "**Turn in:** Include the code used to symbolically compute Lagrangian and highlight the output of your code which should be the symbolic Lagrangian expression.\n"
   ],
   "id": "c6c51606e03b1ab0"
  },
  {
   "metadata": {
    "ExecuteTime": {
     "end_time": "2025-10-05T21:06:44.546208Z",
     "start_time": "2025-10-05T21:06:43.837085Z"
    }
   },
   "cell_type": "code",
   "source": [
    "# Define symbols\n",
    "t, g, m1, m2, R1, R2 = sym.symbols('t g m_1 m_2 R_1 R_2')\n",
    "T_sym, V_sym , L_sym = sym.symbols('T V L')\n",
    "\n",
    "\n",
    "# Generalized coordinates\n",
    "th1 = sym.Function('theta_1')(t)\n",
    "th2 = sym.Function('theta_2')(t)\n",
    "\n",
    "# Angular velocities\n",
    "th1_dot = th1.diff(t)\n",
    "th2_dot = th2.diff(t)\n",
    "\n",
    "# --- Position of each mass in x-y coordinates ---\n",
    "x1 = R1 * sym.sin(th1)\n",
    "y1 = -R1 * sym.cos(th1)\n",
    "\n",
    "x2 = x1 + R2 * sym.sin(th2)\n",
    "y2 = y1 - R2 * sym.cos(th2)\n",
    "\n",
    "# --- Velocities (time derivatives) ---\n",
    "x1_dot = sym.diff(x1, t)\n",
    "y1_dot = sym.diff(y1, t)\n",
    "x2_dot = sym.diff(x2, t)\n",
    "y2_dot = sym.diff(y2, t)\n",
    "\n",
    "# --- Kinetic Energy ---\n",
    "T1 = (1/2) * m1 * (x1_dot**2 + y1_dot**2)\n",
    "T2 = (1/2) * m2 * (x2_dot**2 + y2_dot**2)\n",
    "T = sym.simplify(T1 + T2)\n",
    "\n",
    "# --- Potential Energy ---\n",
    "# Note: gravity acts downward, but g is defined positive.\n",
    "# So V = m*g*y with y measured positive upward.\n",
    "V1 = m1 * g * y1\n",
    "V2 = m2 * g * y2\n",
    "V = sym.simplify(V1 + V2)\n",
    "\n",
    "# --- Lagrangian ---\n",
    "L = sym.simplify(T - V)\n",
    "\n",
    "# --- Display Answers ---\n",
    "display(sym.Eq(T_sym, T))\n",
    "display(sym.Eq(V_sym, V))\n",
    "display(sym.Eq(L_sym, L))"
   ],
   "id": "1de82ae41481bae2",
   "outputs": [
    {
     "data": {
      "text/plain": [
       "                          2          ⎛               2                         ↪\n",
       "          2    ⎛d        ⎞           ⎜  2 ⎛d        ⎞                          ↪\n",
       "T = 0.5⋅R₁ ⋅m₁⋅⎜──(θ₁(t))⎟  + 0.5⋅m₂⋅⎜R₁ ⋅⎜──(θ₁(t))⎟  + 2⋅R₁⋅R₂⋅cos(θ₁(t) - θ ↪\n",
       "               ⎝dt       ⎠           ⎝    ⎝dt       ⎠                          ↪\n",
       "\n",
       "↪                                            2⎞\n",
       "↪       d         d             2 ⎛d        ⎞ ⎟\n",
       "↪ ₂(t))⋅──(θ₁(t))⋅──(θ₂(t)) + R₂ ⋅⎜──(θ₂(t))⎟ ⎟\n",
       "↪       dt        dt              ⎝dt       ⎠ ⎠"
      ],
      "text/latex": "$\\displaystyle T = 0.5 R_{1}^{2} m_{1} \\left(\\frac{d}{d t} \\theta_{1}{\\left(t \\right)}\\right)^{2} + 0.5 m_{2} \\left(R_{1}^{2} \\left(\\frac{d}{d t} \\theta_{1}{\\left(t \\right)}\\right)^{2} + 2 R_{1} R_{2} \\cos{\\left(\\theta_{1}{\\left(t \\right)} - \\theta_{2}{\\left(t \\right)} \\right)} \\frac{d}{d t} \\theta_{1}{\\left(t \\right)} \\frac{d}{d t} \\theta_{2}{\\left(t \\right)} + R_{2}^{2} \\left(\\frac{d}{d t} \\theta_{2}{\\left(t \\right)}\\right)^{2}\\right)$"
     },
     "metadata": {},
     "output_type": "display_data",
     "jetTransient": {
      "display_id": null
     }
    },
    {
     "data": {
      "text/plain": [
       "V = -g⋅(R₁⋅m₁⋅cos(θ₁(t)) + R₁⋅m₂⋅cos(θ₁(t)) + R₂⋅m₂⋅cos(θ₂(t)))"
      ],
      "text/latex": "$\\displaystyle V = - g \\left(R_{1} m_{1} \\cos{\\left(\\theta_{1}{\\left(t \\right)} \\right)} + R_{1} m_{2} \\cos{\\left(\\theta_{1}{\\left(t \\right)} \\right)} + R_{2} m_{2} \\cos{\\left(\\theta_{2}{\\left(t \\right)} \\right)}\\right)$"
     },
     "metadata": {},
     "output_type": "display_data",
     "jetTransient": {
      "display_id": null
     }
    },
    {
     "data": {
      "text/plain": [
       "                          2                                                    ↪\n",
       "          2    ⎛d        ⎞                                                     ↪\n",
       "L = 0.5⋅R₁ ⋅m₁⋅⎜──(θ₁(t))⎟  + g⋅(R₁⋅m₁⋅cos(θ₁(t)) + R₁⋅m₂⋅cos(θ₁(t)) + R₂⋅m₂⋅c ↪\n",
       "               ⎝dt       ⎠                                                     ↪\n",
       "\n",
       "↪                     ⎛               2                                        ↪\n",
       "↪                     ⎜  2 ⎛d        ⎞                               d         ↪\n",
       "↪ os(θ₂(t))) + 0.5⋅m₂⋅⎜R₁ ⋅⎜──(θ₁(t))⎟  + 2⋅R₁⋅R₂⋅cos(θ₁(t) - θ₂(t))⋅──(θ₁(t)) ↪\n",
       "↪                     ⎝    ⎝dt       ⎠                               dt        ↪\n",
       "\n",
       "↪                             2⎞\n",
       "↪  d             2 ⎛d        ⎞ ⎟\n",
       "↪ ⋅──(θ₂(t)) + R₂ ⋅⎜──(θ₂(t))⎟ ⎟\n",
       "↪  dt              ⎝dt       ⎠ ⎠"
      ],
      "text/latex": "$\\displaystyle L = 0.5 R_{1}^{2} m_{1} \\left(\\frac{d}{d t} \\theta_{1}{\\left(t \\right)}\\right)^{2} + g \\left(R_{1} m_{1} \\cos{\\left(\\theta_{1}{\\left(t \\right)} \\right)} + R_{1} m_{2} \\cos{\\left(\\theta_{1}{\\left(t \\right)} \\right)} + R_{2} m_{2} \\cos{\\left(\\theta_{2}{\\left(t \\right)} \\right)}\\right) + 0.5 m_{2} \\left(R_{1}^{2} \\left(\\frac{d}{d t} \\theta_{1}{\\left(t \\right)}\\right)^{2} + 2 R_{1} R_{2} \\cos{\\left(\\theta_{1}{\\left(t \\right)} - \\theta_{2}{\\left(t \\right)} \\right)} \\frac{d}{d t} \\theta_{1}{\\left(t \\right)} \\frac{d}{d t} \\theta_{2}{\\left(t \\right)} + R_{2}^{2} \\left(\\frac{d}{d t} \\theta_{2}{\\left(t \\right)}\\right)^{2}\\right)$"
     },
     "metadata": {},
     "output_type": "display_data",
     "jetTransient": {
      "display_id": null
     }
    }
   ],
   "execution_count": 6
  },
  {
   "metadata": {},
   "cell_type": "markdown",
   "source": [
    "## Problem 2 (15pts)\n",
    "\n",
    "Use Python's SymPy package to compute the Euler-Lagrange equations for the same double-pendulum system in Problem 1 and solve for $\\ddot{\\theta}_1$ and $\\ddot{\\theta}_2$.\n",
    "\n",
    "---\n",
    "**Turn in:** Include the code used to symbolically compute and solve Euler-Lagrange equations. Also include the output of your code, as in the symbolic expression of Euler-Lagrange equations and their solutions (i.e. $\\ddot{\\theta}_1$ and $\\ddot{\\theta}_2$)."
   ],
   "id": "f4b49b10bc2151da"
  },
  {
   "metadata": {
    "ExecuteTime": {
     "end_time": "2025-10-05T21:09:08.206529Z",
     "start_time": "2025-10-05T21:09:06.289025Z"
    }
   },
   "cell_type": "code",
   "source": [
    "# Define symbols\n",
    "th1ddot_sym, th2ddot_sym = sym.symbols('\\ddot{\\\\theta}_1 \\ddot{\\\\theta}_2')\n",
    "\n",
    "# --- Euler–Lagrange equations ---\n",
    "dL_dth1 = sym.diff(L, th1)\n",
    "dL_dth1dot = sym.diff(L, th1_dot)\n",
    "dL_dth2 = sym.diff(L, th2)\n",
    "dL_dth2dot = sym.diff(L, th2_dot)\n",
    "\n",
    "EL1 = sym.simplify(sym.diff(dL_dth1dot, t) - dL_dth1)\n",
    "EL2 = sym.simplify(sym.diff(dL_dth2dot, t) - dL_dth2)\n",
    "\n",
    "display(sym.Eq(EL1, 0))\n",
    "display(sym.Eq(EL2, 0))\n",
    "\n",
    "# --- Solve for th1_ddot and th2_ddot ---\n",
    "th1_ddot = th1.diff(t, 2)\n",
    "th2_ddot = th2.diff(t, 2)\n",
    "\n",
    "#This version has bugs, fix after (make display better)\n",
    "sol_test = sym.solve([EL1, EL2], [th1_ddot, th2_ddot], dict=True)[0]\n",
    "th1_dd_expr = sym.simplify(sol_test[th1_ddot])\n",
    "th2_dd_expr = sym.simplify(sol_test[th2_ddot])\n",
    "display( sym.Eq( th1ddot_sym , th1_dd_expr ) )\n",
    "display( sym.Eq( th2ddot_sym , th2_dd_expr ) )\n",
    "\n",
    "sol_1 = sym.solve(EL1, th1_ddot)\n",
    "th1_dd_expr_test = sym.simplify(sol_1[0])\n",
    "display( sym.Eq( th1ddot_sym , sol_1[0] ) )\n",
    "\n",
    "sol_2 = sym.solve(EL2, th2_ddot)\n",
    "th2_dd_expr_test = sym.simplify(sol_2[0])\n",
    "display( sym.Eq( th2ddot_sym , sol_2[0] ) )"
   ],
   "id": "7d746e34ecfc029",
   "outputs": [
    {
     "name": "stderr",
     "output_type": "stream",
     "text": [
      "<>:2: SyntaxWarning: invalid escape sequence '\\d'\n",
      "<>:2: SyntaxWarning: invalid escape sequence '\\d'\n",
      "/tmp/ipykernel_34260/1062980412.py:2: SyntaxWarning: invalid escape sequence '\\d'\n",
      "  th1ddot_sym, th2ddot_sym = sym.symbols('\\ddot{\\\\theta}_1 \\ddot{\\\\theta}_2')\n"
     ]
    },
    {
     "data": {
      "text/plain": [
       "       ⎛       2                  2                                            ↪\n",
       "       ⎜      d                  d                                     ⎛d      ↪\n",
       "1.0⋅R₁⋅⎜R₁⋅m₁⋅───(θ₁(t)) + R₁⋅m₂⋅───(θ₁(t)) + R₂⋅m₂⋅sin(θ₁(t) - θ₂(t))⋅⎜──(θ₂( ↪\n",
       "       ⎜        2                  2                                   ⎝dt     ↪\n",
       "       ⎝      dt                 dt                                            ↪\n",
       "\n",
       "↪     2                             2                                          ↪\n",
       "↪    ⎞                             d                                           ↪\n",
       "↪ t))⎟  + R₂⋅m₂⋅cos(θ₁(t) - θ₂(t))⋅───(θ₂(t)) + g⋅m₁⋅sin(θ₁(t)) + g⋅m₂⋅sin(θ₁( ↪\n",
       "↪    ⎠                               2                                         ↪\n",
       "↪                                  dt                                          ↪\n",
       "\n",
       "↪    ⎞    \n",
       "↪    ⎟    \n",
       "↪ t))⎟ = 0\n",
       "↪    ⎟    \n",
       "↪    ⎠    "
      ],
      "text/latex": "$\\displaystyle 1.0 R_{1} \\left(R_{1} m_{1} \\frac{d^{2}}{d t^{2}} \\theta_{1}{\\left(t \\right)} + R_{1} m_{2} \\frac{d^{2}}{d t^{2}} \\theta_{1}{\\left(t \\right)} + R_{2} m_{2} \\sin{\\left(\\theta_{1}{\\left(t \\right)} - \\theta_{2}{\\left(t \\right)} \\right)} \\left(\\frac{d}{d t} \\theta_{2}{\\left(t \\right)}\\right)^{2} + R_{2} m_{2} \\cos{\\left(\\theta_{1}{\\left(t \\right)} - \\theta_{2}{\\left(t \\right)} \\right)} \\frac{d^{2}}{d t^{2}} \\theta_{2}{\\left(t \\right)} + g m_{1} \\sin{\\left(\\theta_{1}{\\left(t \\right)} \\right)} + g m_{2} \\sin{\\left(\\theta_{1}{\\left(t \\right)} \\right)}\\right) = 0$"
     },
     "metadata": {},
     "output_type": "display_data",
     "jetTransient": {
      "display_id": null
     }
    },
    {
     "data": {
      "text/plain": [
       "          ⎛                                   2                          2     ↪\n",
       "          ⎜                        ⎛d        ⎞                          d      ↪\n",
       "1.0⋅R₂⋅m₂⋅⎜- R₁⋅sin(θ₁(t) - θ₂(t))⋅⎜──(θ₁(t))⎟  + R₁⋅cos(θ₁(t) - θ₂(t))⋅───(θ₁ ↪\n",
       "          ⎜                        ⎝dt       ⎠                            2    ↪\n",
       "          ⎝                                                             dt     ↪\n",
       "\n",
       "↪            2                       ⎞    \n",
       "↪           d                        ⎟    \n",
       "↪ (t)) + R₂⋅───(θ₂(t)) + g⋅sin(θ₂(t))⎟ = 0\n",
       "↪             2                      ⎟    \n",
       "↪           dt                       ⎠    "
      ],
      "text/latex": "$\\displaystyle 1.0 R_{2} m_{2} \\left(- R_{1} \\sin{\\left(\\theta_{1}{\\left(t \\right)} - \\theta_{2}{\\left(t \\right)} \\right)} \\left(\\frac{d}{d t} \\theta_{1}{\\left(t \\right)}\\right)^{2} + R_{1} \\cos{\\left(\\theta_{1}{\\left(t \\right)} - \\theta_{2}{\\left(t \\right)} \\right)} \\frac{d^{2}}{d t^{2}} \\theta_{1}{\\left(t \\right)} + R_{2} \\frac{d^{2}}{d t^{2}} \\theta_{2}{\\left(t \\right)} + g \\sin{\\left(\\theta_{2}{\\left(t \\right)} \\right)}\\right) = 0$"
     },
     "metadata": {},
     "output_type": "display_data",
     "jetTransient": {
      "display_id": null
     }
    },
    {
     "data": {
      "text/plain": [
       "                                                           2                   ↪\n",
       "                                                ⎛d        ⎞                    ↪\n",
       "                   R₁⋅m₂⋅sin(2⋅θ₁(t) - 2⋅θ₂(t))⋅⎜──(θ₁(t))⎟                    ↪\n",
       "                                                ⎝dt       ⎠                    ↪\n",
       "                 - ───────────────────────────────────────── - R₂⋅m₂⋅sin(θ₁(t) ↪\n",
       "                                       2                                       ↪\n",
       "\\ddot{\\theta}₁ = ───────────────────────────────────────────────────────────── ↪\n",
       "                                                                           ⎛   ↪\n",
       "                                                                        R₁⋅⎝m₁ ↪\n",
       "\n",
       "↪                                                                              ↪\n",
       "↪                                                                              ↪\n",
       "↪                      2                                                       ↪\n",
       "↪           ⎛d        ⎞                      g⋅m₂⋅sin(θ₁(t) - 2⋅θ₂(t))   g⋅m₂⋅ ↪\n",
       "↪  - θ₂(t))⋅⎜──(θ₂(t))⎟  - g⋅m₁⋅sin(θ₁(t)) - ───────────────────────── - ───── ↪\n",
       "↪           ⎝dt       ⎠                                  2                     ↪\n",
       "↪ ──────────────────────────────────────────────────────────────────────────── ↪\n",
       "↪          2                    ⎞                                              ↪\n",
       "↪  - m₂⋅cos (θ₁(t) - θ₂(t)) + m₂⎠                                              ↪\n",
       "\n",
       "↪           \n",
       "↪           \n",
       "↪           \n",
       "↪ sin(θ₁(t))\n",
       "↪ ──────────\n",
       "↪   2       \n",
       "↪ ──────────\n",
       "↪           \n",
       "↪           "
      ],
      "text/latex": "$\\displaystyle \\ddot{\\theta}_1 = \\frac{- \\frac{R_{1} m_{2} \\sin{\\left(2 \\theta_{1}{\\left(t \\right)} - 2 \\theta_{2}{\\left(t \\right)} \\right)} \\left(\\frac{d}{d t} \\theta_{1}{\\left(t \\right)}\\right)^{2}}{2} - R_{2} m_{2} \\sin{\\left(\\theta_{1}{\\left(t \\right)} - \\theta_{2}{\\left(t \\right)} \\right)} \\left(\\frac{d}{d t} \\theta_{2}{\\left(t \\right)}\\right)^{2} - g m_{1} \\sin{\\left(\\theta_{1}{\\left(t \\right)} \\right)} - \\frac{g m_{2} \\sin{\\left(\\theta_{1}{\\left(t \\right)} - 2 \\theta_{2}{\\left(t \\right)} \\right)}}{2} - \\frac{g m_{2} \\sin{\\left(\\theta_{1}{\\left(t \\right)} \\right)}}{2}}{R_{1} \\left(m_{1} - m_{2} \\cos^{2}{\\left(\\theta_{1}{\\left(t \\right)} - \\theta_{2}{\\left(t \\right)} \\right)} + m_{2}\\right)}$"
     },
     "metadata": {},
     "output_type": "display_data",
     "jetTransient": {
      "display_id": null
     }
    },
    {
     "data": {
      "text/plain": [
       "                                                                               ↪\n",
       "                                                                               ↪\n",
       "                                                     2                         ↪\n",
       "                                          ⎛d        ⎞                          ↪\n",
       "                 R₁⋅m₁⋅sin(θ₁(t) - θ₂(t))⋅⎜──(θ₁(t))⎟  + R₁⋅m₂⋅sin(θ₁(t) - θ₂( ↪\n",
       "                                          ⎝dt       ⎠                          ↪\n",
       "\\ddot{\\theta}₂ = ───────────────────────────────────────────────────────────── ↪\n",
       "                                                                               ↪\n",
       "                                                                               ↪\n",
       "\n",
       "↪                                                            2                 ↪\n",
       "↪                                                 ⎛d        ⎞                  ↪\n",
       "↪                2   R₂⋅m₂⋅sin(2⋅θ₁(t) - 2⋅θ₂(t))⋅⎜──(θ₂(t))⎟                  ↪\n",
       "↪     ⎛d        ⎞                                 ⎝dt       ⎠    g⋅m₁⋅sin(2⋅θ₁ ↪\n",
       "↪ t))⋅⎜──(θ₁(t))⎟  + ───────────────────────────────────────── + ───────────── ↪\n",
       "↪     ⎝dt       ⎠                        2                                   2 ↪\n",
       "↪ ──────────────────────────────────────────────────────────────────────────── ↪\n",
       "↪                               ⎛           2                    ⎞             ↪\n",
       "↪                            R₂⋅⎝m₁ - m₂⋅cos (θ₁(t) - θ₂(t)) + m₂⎠             ↪\n",
       "\n",
       "↪                                                                             \n",
       "↪                                                                             \n",
       "↪                                                                             \n",
       "↪ (t) - θ₂(t))   g⋅m₁⋅sin(θ₂(t))   g⋅m₂⋅sin(2⋅θ₁(t) - θ₂(t))   g⋅m₂⋅sin(θ₂(t))\n",
       "↪ ──────────── - ─────────────── + ───────────────────────── - ───────────────\n",
       "↪                       2                      2                      2       \n",
       "↪ ────────────────────────────────────────────────────────────────────────────\n",
       "↪                                                                             \n",
       "↪                                                                             "
      ],
      "text/latex": "$\\displaystyle \\ddot{\\theta}_2 = \\frac{R_{1} m_{1} \\sin{\\left(\\theta_{1}{\\left(t \\right)} - \\theta_{2}{\\left(t \\right)} \\right)} \\left(\\frac{d}{d t} \\theta_{1}{\\left(t \\right)}\\right)^{2} + R_{1} m_{2} \\sin{\\left(\\theta_{1}{\\left(t \\right)} - \\theta_{2}{\\left(t \\right)} \\right)} \\left(\\frac{d}{d t} \\theta_{1}{\\left(t \\right)}\\right)^{2} + \\frac{R_{2} m_{2} \\sin{\\left(2 \\theta_{1}{\\left(t \\right)} - 2 \\theta_{2}{\\left(t \\right)} \\right)} \\left(\\frac{d}{d t} \\theta_{2}{\\left(t \\right)}\\right)^{2}}{2} + \\frac{g m_{1} \\sin{\\left(2 \\theta_{1}{\\left(t \\right)} - \\theta_{2}{\\left(t \\right)} \\right)}}{2} - \\frac{g m_{1} \\sin{\\left(\\theta_{2}{\\left(t \\right)} \\right)}}{2} + \\frac{g m_{2} \\sin{\\left(2 \\theta_{1}{\\left(t \\right)} - \\theta_{2}{\\left(t \\right)} \\right)}}{2} - \\frac{g m_{2} \\sin{\\left(\\theta_{2}{\\left(t \\right)} \\right)}}{2}}{R_{2} \\left(m_{1} - m_{2} \\cos^{2}{\\left(\\theta_{1}{\\left(t \\right)} - \\theta_{2}{\\left(t \\right)} \\right)} + m_{2}\\right)}$"
     },
     "metadata": {},
     "output_type": "display_data",
     "jetTransient": {
      "display_id": null
     }
    },
    {
     "data": {
      "text/plain": [
       "                  ⎛                                    2                       ↪\n",
       "                  ⎜                         ⎛d        ⎞                        ↪\n",
       "                 -⎜R₂⋅m₂⋅sin(θ₁(t) - θ₂(t))⋅⎜──(θ₂(t))⎟  + R₂⋅m₂⋅cos(θ₁(t) - θ ↪\n",
       "                  ⎜                         ⎝dt       ⎠                        ↪\n",
       "                  ⎝                                                            ↪\n",
       "\\ddot{\\theta}₁ = ───────────────────────────────────────────────────────────── ↪\n",
       "                                                                    R₁⋅(m₁ + m ↪\n",
       "\n",
       "↪        2                                            ⎞ \n",
       "↪       d                                             ⎟ \n",
       "↪ ₂(t))⋅───(θ₂(t)) + g⋅m₁⋅sin(θ₁(t)) + g⋅m₂⋅sin(θ₁(t))⎟ \n",
       "↪         2                                           ⎟ \n",
       "↪       dt                                            ⎠ \n",
       "↪ ──────────────────────────────────────────────────────\n",
       "↪ ₂)                                                    "
      ],
      "text/latex": "$\\displaystyle \\ddot{\\theta}_1 = - \\frac{R_{2} m_{2} \\sin{\\left(\\theta_{1}{\\left(t \\right)} - \\theta_{2}{\\left(t \\right)} \\right)} \\left(\\frac{d}{d t} \\theta_{2}{\\left(t \\right)}\\right)^{2} + R_{2} m_{2} \\cos{\\left(\\theta_{1}{\\left(t \\right)} - \\theta_{2}{\\left(t \\right)} \\right)} \\frac{d^{2}}{d t^{2}} \\theta_{2}{\\left(t \\right)} + g m_{1} \\sin{\\left(\\theta_{1}{\\left(t \\right)} \\right)} + g m_{2} \\sin{\\left(\\theta_{1}{\\left(t \\right)} \\right)}}{R_{1} \\left(m_{1} + m_{2}\\right)}$"
     },
     "metadata": {},
     "output_type": "display_data",
     "jetTransient": {
      "display_id": null
     }
    },
    {
     "data": {
      "text/plain": [
       "                                                  2                          2 ↪\n",
       "                                       ⎛d        ⎞                          d  ↪\n",
       "                 R₁⋅sin(θ₁(t) - θ₂(t))⋅⎜──(θ₁(t))⎟  - R₁⋅cos(θ₁(t) - θ₂(t))⋅── ↪\n",
       "                                       ⎝dt       ⎠                             ↪\n",
       "                                                                            dt ↪\n",
       "\\ddot{\\theta}₂ = ───────────────────────────────────────────────────────────── ↪\n",
       "                                                          R₂                   ↪\n",
       "\n",
       "↪                        \n",
       "↪                        \n",
       "↪ ─(θ₁(t)) - g⋅sin(θ₂(t))\n",
       "↪ 2                      \n",
       "↪                        \n",
       "↪ ───────────────────────\n",
       "↪                        "
      ],
      "text/latex": "$\\displaystyle \\ddot{\\theta}_2 = \\frac{R_{1} \\sin{\\left(\\theta_{1}{\\left(t \\right)} - \\theta_{2}{\\left(t \\right)} \\right)} \\left(\\frac{d}{d t} \\theta_{1}{\\left(t \\right)}\\right)^{2} - R_{1} \\cos{\\left(\\theta_{1}{\\left(t \\right)} - \\theta_{2}{\\left(t \\right)} \\right)} \\frac{d^{2}}{d t^{2}} \\theta_{1}{\\left(t \\right)} - g \\sin{\\left(\\theta_{2}{\\left(t \\right)} \\right)}}{R_{2}}$"
     },
     "metadata": {},
     "output_type": "display_data",
     "jetTransient": {
      "display_id": null
     }
    }
   ],
   "execution_count": 9
  },
  {
   "metadata": {
    "ExecuteTime": {
     "end_time": "2025-10-05T19:00:15.892892Z",
     "start_time": "2025-10-05T19:00:15.890904Z"
    }
   },
   "cell_type": "markdown",
   "source": [
    "## Problem 3 (15pts)\n",
    "\n",
    "Numerically evaluate your solutions for $\\ddot{\\theta}_1$ and $\\ddot{\\theta}_2$ from Problem 2 using SymPy's ${\\tt lambdify()}$ method. Simulate the system for $t\\in[0, 5]$ with time step $dt=0.01$, system parameters $m_1=1, m_2=2, R_1=2, R_2=1$, and initial conditions $\\theta_1=\\theta_2=-\\frac{\\pi}{2}, \\dot{\\theta}_1=\\dot{\\theta}_2=0$. Plot the simulated trajectories of $\\theta_1(t)$ and $\\theta_2(t)$ versus time.\n",
    "\n",
    "> *Hint 1: Feel free to use the provided example code or your implementation in Homework 1.*\n",
    ">\n",
    "> *Hint 2: By convention, we will define $g=9.8$ as a positive constant. If you got some wierd \"flipped\" trajectory, go back to Problem 1 and check the sign of your gravity potential energy term.*\n",
    "\n",
    "---\n",
    "**Turn in:** Include the code used for numerical evaluation and simulation as well as the output of your code, i.e. values of $\\ddot{\\theta}_1$, $\\ddot{\\theta}_2$ at the initial conditions and the plot of $\\theta_1(t)$ and $\\theta_2(t)$ trajectories versus time. Make sure to label the figure and specify the axis as well as include a legend."
   ],
   "id": "c87aebea3ca59dfa"
  },
  {
   "metadata": {
    "ExecuteTime": {
     "end_time": "2025-10-05T21:09:20.167411Z",
     "start_time": "2025-10-05T21:09:20.165074Z"
    }
   },
   "cell_type": "code",
   "source": "",
   "id": "c0b4aa88bb30af72",
   "outputs": [],
   "execution_count": null
  },
  {
   "metadata": {
    "ExecuteTime": {
     "end_time": "2025-10-05T21:09:20.628489Z",
     "start_time": "2025-10-05T21:09:20.576027Z"
    }
   },
   "cell_type": "code",
   "source": [
    "# ------------------------------------------------------------\n",
    "# 5️⃣  Substitute parameters and lambdify\n",
    "# ------------------------------------------------------------\n",
    "params = {m1: 1.0, m2: 2.0, R1: 2.0, R2: 1.0, g: 9.8}\n",
    "th1dd_sub = th1_dd_expr.subs(params)\n",
    "th2dd_sub = th2_dd_expr.subs(params)\n",
    "\n",
    "f_th1dd = sym.lambdify([th1, th2, th1_dot, th2_dot], th1dd_sub)\n",
    "f_th2dd = sym.lambdify([th1, th2, th1_dot, th2_dot], th2dd_sub)\n",
    "\n",
    "print(\"\\033[1mθ̈₁(0), θ̈₂(0) at initial conditions:\\033[0m\")\n",
    "print(f\"θ̈₁ = {f_th1dd(-np.pi/2, -np.pi/2, 0, 0):.4f}\")\n",
    "print(f\"θ̈₂ = {f_th2dd(-np.pi/2, -np.pi/2, 0, 0):.4f}\")"
   ],
   "id": "e639254e88c8f6b0",
   "outputs": [
    {
     "name": "stdout",
     "output_type": "stream",
     "text": [
      "\u001B[1mθ̈₁(0), θ̈₂(0) at initial conditions:\u001B[0m\n",
      "θ̈₁ = 4.9000\n",
      "θ̈₂ = 0.0000\n"
     ]
    }
   ],
   "execution_count": 10
  },
  {
   "metadata": {
    "ExecuteTime": {
     "end_time": "2025-10-05T21:09:31.059400Z",
     "start_time": "2025-10-05T21:09:31.050085Z"
    }
   },
   "cell_type": "code",
   "source": [
    "# ------------------------------------------------------------\n",
    "# 6️⃣  Define RK4 integrator (from HW1)\n",
    "# ------------------------------------------------------------\n",
    "def integrate(f, xt, dt):\n",
    "    k1 = dt * f(xt)\n",
    "    k2 = dt * f(xt + k1 / 2.)\n",
    "    k3 = dt * f(xt + k2 / 2.)\n",
    "    k4 = dt * f(xt + k3)\n",
    "    return xt + (k1 + 2*k2 + 2*k3 + k4) / 6.\n",
    "\n",
    "# ------------------------------------------------------------\n",
    "# 7️⃣  Simulation function\n",
    "# ------------------------------------------------------------\n",
    "def simulate(f, x0, tspan, dt, integrate):\n",
    "    N = int((max(tspan)-min(tspan))/dt)\n",
    "    x = np.copy(x0)\n",
    "    tvec = np.linspace(min(tspan), max(tspan), N)\n",
    "    xtraj = np.zeros((len(x0), N))\n",
    "    for i in range(N):\n",
    "        xtraj[:, i] = integrate(f, x, dt)\n",
    "        x = np.copy(xtraj[:, i])\n",
    "    return xtraj, tvec\n",
    "\n",
    "# ------------------------------------------------------------\n",
    "# 8️⃣  Define dynamics\n",
    "# ------------------------------------------------------------\n",
    "def dyn(s):\n",
    "    th1, th1dot, th2, th2dot = s\n",
    "    return np.array([\n",
    "        th1dot,\n",
    "        f_th1dd(th1, th2, th1dot, th2dot),\n",
    "        th2dot,\n",
    "        f_th2dd(th1, th2, th1dot, th2dot)\n",
    "    ])\n"
   ],
   "id": "30632086cfcb4775",
   "outputs": [],
   "execution_count": 11
  },
  {
   "metadata": {
    "ExecuteTime": {
     "end_time": "2025-10-05T21:09:32.931319Z",
     "start_time": "2025-10-05T21:09:32.897329Z"
    }
   },
   "cell_type": "code",
   "source": [
    "dt = 0.01\n",
    "s0 = np.array([-np.pi/2, 0.0, -np.pi/2, 0.0])\n",
    "traj, tvec = simulate(dyn, s0, [0, 5], dt, integrate)"
   ],
   "id": "4cfc01d7023ee9e2",
   "outputs": [],
   "execution_count": 12
  },
  {
   "metadata": {
    "ExecuteTime": {
     "end_time": "2025-10-05T21:09:35.382379Z",
     "start_time": "2025-10-05T21:09:35.152956Z"
    }
   },
   "cell_type": "code",
   "source": [
    "plt.figure(figsize=(9,5))\n",
    "plt.plot(tvec, traj[0,:], label=r'$\\theta_1(t)$')\n",
    "plt.plot(tvec, traj[2,:], label=r'$\\theta_2(t)$')\n",
    "plt.title('Double Pendulum Simulation')\n",
    "plt.xlabel('Time [s]')\n",
    "plt.ylabel('Angle [rad]')\n",
    "plt.legend()\n",
    "plt.grid(True)\n",
    "plt.show()"
   ],
   "id": "541205a91f69deaf",
   "outputs": [
    {
     "data": {
      "text/plain": [
       "<Figure size 900x500 with 1 Axes>"
      ],
      "image/png": "[encoded data removed]"
     },
     "metadata": {},
     "output_type": "display_data",
     "jetTransient": {
      "display_id": null
     }
    }
   ],
   "execution_count": 13
  },
  {
   "metadata": {},
   "cell_type": "markdown",
   "source": [
    "## Problem 4 (10pts)\n",
    "\n",
    "Finally, let's get fancy! Use the function provided below to animate your simulation of the double-pendulum system based on the trajectories you got in Problem 3.\n",
    "\n",
    "> *Hint 1: If your animation seems to be slow, press \"pause\" and then press \"play\" again! This should play animation at normal speed.*\n",
    "\n",
    "---\n",
    "**Turn in:** Include the code used to generate the animation but note that you don't need to include the animation function! In addition, upload the video of animation through Canvas and make sure that the video format is .mp4. You can use screen capture or record the screen directly with your phone."
   ],
   "id": "cfbe745d97184fe7"
  },
  {
   "metadata": {
    "ExecuteTime": {
     "end_time": "2025-10-05T21:10:57.752363Z",
     "start_time": "2025-10-05T21:10:57.654354Z"
    }
   },
   "cell_type": "code",
   "source": [
    "def animate_double_pend(theta_array,L1=1,L2=1,T=10):\n",
    "    \"\"\"\n",
    "    Function to generate web-based animation of double-pendulum system\n",
    "\n",
    "    Parameters:\n",
    "    ================================================\n",
    "    theta_array:\n",
    "        trajectory of theta1 and theta2, should be a NumPy array with\n",
    "        shape of (2,N)\n",
    "    L1:\n",
    "        length of the first pendulum\n",
    "    L2:\n",
    "        length of the second pendulum\n",
    "    T:\n",
    "        length/seconds of animation duration\n",
    "\n",
    "    Returns: None\n",
    "    \"\"\"\n",
    "\n",
    "    ################################\n",
    "    # Imports required for animation.\n",
    "    from plotly.offline import init_notebook_mode, iplot\n",
    "    from IPython.display import display, HTML\n",
    "    import plotly.graph_objects as go\n",
    "\n",
    "    #######################\n",
    "    # Browser configuration.\n",
    "    def configure_plotly_browser_state():\n",
    "        import IPython\n",
    "        display(IPython.core.display.HTML('''\n",
    "            <script src=\"/static/components/requirejs/require.js\"></script>\n",
    "            <script>\n",
    "              requirejs.config({\n",
    "                paths: {\n",
    "                  base: '/static/base',\n",
    "                  plotly: 'https://cdn.plot.ly/plotly-1.5.1.min.js?noext',\n",
    "                },\n",
    "              });\n",
    "            </script>\n",
    "            '''))\n",
    "    configure_plotly_browser_state()\n",
    "    init_notebook_mode(connected=False)\n",
    "\n",
    "    ###############################################\n",
    "    # Getting data from pendulum angle trajectories.\n",
    "    xx1=L1*np.sin(theta_array[0])\n",
    "    yy1=-L1*np.cos(theta_array[0])\n",
    "    xx2=xx1+L2*np.sin(theta_array[0]+theta_array[1])\n",
    "    yy2=yy1-L2*np.cos(theta_array[0]+theta_array[1])\n",
    "    N = len(theta_array[0]) # Need this for specifying length of simulation\n",
    "\n",
    "    ####################################\n",
    "    # Using these to specify axis limits.\n",
    "    xm=np.min(xx1)-0.5\n",
    "    xM=np.max(xx1)+0.5\n",
    "    ym=np.min(yy1)-2.5\n",
    "    yM=np.max(yy1)+1.5\n",
    "\n",
    "    ###########################\n",
    "    # Defining data dictionary.\n",
    "    # Trajectories are here.\n",
    "    data=[dict(x=xx1, y=yy1,\n",
    "               mode='lines', name='Arm',\n",
    "               line=dict(width=2, color='blue')\n",
    "              ),\n",
    "          dict(x=xx1, y=yy1,\n",
    "               mode='lines', name='Mass 1',\n",
    "               line=dict(width=2, color='purple')\n",
    "              ),\n",
    "          dict(x=xx2, y=yy2,\n",
    "               mode='lines', name='Mass 2',\n",
    "               line=dict(width=2, color='green')\n",
    "              ),\n",
    "          dict(x=xx1, y=yy1,\n",
    "               mode='markers', name='Pendulum 1 Traj',\n",
    "               marker=dict(color=\"purple\", size=2)\n",
    "              ),\n",
    "          dict(x=xx2, y=yy2,\n",
    "               mode='markers', name='Pendulum 2 Traj',\n",
    "               marker=dict(color=\"green\", size=2)\n",
    "              ),\n",
    "        ]\n",
    "\n",
    "    ################################\n",
    "    # Preparing simulation layout.\n",
    "    # Title and axis ranges are here.\n",
    "    layout=dict(xaxis=dict(range=[xm, xM], autorange=False, zeroline=False,dtick=1),\n",
    "                yaxis=dict(range=[ym, yM], autorange=False, zeroline=False,scaleanchor = \"x\",dtick=1),\n",
    "                title='Double Pendulum Simulation',\n",
    "                hovermode='closest',\n",
    "                updatemenus= [{'type': 'buttons',\n",
    "                               'buttons': [{'label': 'Play','method': 'animate',\n",
    "                                            'args': [None, {'frame': {'duration': T, 'redraw': False}}]},\n",
    "                                           {'args': [[None], {'frame': {'duration': T, 'redraw': False}, 'mode': 'immediate',\n",
    "                                            'transition': {'duration': 0}}],'label': 'Pause','method': 'animate'}\n",
    "                                          ]\n",
    "                              }]\n",
    "               )\n",
    "\n",
    "    ########################################\n",
    "    # Defining the frames of the simulation.\n",
    "    # This is what draws the lines from\n",
    "    # joint to joint of the pendulum.\n",
    "    frames=[dict(data=[dict(x=[0,xx1[k],xx2[k]],\n",
    "                            y=[0,yy1[k],yy2[k]],\n",
    "                            mode='lines',\n",
    "                            line=dict(color='red', width=3)\n",
    "                            ),\n",
    "                       go.Scatter(\n",
    "                            x=[xx1[k]],\n",
    "                            y=[yy1[k]],\n",
    "                            mode=\"markers\",\n",
    "                            marker=dict(color=\"blue\", size=12)),\n",
    "                       go.Scatter(\n",
    "                            x=[xx2[k]],\n",
    "                            y=[yy2[k]],\n",
    "                            mode=\"markers\",\n",
    "                            marker=dict(color=\"blue\", size=12)),\n",
    "                      ]) for k in range(N)]\n",
    "\n",
    "    #######################################\n",
    "    # Putting it all together and plotting.\n",
    "    figure1=dict(data=data, layout=layout, frames=frames)\n",
    "    iplot(figure1)\n",
    "\n",
    "##################################################\n",
    "# Example of animation\n",
    "\n",
    "# provide a trajectory of double-pendulum\n",
    "# (note that this array below is not an actual simulation,\n",
    "# but lets you see this animation code work)\n",
    "import numpy as np\n",
    "sim_traj = np.array([np.linspace(-1, 1, 100), np.linspace(-1, 1, 100)])\n",
    "print('shape of trajectory: ', sim_traj.shape)\n",
    "\n",
    "# second, animate!\n",
    "animate_double_pend(sim_traj,L1=1,L2=1,T=10)"
   ],
   "id": "59f069471719ec3d",
   "outputs": [
    {
     "name": "stdout",
     "output_type": "stream",
     "text": [
      "shape of trajectory:  (2, 100)\n"
     ]
    },
    {
     "ename": "ModuleNotFoundError",
     "evalue": "No module named 'plotly'",
     "output_type": "error",
     "traceback": [
      "\u001B[31m---------------------------------------------------------------------------\u001B[39m",
      "\u001B[31mModuleNotFoundError\u001B[39m                       Traceback (most recent call last)",
      "\u001B[36mCell\u001B[39m\u001B[36m \u001B[39m\u001B[32mIn[14]\u001B[39m\u001B[32m, line 137\u001B[39m\n\u001B[32m    134\u001B[39m \u001B[38;5;28mprint\u001B[39m(\u001B[33m'\u001B[39m\u001B[33mshape of trajectory: \u001B[39m\u001B[33m'\u001B[39m, sim_traj.shape)\n\u001B[32m    136\u001B[39m \u001B[38;5;66;03m# second, animate!\u001B[39;00m\n\u001B[32m--> \u001B[39m\u001B[32m137\u001B[39m \u001B[43manimate_double_pend\u001B[49m\u001B[43m(\u001B[49m\u001B[43msim_traj\u001B[49m\u001B[43m,\u001B[49m\u001B[43mL1\u001B[49m\u001B[43m=\u001B[49m\u001B[32;43m1\u001B[39;49m\u001B[43m,\u001B[49m\u001B[43mL2\u001B[49m\u001B[43m=\u001B[49m\u001B[32;43m1\u001B[39;49m\u001B[43m,\u001B[49m\u001B[43mT\u001B[49m\u001B[43m=\u001B[49m\u001B[32;43m10\u001B[39;49m\u001B[43m)\u001B[49m\n",
      "\u001B[36mCell\u001B[39m\u001B[36m \u001B[39m\u001B[32mIn[14]\u001B[39m\u001B[32m, line 22\u001B[39m, in \u001B[36manimate_double_pend\u001B[39m\u001B[34m(theta_array, L1, L2, T)\u001B[39m\n\u001B[32m      2\u001B[39m \u001B[38;5;250m\u001B[39m\u001B[33;03m\"\"\"\u001B[39;00m\n\u001B[32m      3\u001B[39m \u001B[33;03mFunction to generate web-based animation of double-pendulum system\u001B[39;00m\n\u001B[32m      4\u001B[39m \n\u001B[32m   (...)\u001B[39m\u001B[32m     17\u001B[39m \u001B[33;03mReturns: None\u001B[39;00m\n\u001B[32m     18\u001B[39m \u001B[33;03m\"\"\"\u001B[39;00m\n\u001B[32m     20\u001B[39m \u001B[38;5;66;03m################################\u001B[39;00m\n\u001B[32m     21\u001B[39m \u001B[38;5;66;03m# Imports required for animation.\u001B[39;00m\n\u001B[32m---> \u001B[39m\u001B[32m22\u001B[39m \u001B[38;5;28;01mfrom\u001B[39;00m\u001B[38;5;250m \u001B[39m\u001B[34;01mplotly\u001B[39;00m\u001B[34;01m.\u001B[39;00m\u001B[34;01moffline\u001B[39;00m\u001B[38;5;250m \u001B[39m\u001B[38;5;28;01mimport\u001B[39;00m init_notebook_mode, iplot\n\u001B[32m     23\u001B[39m \u001B[38;5;28;01mfrom\u001B[39;00m\u001B[38;5;250m \u001B[39m\u001B[34;01mIPython\u001B[39;00m\u001B[34;01m.\u001B[39;00m\u001B[34;01mdisplay\u001B[39;00m\u001B[38;5;250m \u001B[39m\u001B[38;5;28;01mimport\u001B[39;00m display, HTML\n\u001B[32m     24\u001B[39m \u001B[38;5;28;01mimport\u001B[39;00m\u001B[38;5;250m \u001B[39m\u001B[34;01mplotly\u001B[39;00m\u001B[34;01m.\u001B[39;00m\u001B[34;01mgraph_objects\u001B[39;00m\u001B[38;5;250m \u001B[39m\u001B[38;5;28;01mas\u001B[39;00m\u001B[38;5;250m \u001B[39m\u001B[34;01mgo\u001B[39;00m\n",
      "\u001B[31mModuleNotFoundError\u001B[39m: No module named 'plotly'"
     ]
    }
   ],
   "execution_count": 14
  },
  {
   "metadata": {
    "ExecuteTime": {
     "end_time": "2025-10-05T21:06:47.185928564Z",
     "start_time": "2025-10-05T20:09:37.425449Z"
    }
   },
   "cell_type": "code",
   "source": "",
   "id": "b2f7cf821a8593ca",
   "outputs": [],
   "execution_count": null
  },
  {
   "metadata": {
    "ExecuteTime": {
     "end_time": "2025-10-05T21:06:47.188657066Z",
     "start_time": "2025-10-05T20:54:41.119424Z"
    }
   },
   "cell_type": "code",
   "source": [
    "import sympy as sp\n",
    "import numpy as np\n",
    "import matplotlib.pyplot as plt\n",
    "\n",
    "# ------------------------------------------------------------\n",
    "# 1️⃣  Define symbolic variables\n",
    "# ------------------------------------------------------------\n",
    "t, g, m1, m2, R1, R2 = sp.symbols('t g m_1 m_2 R_1 R_2', real=True, positive=True)\n",
    "th1 = sp.Function('theta_1')(t)\n",
    "th2 = sp.Function('theta_2')(t)\n",
    "\n",
    "th1dot = th1.diff(t)\n",
    "th2dot = th2.diff(t)\n",
    "th1dd = th1.diff(t, 2)\n",
    "th2dd = th2.diff(t, 2)\n",
    "\n",
    "# ------------------------------------------------------------\n",
    "# 2️⃣  Position of each mass\n",
    "# ------------------------------------------------------------\n",
    "x1 = R1 * sp.sin(th1)\n",
    "y1 = -R1 * sp.cos(th1)\n",
    "x2 = x1 + R2 * sp.sin(th2)\n",
    "y2 = y1 - R2 * sp.cos(th2)\n",
    "\n",
    "# ------------------------------------------------------------\n",
    "# 3️⃣  Kinetic & potential energy\n",
    "# ------------------------------------------------------------\n",
    "x1dot = sp.diff(x1, t)\n",
    "y1dot = sp.diff(y1, t)\n",
    "x2dot = sp.diff(x2, t)\n",
    "y2dot = sp.diff(y2, t)\n",
    "\n",
    "T1 = (1/2) * m1 * (x1dot**2 + y1dot**2)\n",
    "T2 = (1/2) * m2 * (x2dot**2 + y2dot**2)\n",
    "T = sp.simplify(T1 + T2)\n",
    "\n",
    "V1 = m1 * g * y1\n",
    "V2 = m2 * g * y2\n",
    "V = sp.simplify(V1 + V2)\n",
    "\n",
    "L = sp.simplify(T - V)\n",
    "\n",
    "# ------------------------------------------------------------\n",
    "# 4️⃣  Euler–Lagrange equations\n",
    "# ------------------------------------------------------------\n",
    "EL1 = sp.diff(sp.diff(L, th1dot), t) - sp.diff(L, th1)\n",
    "EL2 = sp.diff(sp.diff(L, th2dot), t) - sp.diff(L, th2)\n",
    "\n",
    "# Solve for accelerations\n",
    "sol = sp.solve([EL1, EL2], [th1dd, th2dd], dict=True)[0]\n",
    "th1dd_expr = sp.simplify(sol[th1dd])\n",
    "th2dd_expr = sp.simplify(sol[th2dd])\n",
    "\n",
    "# ------------------------------------------------------------\n",
    "# 5️⃣  Substitute parameters and lambdify\n",
    "# ------------------------------------------------------------\n",
    "params = {m1: 1.0, m2: 2.0, R1: 2.0, R2: 1.0, g: 9.8}\n",
    "th1dd_sub = th1dd_expr.subs(params)\n",
    "th2dd_sub = th2dd_expr.subs(params)\n",
    "\n",
    "f_th1dd = sp.lambdify([th1, th2, th1dot, th2dot], th1dd_sub, 'numpy')\n",
    "f_th2dd = sp.lambdify([th1, th2, th1dot, th2dot], th2dd_sub, 'numpy')\n",
    "\n",
    "print(\"\\033[1mθ̈₁(0), θ̈₂(0) at initial conditions:\\033[0m\")\n",
    "print(f\"θ̈₁ = {f_th1dd(-np.pi/2, -np.pi/2, 0, 0):.4f}\")\n",
    "print(f\"θ̈₂ = {f_th2dd(-np.pi/2, -np.pi/2, 0, 0):.4f}\")\n",
    "\n",
    "# ------------------------------------------------------------\n",
    "# 6️⃣  Define RK4 integrator (from HW1)\n",
    "# ------------------------------------------------------------\n",
    "def integrate(f, xt, dt):\n",
    "    k1 = dt * f(xt)\n",
    "    k2 = dt * f(xt + k1 / 2.)\n",
    "    k3 = dt * f(xt + k2 / 2.)\n",
    "    k4 = dt * f(xt + k3)\n",
    "    return xt + (k1 + 2*k2 + 2*k3 + k4) / 6.\n",
    "\n",
    "# ------------------------------------------------------------\n",
    "# 7️⃣  Simulation function\n",
    "# ------------------------------------------------------------\n",
    "def simulate(f, x0, tspan, dt, integrate):\n",
    "    N = int((max(tspan)-min(tspan))/dt)\n",
    "    x = np.copy(x0)\n",
    "    tvec = np.linspace(min(tspan), max(tspan), N)\n",
    "    xtraj = np.zeros((len(x0), N))\n",
    "    for i in range(N):\n",
    "        xtraj[:, i] = integrate(f, x, dt)\n",
    "        x = np.copy(xtraj[:, i])\n",
    "    return xtraj, tvec\n",
    "\n",
    "# ------------------------------------------------------------\n",
    "# 8️⃣  Define dynamics\n",
    "# ------------------------------------------------------------\n",
    "def dyn(s):\n",
    "    th1, th1dot, th2, th2dot = s\n",
    "    return np.array([\n",
    "        th1dot,\n",
    "        f_th1dd(th1, th2, th1dot, th2dot),\n",
    "        th2dot,\n",
    "        f_th2dd(th1, th2, th1dot, th2dot)\n",
    "    ])\n",
    "\n",
    "# ------------------------------------------------------------\n",
    "# 9️⃣  Run simulation\n",
    "# ------------------------------------------------------------\n",
    "dt = 0.01\n",
    "s0 = np.array([-np.pi/2, 0.0, -np.pi/2, 0.0])\n",
    "traj, tvec = simulate(dyn, s0, [0, 5], dt, integrate)\n",
    "\n",
    "# ------------------------------------------------------------\n",
    "# 🔟  Plot trajectories\n",
    "# ------------------------------------------------------------\n",
    "plt.figure(figsize=(9,5))\n",
    "plt.plot(tvec, traj[0,:], label=r'$\\theta_1(t)$')\n",
    "plt.plot(tvec, traj[2,:], label=r'$\\theta_2(t)$')\n",
    "plt.title('Double Pendulum Simulation')\n",
    "plt.xlabel('Time [s]')\n",
    "plt.ylabel('Angle [rad]')\n",
    "plt.legend()\n",
    "plt.grid(True)\n",
    "plt.show()\n"
   ],
   "id": "61f25a32b7bc698a",
   "outputs": [
    {
     "name": "stdout",
     "output_type": "stream",
     "text": [
      "\u001B[1mθ̈₁(0), θ̈₂(0) at initial conditions:\u001B[0m\n",
      "θ̈₁ = 4.9000\n",
      "θ̈₂ = 0.0000\n"
     ]
    },
    {
     "data": {
      "text/plain": [
       "<Figure size 900x500 with 1 Axes>"
      ],
      "image/png": "[encoded data removed]"
     },
     "metadata": {},
     "output_type": "display_data",
     "jetTransient": {
      "display_id": null
     }
    }
   ],
   "execution_count": 114
  },
  {
   "metadata": {},
   "cell_type": "markdown",
   "source": [
    "## Problem 4 (10pts)\n",
    "\n",
    "Finally, let's get fancy! Use the function provided below to animate your simulation of the double-pendulum system based on the trajectories you got in Problem 3.\n",
    "\n",
    "> *Hint 1: If your animation seems to be slow, press \"pause\" and then press \"play\" again! This should play animation at normal speed.*\n",
    "\n",
    "---\n",
    "**Turn in:** Include the code used to generate the animation but note that you don't need to include the animation function! In addition, upload the video of animation through Canvas and make sure that the video format is .mp4. You can use screen capture or record the screen directly with your phone."
   ],
   "id": "b30a36d13931bf9"
  },
  {
   "metadata": {
    "ExecuteTime": {
     "end_time": "2025-10-05T21:06:47.189624620Z",
     "start_time": "2025-10-05T20:54:44.573726Z"
    }
   },
   "cell_type": "code",
   "source": [
    "def animate_double_pend(theta_array,L1=1,L2=1,T=10):\n",
    "    \"\"\"\n",
    "    Function to generate web-based animation of double-pendulum system\n",
    "\n",
    "    Parameters:\n",
    "    ================================================\n",
    "    theta_array:\n",
    "        trajectory of theta1 and theta2, should be a NumPy array with\n",
    "        shape of (2,N)\n",
    "    L1:\n",
    "        length of the first pendulum\n",
    "    L2:\n",
    "        length of the second pendulum\n",
    "    T:\n",
    "        length/seconds of animation duration\n",
    "\n",
    "    Returns: None\n",
    "    \"\"\"\n",
    "\n",
    "    ################################\n",
    "    # Imports required for animation.\n",
    "    from plotly.offline import init_notebook_mode, iplot\n",
    "    from IPython.display import display, HTML\n",
    "    import plotly.graph_objects as go\n",
    "\n",
    "    #######################\n",
    "    # Browser configuration.\n",
    "    def configure_plotly_browser_state():\n",
    "        import IPython\n",
    "        display(IPython.core.display.HTML('''\n",
    "            <script src=\"/static/components/requirejs/require.js\"></script>\n",
    "            <script>\n",
    "              requirejs.config({\n",
    "                paths: {\n",
    "                  base: '/static/base',\n",
    "                  plotly: 'https://cdn.plot.ly/plotly-1.5.1.min.js?noext',\n",
    "                },\n",
    "              });\n",
    "            </script>\n",
    "            '''))\n",
    "    configure_plotly_browser_state()\n",
    "    init_notebook_mode(connected=False)\n",
    "\n",
    "    ###############################################\n",
    "    # Getting data from pendulum angle trajectories.\n",
    "    xx1=L1*np.sin(theta_array[0])\n",
    "    yy1=-L1*np.cos(theta_array[0])\n",
    "    xx2=xx1+L2*np.sin(theta_array[0]+theta_array[1])\n",
    "    yy2=yy1-L2*np.cos(theta_array[0]+theta_array[1])\n",
    "    N = len(theta_array[0]) # Need this for specifying length of simulation\n",
    "\n",
    "    ####################################\n",
    "    # Using these to specify axis limits.\n",
    "    xm=np.min(xx1)-0.5\n",
    "    xM=np.max(xx1)+0.5\n",
    "    ym=np.min(yy1)-2.5\n",
    "    yM=np.max(yy1)+1.5\n",
    "\n",
    "    ###########################\n",
    "    # Defining data dictionary.\n",
    "    # Trajectories are here.\n",
    "    data=[dict(x=xx1, y=yy1,\n",
    "               mode='lines', name='Arm',\n",
    "               line=dict(width=2, color='blue')\n",
    "              ),\n",
    "          dict(x=xx1, y=yy1,\n",
    "               mode='lines', name='Mass 1',\n",
    "               line=dict(width=2, color='purple')\n",
    "              ),\n",
    "          dict(x=xx2, y=yy2,\n",
    "               mode='lines', name='Mass 2',\n",
    "               line=dict(width=2, color='green')\n",
    "              ),\n",
    "          dict(x=xx1, y=yy1,\n",
    "               mode='markers', name='Pendulum 1 Traj',\n",
    "               marker=dict(color=\"purple\", size=2)\n",
    "              ),\n",
    "          dict(x=xx2, y=yy2,\n",
    "               mode='markers', name='Pendulum 2 Traj',\n",
    "               marker=dict(color=\"green\", size=2)\n",
    "              ),\n",
    "        ]\n",
    "\n",
    "    ################################\n",
    "    # Preparing simulation layout.\n",
    "    # Title and axis ranges are here.\n",
    "    layout=dict(xaxis=dict(range=[xm, xM], autorange=False, zeroline=False,dtick=1),\n",
    "                yaxis=dict(range=[ym, yM], autorange=False, zeroline=False,scaleanchor = \"x\",dtick=1),\n",
    "                title='Double Pendulum Simulation',\n",
    "                hovermode='closest',\n",
    "                updatemenus= [{'type': 'buttons',\n",
    "                               'buttons': [{'label': 'Play','method': 'animate',\n",
    "                                            'args': [None, {'frame': {'duration': T, 'redraw': False}}]},\n",
    "                                           {'args': [[None], {'frame': {'duration': T, 'redraw': False}, 'mode': 'immediate',\n",
    "                                            'transition': {'duration': 0}}],'label': 'Pause','method': 'animate'}\n",
    "                                          ]\n",
    "                              }]\n",
    "               )\n",
    "\n",
    "    ########################################\n",
    "    # Defining the frames of the simulation.\n",
    "    # This is what draws the lines from\n",
    "    # joint to joint of the pendulum.\n",
    "    frames=[dict(data=[dict(x=[0,xx1[k],xx2[k]],\n",
    "                            y=[0,yy1[k],yy2[k]],\n",
    "                            mode='lines',\n",
    "                            line=dict(color='red', width=3)\n",
    "                            ),\n",
    "                       go.Scatter(\n",
    "                            x=[xx1[k]],\n",
    "                            y=[yy1[k]],\n",
    "                            mode=\"markers\",\n",
    "                            marker=dict(color=\"blue\", size=12)),\n",
    "                       go.Scatter(\n",
    "                            x=[xx2[k]],\n",
    "                            y=[yy2[k]],\n",
    "                            mode=\"markers\",\n",
    "                            marker=dict(color=\"blue\", size=12)),\n",
    "                      ]) for k in range(N)]\n",
    "\n",
    "    #######################################\n",
    "    # Putting it all together and plotting.\n",
    "    figure1=dict(data=data, layout=layout, frames=frames)\n",
    "    iplot(figure1)\n",
    "\n",
    "##################################################\n",
    "# Example of animation\n",
    "\n",
    "# provide a trajectory of double-pendulum\n",
    "# (note that this array below is not an actual simulation,\n",
    "# but lets you see this animation code work)\n",
    "import numpy as np\n",
    "sim_traj = np.array([np.linspace(-1, 1, 100), np.linspace(-1, 1, 100)])\n",
    "print('shape of trajectory: ', sim_traj.shape)\n",
    "\n",
    "# second, animate!\n",
    "animate_double_pend(sim_traj,L1=1,L2=1,T=10)"
   ],
   "id": "73b327a735158965",
   "outputs": [
    {
     "name": "stdout",
     "output_type": "stream",
     "text": [
      "shape of trajectory:  (2, 100)\n"
     ]
    },
    {
     "ename": "ModuleNotFoundError",
     "evalue": "No module named 'plotly'",
     "output_type": "error",
     "traceback": [
      "\u001B[31m---------------------------------------------------------------------------\u001B[39m",
      "\u001B[31mModuleNotFoundError\u001B[39m                       Traceback (most recent call last)",
      "\u001B[36mCell\u001B[39m\u001B[36m \u001B[39m\u001B[32mIn[115]\u001B[39m\u001B[32m, line 137\u001B[39m\n\u001B[32m    134\u001B[39m \u001B[38;5;28mprint\u001B[39m(\u001B[33m'\u001B[39m\u001B[33mshape of trajectory: \u001B[39m\u001B[33m'\u001B[39m, sim_traj.shape)\n\u001B[32m    136\u001B[39m \u001B[38;5;66;03m# second, animate!\u001B[39;00m\n\u001B[32m--> \u001B[39m\u001B[32m137\u001B[39m \u001B[43manimate_double_pend\u001B[49m\u001B[43m(\u001B[49m\u001B[43msim_traj\u001B[49m\u001B[43m,\u001B[49m\u001B[43mL1\u001B[49m\u001B[43m=\u001B[49m\u001B[32;43m1\u001B[39;49m\u001B[43m,\u001B[49m\u001B[43mL2\u001B[49m\u001B[43m=\u001B[49m\u001B[32;43m1\u001B[39;49m\u001B[43m,\u001B[49m\u001B[43mT\u001B[49m\u001B[43m=\u001B[49m\u001B[32;43m10\u001B[39;49m\u001B[43m)\u001B[49m\n",
      "\u001B[36mCell\u001B[39m\u001B[36m \u001B[39m\u001B[32mIn[115]\u001B[39m\u001B[32m, line 22\u001B[39m, in \u001B[36manimate_double_pend\u001B[39m\u001B[34m(theta_array, L1, L2, T)\u001B[39m\n\u001B[32m      2\u001B[39m \u001B[38;5;250m\u001B[39m\u001B[33;03m\"\"\"\u001B[39;00m\n\u001B[32m      3\u001B[39m \u001B[33;03mFunction to generate web-based animation of double-pendulum system\u001B[39;00m\n\u001B[32m      4\u001B[39m \n\u001B[32m   (...)\u001B[39m\u001B[32m     17\u001B[39m \u001B[33;03mReturns: None\u001B[39;00m\n\u001B[32m     18\u001B[39m \u001B[33;03m\"\"\"\u001B[39;00m\n\u001B[32m     20\u001B[39m \u001B[38;5;66;03m################################\u001B[39;00m\n\u001B[32m     21\u001B[39m \u001B[38;5;66;03m# Imports required for animation.\u001B[39;00m\n\u001B[32m---> \u001B[39m\u001B[32m22\u001B[39m \u001B[38;5;28;01mfrom\u001B[39;00m\u001B[38;5;250m \u001B[39m\u001B[34;01mplotly\u001B[39;00m\u001B[34;01m.\u001B[39;00m\u001B[34;01moffline\u001B[39;00m\u001B[38;5;250m \u001B[39m\u001B[38;5;28;01mimport\u001B[39;00m init_notebook_mode, iplot\n\u001B[32m     23\u001B[39m \u001B[38;5;28;01mfrom\u001B[39;00m\u001B[38;5;250m \u001B[39m\u001B[34;01mIPython\u001B[39;00m\u001B[34;01m.\u001B[39;00m\u001B[34;01mdisplay\u001B[39;00m\u001B[38;5;250m \u001B[39m\u001B[38;5;28;01mimport\u001B[39;00m display, HTML\n\u001B[32m     24\u001B[39m \u001B[38;5;28;01mimport\u001B[39;00m\u001B[38;5;250m \u001B[39m\u001B[34;01mplotly\u001B[39;00m\u001B[34;01m.\u001B[39;00m\u001B[34;01mgraph_objects\u001B[39;00m\u001B[38;5;250m \u001B[39m\u001B[38;5;28;01mas\u001B[39;00m\u001B[38;5;250m \u001B[39m\u001B[34;01mgo\u001B[39;00m\n",
      "\u001B[31mModuleNotFoundError\u001B[39m: No module named 'plotly'"
     ]
    }
   ],
   "execution_count": 115
  },
  {
   "metadata": {
    "ExecuteTime": {
     "end_time": "2025-10-05T21:06:47.191005647Z",
     "start_time": "2025-10-05T20:54:45.505909Z"
    }
   },
   "cell_type": "code",
   "source": [
    "# ------------------------------------------------------------\n",
    "# 5️⃣ Animate the double pendulum\n",
    "# ------------------------------------------------------------\n",
    "theta_array = np.vstack((traj[0,:], traj[2,:]))\n",
    "print(\"Shape of trajectory array:\", theta_array.shape)\n",
    "\n",
    "animate_double_pend(theta_array, L1=2, L2=1, T=10)\n"
   ],
   "id": "933912abba8cf218",
   "outputs": [
    {
     "name": "stdout",
     "output_type": "stream",
     "text": [
      "Shape of trajectory array: (2, 500)\n"
     ]
    },
    {
     "ename": "ModuleNotFoundError",
     "evalue": "No module named 'plotly'",
     "output_type": "error",
     "traceback": [
      "\u001B[31m---------------------------------------------------------------------------\u001B[39m",
      "\u001B[31mModuleNotFoundError\u001B[39m                       Traceback (most recent call last)",
      "\u001B[36mCell\u001B[39m\u001B[36m \u001B[39m\u001B[32mIn[116]\u001B[39m\u001B[32m, line 7\u001B[39m\n\u001B[32m      4\u001B[39m theta_array = np.vstack((traj[\u001B[32m0\u001B[39m,:], traj[\u001B[32m2\u001B[39m,:]))\n\u001B[32m      5\u001B[39m \u001B[38;5;28mprint\u001B[39m(\u001B[33m\"\u001B[39m\u001B[33mShape of trajectory array:\u001B[39m\u001B[33m\"\u001B[39m, theta_array.shape)\n\u001B[32m----> \u001B[39m\u001B[32m7\u001B[39m \u001B[43manimate_double_pend\u001B[49m\u001B[43m(\u001B[49m\u001B[43mtheta_array\u001B[49m\u001B[43m,\u001B[49m\u001B[43m \u001B[49m\u001B[43mL1\u001B[49m\u001B[43m=\u001B[49m\u001B[32;43m2\u001B[39;49m\u001B[43m,\u001B[49m\u001B[43m \u001B[49m\u001B[43mL2\u001B[49m\u001B[43m=\u001B[49m\u001B[32;43m1\u001B[39;49m\u001B[43m,\u001B[49m\u001B[43m \u001B[49m\u001B[43mT\u001B[49m\u001B[43m=\u001B[49m\u001B[32;43m10\u001B[39;49m\u001B[43m)\u001B[49m\n",
      "\u001B[36mCell\u001B[39m\u001B[36m \u001B[39m\u001B[32mIn[115]\u001B[39m\u001B[32m, line 22\u001B[39m, in \u001B[36manimate_double_pend\u001B[39m\u001B[34m(theta_array, L1, L2, T)\u001B[39m\n\u001B[32m      2\u001B[39m \u001B[38;5;250m\u001B[39m\u001B[33;03m\"\"\"\u001B[39;00m\n\u001B[32m      3\u001B[39m \u001B[33;03mFunction to generate web-based animation of double-pendulum system\u001B[39;00m\n\u001B[32m      4\u001B[39m \n\u001B[32m   (...)\u001B[39m\u001B[32m     17\u001B[39m \u001B[33;03mReturns: None\u001B[39;00m\n\u001B[32m     18\u001B[39m \u001B[33;03m\"\"\"\u001B[39;00m\n\u001B[32m     20\u001B[39m \u001B[38;5;66;03m################################\u001B[39;00m\n\u001B[32m     21\u001B[39m \u001B[38;5;66;03m# Imports required for animation.\u001B[39;00m\n\u001B[32m---> \u001B[39m\u001B[32m22\u001B[39m \u001B[38;5;28;01mfrom\u001B[39;00m\u001B[38;5;250m \u001B[39m\u001B[34;01mplotly\u001B[39;00m\u001B[34;01m.\u001B[39;00m\u001B[34;01moffline\u001B[39;00m\u001B[38;5;250m \u001B[39m\u001B[38;5;28;01mimport\u001B[39;00m init_notebook_mode, iplot\n\u001B[32m     23\u001B[39m \u001B[38;5;28;01mfrom\u001B[39;00m\u001B[38;5;250m \u001B[39m\u001B[34;01mIPython\u001B[39;00m\u001B[34;01m.\u001B[39;00m\u001B[34;01mdisplay\u001B[39;00m\u001B[38;5;250m \u001B[39m\u001B[38;5;28;01mimport\u001B[39;00m display, HTML\n\u001B[32m     24\u001B[39m \u001B[38;5;28;01mimport\u001B[39;00m\u001B[38;5;250m \u001B[39m\u001B[34;01mplotly\u001B[39;00m\u001B[34;01m.\u001B[39;00m\u001B[34;01mgraph_objects\u001B[39;00m\u001B[38;5;250m \u001B[39m\u001B[38;5;28;01mas\u001B[39;00m\u001B[38;5;250m \u001B[39m\u001B[34;01mgo\u001B[39;00m\n",
      "\u001B[31mModuleNotFoundError\u001B[39m: No module named 'plotly'"
     ]
    }
   ],
   "execution_count": 116
  },
  {
   "metadata": {},
   "cell_type": "code",
   "outputs": [],
   "execution_count": null,
   "source": "",
   "id": "8f4ad895e0d9567"
  }
 ],
 "metadata": {
  "kernelspec": {
   "display_name": "Python 3",
   "language": "python",
   "name": "python3"
  },
  "language_info": {
   "codemirror_mode": {
    "name": "ipython",
    "version": 2
   },
   "file_extension": ".py",
   "mimetype": "text/x-python",
   "name": "python",
   "nbconvert_exporter": "python",
   "pygments_lexer": "ipython2",
   "version": "2.7.6"
  }
 },
 "nbformat": 4,
 "nbformat_minor": 5
}
