{
 "cells": [
  {
   "metadata": {
    "collapsed": true,
    "ExecuteTime": {
     "end_time": "2025-09-22T00:41:09.636171Z",
     "start_time": "2025-09-22T00:41:09.633423Z"
    }
   },
   "cell_type": "markdown",
   "source": "# Numpy, Sympy, and Matplotlib Tutorial for Fall 2025 ME 314",
   "id": "77c3d9f3fa08cbd4"
  },
  {
   "metadata": {
    "ExecuteTime": {
     "end_time": "2025-09-22T16:45:59.325323Z",
     "start_time": "2025-09-22T16:45:58.598583Z"
    }
   },
   "cell_type": "code",
   "source": [
    "#IMPORT ALL NECESSARY PACKAGES AT THE TOP OF THE CODE\n",
    "import sympy as sym\n",
    "import numpy as np\n",
    "import matplotlib.pyplot as plt\n",
    "from IPython.display import Markdown, display\n"
   ],
   "id": "3e7d508d799ffb6f",
   "outputs": [],
   "execution_count": 2
  },
  {
   "metadata": {
    "ExecuteTime": {
     "end_time": "2025-09-22T16:45:59.347047Z",
     "start_time": "2025-09-22T16:45:59.338038Z"
    }
   },
   "cell_type": "code",
   "source": [
    "# ##############################################################################################\n",
    "# # If you're using Google Colab, uncomment this section by selecting the whole section and press\n",
    "# # ctrl+'/' (Linux/Windows) or cmd+'/' (MacOS) on your and keyboard. Run it before you start\n",
    "# # programming, this will enable the nice LaTeX \"display()\" function for you. If you're using\n",
    "# # the local Jupyter environment, leave it alone\n",
    "# ##############################################################################################\n",
    "\n",
    "\n",
    "try:\n",
    "    # Only works in Google Colab\n",
    "    from google.colab.output._publish import javascript\n",
    "\n",
    "    def custom_latex_printer(exp, **options):\n",
    "        url = \"https://cdnjs.cloudflare.com/ajax/libs/mathjax/3.1.1/latest.js?config=TeX-AMS_HTML\"\n",
    "        javascript(url=url)\n",
    "        return sym.printing.latex(exp, **options)\n",
    "\n",
    "    sym.init_printing(use_latex=\"mathjax\", latex_printer=custom_latex_printer)\n",
    "\n",
    "except ModuleNotFoundError:\n",
    "    # Fallback for Jupyter or other environments\n",
    "    sym.init_printing(use_latex=\"mathjax\")"
   ],
   "id": "bb133b327ed42e0b",
   "outputs": [],
   "execution_count": 3
  },
  {
   "metadata": {},
   "cell_type": "markdown",
   "source": [
    "## Problem 1 (20pts)\n",
    "\n",
    "Given a function $f(x)=\\sin(x)$, find the derivative of $f(x)$ and find the directional derivative of $f(x)$ in the direction $v$.  Moreover, compute these derivatives using Pythons's SymPy package."
   ],
   "id": "70ef8e8762134e5d"
  },
  {
   "metadata": {
    "ExecuteTime": {
     "end_time": "2025-09-22T16:45:59.559953Z",
     "start_time": "2025-09-22T16:45:59.399460Z"
    }
   },
   "cell_type": "code",
   "source": [
    "####################################\n",
    "# Part 1: compute derivative of f\n",
    "\n",
    "# define your symbolic variable here\n",
    "x = sym.symbols('x')\n",
    "\n",
    "# define the function f\n",
    "f = sym.sin(x)\n",
    "\n",
    "# compute derivative of f\n",
    "df = f.diff(x)\n",
    "\n",
    "# output resutls\n",
    "print(\"derivative of f: \")\n",
    "display(df)\n",
    "\n",
    "####################################\n",
    "# Part 2: compute directional derivative of f\n",
    "\n",
    "# define dummy variable epsilon, and the direction v\n",
    "# note 1: here the character 'r' means raw string\n",
    "# note 2: here I define the symbol for epsilon with\n",
    "#          the name \"\\epsilon\", this is for LaTeX printing\n",
    "#          later. In your case, you can give it any other\n",
    "#          name you want.\n",
    "eps, v = sym.symbols(r'\\epsilon, v')\n",
    "\n",
    "# add epsilon into function f\n",
    "new_f = sym.sin(x + v*eps)\n",
    "\n",
    "# take derivative of the new function w.r.t. epsilon\n",
    "df_eps = new_f.diff(eps)\n",
    "\n",
    "# output this derivative\n",
    "print(\"derivative of f wrt eps: \")\n",
    "display(df_eps)\n",
    "\n",
    "# now, as you've seen the class, we need evaluate for eps=0 to ...\n",
    "# ... get the directional derivative. To do this, we need to ...\n",
    "# ... use SymPy's built-in substitution method \"subs()\" to ...\n",
    "# ... replace the epsilon symbol with 0\n",
    "new_df = df_eps.subs(eps, 0)\n",
    "\n",
    "# output directional derivative\n",
    "print(\"directional derivative of f on v: \")\n",
    "display(new_df)"
   ],
   "id": "b541389f0cdadf5c",
   "outputs": [
    {
     "name": "stdout",
     "output_type": "stream",
     "text": [
      "derivative of f: \n"
     ]
    },
    {
     "data": {
      "text/plain": [
       "cos(x)"
      ],
      "text/latex": "$\\displaystyle \\cos{\\left(x \\right)}$"
     },
     "metadata": {},
     "output_type": "display_data",
     "jetTransient": {
      "display_id": null
     }
    },
    {
     "name": "stdout",
     "output_type": "stream",
     "text": [
      "derivative of f wrt eps: \n"
     ]
    },
    {
     "data": {
      "text/plain": [
       "v⋅cos(\\epsilon⋅v + x)"
      ],
      "text/latex": "$\\displaystyle v \\cos{\\left(\\epsilon v + x \\right)}$"
     },
     "metadata": {},
     "output_type": "display_data",
     "jetTransient": {
      "display_id": null
     }
    },
    {
     "name": "stdout",
     "output_type": "stream",
     "text": [
      "directional derivative of f on v: \n"
     ]
    },
    {
     "data": {
      "text/plain": [
       "v⋅cos(x)"
      ],
      "text/latex": "$\\displaystyle v \\cos{\\left(x \\right)}$"
     },
     "metadata": {},
     "output_type": "display_data",
     "jetTransient": {
      "display_id": null
     }
    }
   ],
   "execution_count": 4
  },
  {
   "metadata": {},
   "cell_type": "markdown",
   "source": "**Turn in: A scanned (or photograph from your phone or webcam) copy of your hand written solution for both derivatives (or you can use $\\LaTeX$, instead of hand writing). Also, turn in the code used to compute the symbolic solutions for both derivatives and the code output.**",
   "id": "9c4d37ff98cf867d"
  },
  {
   "metadata": {},
   "cell_type": "markdown",
   "source": [
    "$\\begin{aligned}\n",
    "\\frac{d}{dx}\\sin(x)\n",
    "&= \\lim_{h \\to 0} \\frac{\\sin(x+h)-\\sin(x)}{h}\n",
    "\\qquad\\text{(set }h=\\varepsilon v(x)\\text{)}\\\\[6pt]\n",
    "&= \\lim_{\\varepsilon \\to 0} \\frac{\\sin\\!\\big(x+\\varepsilon v(x)\\big)-\\sin(x)}\n",
    "{\\varepsilon v(x)}\\\\[6pt]\n",
    "&= \\lim_{\\varepsilon \\to 0}\n",
    "\\frac{\\sin(x)\\cos\\!\\big(\\varepsilon v(x)\\big)+\\cos(x)\\sin\\!\\big(\\varepsilon v(x)\\big)-\\sin(x)}\n",
    "{\\varepsilon v(x)}\n",
    "\\qquad\\text{(use }\\sin(a+b)=\\sin a\\cos b+\\cos a\\sin b\\text{)}\\\\[6pt]\n",
    "&= \\lim_{\\varepsilon \\to 0}\n",
    "\\frac{\\sin(x)\\big(\\cos(\\varepsilon v(x))-1\\big)+\\cos(x)\\sin(\\varepsilon v(x))}\n",
    "{\\varepsilon v(x)}\\\\[8pt]\n",
    "&= \\lim_{\\varepsilon \\to 0}\\left[\n",
    "\\sin(x)\\,\\frac{\\cos(\\varepsilon v(x))-1}{\\varepsilon v(x)}\n",
    "\\;+\\;\n",
    "\\cos(x)\\,\\frac{\\sin(\\varepsilon v(x))}{\\varepsilon v(x)}\n",
    "\\right].\n",
    "\\end{aligned}$\n",
    "\n",
    "Now set $u=\\varepsilon v(x)$. As $(\\varepsilon\\to0)$ we have $(u\\to0)$ (provided $(v(x))$ is finite), and we use the standard limits\n",
    "$(\\displaystyle\\lim_{u\\to0}\\frac{\\sin u}{u}=1)$ and $(\\displaystyle\\lim_{u\\to0}\\frac{\\cos u-1}{u}=0)$. Therefore\n",
    "\n",
    "$\\begin{aligned}\n",
    "\\frac{d}{dx}\\sin(x)\n",
    "&= \\sin(x)\\cdot 0 + \\cos(x)\\cdot 1\\\\[4pt]\n",
    "&= \\cos(x).\n",
    "\\end{aligned}$\n",
    "\n",
    "$\n",
    "\\boxed{\\displaystyle\n",
    "\\frac{d}{dx}\\sin(x)=\\cos(x)\n",
    "}$\n"
   ],
   "id": "d9ee2e02d217e7e5"
  },
  {
   "metadata": {
    "ExecuteTime": {
     "end_time": "2025-09-22T16:45:59.603004Z",
     "start_time": "2025-09-22T16:45:59.600415Z"
    }
   },
   "cell_type": "code",
   "source": "",
   "id": "de0937246528bc2b",
   "outputs": [],
   "execution_count": null
  },
  {
   "metadata": {},
   "cell_type": "markdown",
   "source": [
    "$\n",
    "\\frac{d}{dt}\\cos(t)\n",
    "= \\lim_{\\varepsilon \\to 0}\n",
    "  \\frac{\\cos\\!\\big(t + \\varepsilon v(t)\\big) - \\cos(t)}{\\varepsilon v(t)}\n",
    "$\n",
    "\n",
    "$\n",
    "= \\lim_{\\varepsilon \\to 0}\n",
    "  \\frac{\\cos(t)\\cos\\!\\big(\\varepsilon v(t)\\big)\n",
    "        - \\sin(t)\\sin\\!\\big(\\varepsilon v(t)\\big)\n",
    "        - \\cos(t)}{\\varepsilon v(t)}\n",
    "$\n",
    "\n",
    "$\n",
    "= \\lim_{\\varepsilon \\to 0}\n",
    "  \\frac{\\cos(t)\\big(\\cos\\!\\big(\\varepsilon v(t)\\big) - 1\\big)\n",
    "        - \\sin(t)\\sin\\!\\big(\\varepsilon v(t)\\big)}{\\varepsilon v(t)}\n",
    "$\n",
    "\n",
    "$\n",
    "= \\cos(t) \\cdot \\lim_{\\varepsilon \\to 0}\n",
    "    \\frac{\\cos\\!\\big(\\varepsilon v(t)\\big) - 1}{\\varepsilon v(t)}\n",
    "  - \\sin(t) \\cdot \\lim_{\\varepsilon \\to 0}\n",
    "    \\frac{\\sin\\!\\big(\\varepsilon v(t)\\big)}{\\varepsilon v(t)}\n",
    "$\n",
    "\n",
    "$\n",
    "= \\cos(t) \\cdot (0) - \\sin(t) \\cdot (1)\n",
    "$\n",
    "\n",
    "$\n",
    "= -\\sin(t)\n",
    "$\n"
   ],
   "id": "eabe4ec62bc02d5c"
  },
  {
   "metadata": {},
   "cell_type": "markdown",
   "source": [
    "## Problem 2 (20pts)\n",
    "\n",
    "Given a function of trajectory:\n",
    "$$\n",
    "J(x(t)) = \\int_0^{\\pi/2} \\frac{1}{2} x(t)^2 dt\n",
    "$$\n",
    "Compute the analytical solution when $x=\\cos(t)$, verify your answer by numerical integration.\n",
    "\n",
    "The code for numerical integration is provided below:"
   ],
   "id": "3d6efa822d7a5bc5"
  },
  {
   "metadata": {
    "ExecuteTime": {
     "end_time": "2025-09-22T16:45:59.663354Z",
     "start_time": "2025-09-22T16:45:59.656842Z"
    }
   },
   "cell_type": "code",
   "source": [
    "def integrate(func, xspan, step_size):\n",
    "    '''\n",
    "    Numerical integration with Euler's method\n",
    "\n",
    "    Parameters:\n",
    "    ====================\n",
    "    func: Python function\n",
    "        func is the function you want to integrate for\n",
    "    xspan: list\n",
    "        xspan is a list of two elements, representing\n",
    "        the start and end of integration\n",
    "    step_size:\n",
    "        a smaller step_size will give a more accurate result\n",
    "\n",
    "    Returns:\n",
    "    int_val:\n",
    "        result of the integration\n",
    "    ====================\n",
    "    '''\n",
    "    x = np.arange(xspan[0], xspan[1], step_size)\n",
    "    int_val = 0\n",
    "    for xi in x:\n",
    "        int_val += func(xi) * step_size\n",
    "    return int_val\n",
    "\n",
    "# a simple test\n",
    "def square(x):\n",
    "    return x**2\n",
    "\n",
    "def doCos(x):\n",
    "    return (0.5) * np.cos(x)**2\n",
    "#print( integrate(func=square, xspan=[0, 1], step_size=0.01) )\n",
    "\n",
    "print(\"Answer is\")\n",
    "print( integrate(func=doCos, xspan=[0, np.pi/2], step_size=0.01) )\n",
    "# or you just call the function without indicating parameters\n",
    "# print( integrate(square, [0,1], 0.01) )\n"
   ],
   "id": "223d134cf71d772d",
   "outputs": [
    {
     "name": "stdout",
     "output_type": "stream",
     "text": [
      "Answer is\n",
      "0.3951990765638034\n"
     ]
    }
   ],
   "execution_count": 5
  },
  {
   "metadata": {
    "ExecuteTime": {
     "end_time": "2025-09-22T16:45:59.718237Z",
     "start_time": "2025-09-22T16:45:59.715481Z"
    }
   },
   "cell_type": "markdown",
   "source": [
    "$\\frac{\\cos^{2}\\left(x\\right)}{2}$\n",
    "\n",
    "$= \\frac{1}{2} \\, \\int \\cos^{2}\\left(x\\right) \\, \\mathrm{d}x$\n",
    "\n",
    "Now solving:\n",
    "\n",
    "$\\int \\cos^{2}\\left(x\\right) \\, \\mathrm{d}x$\n",
    "\n",
    "$= \\int \\frac{\\cos\\left(2x\\right) + 1}{2} \\, \\mathrm{d}x$\n",
    "\n",
    "$= \\frac{1}{2} \\, \\int \\cos\\left(2x\\right) \\, \\mathrm{d}x + \\frac{1}{2} \\, \\int 1 \\, \\mathrm{d}x$\n",
    "\n",
    "Now solving:\n",
    "\n",
    "$\\int \\cos\\left(2x\\right) \\, \\mathrm{d}x$\n",
    "\n",
    "substitute $u=2x$ --> $du=2dx$\n",
    "\n",
    "$= \\frac{1}{2} \\, \\int \\cos\\left(u\\right) \\, \\mathrm{d}u$\n",
    "\n",
    "now solving\n",
    "$\\int \\cos\\left(u\\right) \\, \\mathrm{d}u$\n",
    "\n",
    "$= \\sin\\left(u\\right)$\n",
    "\n",
    "Plug in solved integrals:\n",
    "\n",
    "$\\frac{1}{2} \\, \\int \\cos\\left(u\\right) \\, \\mathrm{d}u = \\frac{\\sin\\left(u\\right)}{2}\n",
    "= \\frac{\\sin\\left(2x\\right)}{2}$\n",
    "\n",
    "now solving\n",
    "\n",
    "$\\int 1 \\, \\mathrm{d}x = x$\n",
    "\n",
    "Plug in solved integrals:\n",
    "\n",
    "$\\frac{1}{2} \\, \\int \\cos\\left(2x\\right) \\, \\mathrm{d}x + \\frac{1}{2} \\, \\int 1 \\, \\mathrm{d}x$\n",
    "\n",
    "$= \\frac{\\sin\\left(2x\\right)}{4} + \\frac{x}{2}$\n",
    "\n",
    "Plug in solved integrals:\n",
    "\n",
    "$\\frac{1}{2} \\, \\int \\cos^{2}\\left(x\\right) \\, \\mathrm{d}x\n",
    "=  \\frac{\\sin\\left(2x\\right)}{8} + \\frac{x}{4}$\n",
    "\n",
    "The problem is solved:\n",
    "\n",
    "$\\int \\frac{\\cos^{2}\\left(x\\right)}{2} \\, \\mathrm{d}x = \\frac{\\sin\\left(2x\\right)}{8} + \\frac{x}{4} + C$"
   ],
   "id": "f52e17a7b4d312ba"
  },
  {
   "metadata": {},
   "cell_type": "code",
   "outputs": [],
   "execution_count": null,
   "source": "",
   "id": "153767e33cb0636d"
  }
 ],
 "metadata": {
  "kernelspec": {
   "display_name": "Python 3",
   "language": "python",
   "name": "python3"
  },
  "language_info": {
   "codemirror_mode": {
    "name": "ipython",
    "version": 2
   },
   "file_extension": ".py",
   "mimetype": "text/x-python",
   "name": "python",
   "nbconvert_exporter": "python",
   "pygments_lexer": "ipython2",
   "version": "2.7.6"
  }
 },
 "nbformat": 4,
 "nbformat_minor": 5
}
