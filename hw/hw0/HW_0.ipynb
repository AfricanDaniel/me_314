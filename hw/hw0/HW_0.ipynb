{
 "cells": [
  {
   "metadata": {},
   "cell_type": "markdown",
   "source": "Collaborators: Saif Ahmad",
   "id": "5bbc5123dbeb3dde"
  },
  {
   "metadata": {
    "collapsed": true
   },
   "cell_type": "markdown",
   "source": "# Numpy, Sympy, and Matplotlib Tutorial for Fall 2025 ME 314",
   "id": "454d0c5b65d13462"
  },
  {
   "metadata": {
    "collapsed": true,
    "ExecuteTime": {
     "end_time": "2025-09-23T04:15:05.202694Z",
     "start_time": "2025-09-23T04:15:05.199600Z"
    }
   },
   "cell_type": "code",
   "source": [
    "#IMPORT ALL NECESSARY PACKAGES AT THE TOP OF THE CODE\n",
    "import sympy as sym\n",
    "import numpy as np\n",
    "import matplotlib.pyplot as plt\n",
    "from IPython.display import Markdown, display\n",
    "from IPython.display import IFrame"
   ],
   "id": "754e8e1f991ff798",
   "outputs": [],
   "execution_count": 37
  },
  {
   "metadata": {
    "ExecuteTime": {
     "end_time": "2025-09-23T04:15:05.254205Z",
     "start_time": "2025-09-23T04:15:05.248945Z"
    }
   },
   "cell_type": "code",
   "source": [
    "# ##############################################################################################\n",
    "# # If you're using Google Colab, uncomment this section by selecting the whole section and press\n",
    "# # ctrl+'/' (Linux/Windows) or cmd+'/' (MacOS) on your and keyboard. Run it before you start\n",
    "# # programming, this will enable the nice LaTeX \"display()\" function for you. If you're using\n",
    "# # the local Jupyter environment, leave it alone\n",
    "# ##############################################################################################\n",
    "\n",
    "\n",
    "try:\n",
    "    # Only works in Google Colab\n",
    "    from google.colab.output._publish import javascript\n",
    "\n",
    "    def custom_latex_printer(exp, **options):\n",
    "        url = \"https://cdnjs.cloudflare.com/ajax/libs/mathjax/3.1.1/latest.js?config=TeX-AMS_HTML\"\n",
    "        javascript(url=url)\n",
    "        return sym.printing.latex(exp, **options)\n",
    "    sym.init_printing(use_latex=\"mathjax\", latex_printer=custom_latex_printer)\n",
    "\n",
    "except ModuleNotFoundError:\n",
    "    # Fallback for Jupyter or other environments\n",
    "    sym.init_printing(use_latex=\"mathjax\")"
   ],
   "id": "cc643f52d00c57b5",
   "outputs": [],
   "execution_count": 38
  },
  {
   "metadata": {},
   "cell_type": "markdown",
   "source": [
    "## Problem 1 (20pts)\n",
    "\n",
    "Given a function $f(x)=\\sin(x)$, find the derivative of $f(x)$ and find the directional derivative of $f(x)$ in the direction $v$.  Moreover, compute these derivatives using Pythons's SymPy package."
   ],
   "id": "1c98963170cb5cc1"
  },
  {
   "metadata": {
    "ExecuteTime": {
     "end_time": "2025-09-23T04:15:05.321172Z",
     "start_time": "2025-09-23T04:15:05.303973Z"
    }
   },
   "cell_type": "code",
   "source": [
    "####################################\n",
    "# Part 1: compute derivative of f\n",
    "\n",
    "# define your symbolic variable here\n",
    "x = sym.symbols('x')\n",
    "\n",
    "# define the function f\n",
    "f = sym.sin(x)\n",
    "\n",
    "# compute derivative of f\n",
    "df = f.diff(x)\n",
    "\n",
    "# output resutls\n",
    "print(\"derivative of f: \")\n",
    "display(df)\n",
    "\n",
    "####################################\n",
    "# Part 2: compute directional derivative of f\n",
    "\n",
    "# define dummy variable epsilon, and the direction v\n",
    "# note 1: here the character 'r' means raw string\n",
    "# note 2: here I define the symbol for epsilon with\n",
    "#          the name \"\\epsilon\", this is for LaTeX printing\n",
    "#          later. In your case, you can give it any other\n",
    "#          name you want.\n",
    "eps, v = sym.symbols(r'\\epsilon, v')\n",
    "\n",
    "# add epsilon into function f\n",
    "new_f = sym.sin(x + v*eps)\n",
    "\n",
    "# take derivative of the new function w.r.t. epsilon\n",
    "df_eps = new_f.diff(eps)\n",
    "\n",
    "# output this derivative\n",
    "print(\"derivative of f wrt eps: \")\n",
    "display(df_eps)\n",
    "\n",
    "# now, as you've seen the class, we need evaluate for eps=0 to ...\n",
    "# ... get the directional derivative. To do this, we need to ...\n",
    "# ... use SymPy's built-in substitution method \"subs()\" to ...\n",
    "# ... replace the epsilon symbol with 0\n",
    "new_df = df_eps.subs(eps, 0)\n",
    "\n",
    "# output directional derivative\n",
    "print(\"directional derivative of f on v: \")\n",
    "display(new_df)"
   ],
   "id": "1ca6dee58a243345",
   "outputs": [
    {
     "name": "stdout",
     "output_type": "stream",
     "text": [
      "derivative of f: \n"
     ]
    },
    {
     "data": {
      "text/plain": [
       "cos(x)"
      ],
      "text/latex": "$\\displaystyle \\cos{\\left(x \\right)}$"
     },
     "metadata": {},
     "output_type": "display_data",
     "jetTransient": {
      "display_id": null
     }
    },
    {
     "name": "stdout",
     "output_type": "stream",
     "text": [
      "derivative of f wrt eps: \n"
     ]
    },
    {
     "data": {
      "text/plain": [
       "v⋅cos(\\epsilon⋅v + x)"
      ],
      "text/latex": "$\\displaystyle v \\cos{\\left(\\epsilon v + x \\right)}$"
     },
     "metadata": {},
     "output_type": "display_data",
     "jetTransient": {
      "display_id": null
     }
    },
    {
     "name": "stdout",
     "output_type": "stream",
     "text": [
      "directional derivative of f on v: \n"
     ]
    },
    {
     "data": {
      "text/plain": [
       "v⋅cos(x)"
      ],
      "text/latex": "$\\displaystyle v \\cos{\\left(x \\right)}$"
     },
     "metadata": {},
     "output_type": "display_data",
     "jetTransient": {
      "display_id": null
     }
    }
   ],
   "execution_count": 39
  },
  {
   "metadata": {},
   "cell_type": "markdown",
   "source": "**Turn in: A scanned (or photograph from your phone or webcam) copy of your hand written solution for both derivatives (or you can use $\\LaTeX$, instead of hand writing). Also, turn in the code used to compute the symbolic solutions for both derivatives and the code output.**\n",
   "id": "9827eb4a183bb3ac"
  },
  {
   "metadata": {
    "ExecuteTime": {
     "end_time": "2025-09-23T04:15:05.371560Z",
     "start_time": "2025-09-23T04:15:05.367188Z"
    }
   },
   "cell_type": "code",
   "source": [
    "# Specify the path to your PDF file and desired dimensions\n",
    "pdf_path = \"Hw0_Q1.pdf\"  # Replace with the actual path to your PDF\n",
    "width = 800  # Adjust as needed\n",
    "height = 600  # Adjust as needed\n",
    "\n",
    "# Create and display the IFrame\n",
    "IFrame(pdf_path, width=width, height=height)\n"
   ],
   "id": "9de55c5b26911ef7",
   "outputs": [
    {
     "data": {
      "text/plain": [
       "<IPython.lib.display.IFrame at 0x75ab67983d10>"
      ],
      "text/html": [
       "\n",
       "        <iframe\n",
       "            width=\"800\"\n",
       "            height=\"600\"\n",
       "            src=\"Hw0_Q1.pdf\"\n",
       "            frameborder=\"0\"\n",
       "            allowfullscreen\n",
       "            \n",
       "        ></iframe>\n",
       "        "
      ]
     },
     "execution_count": 40,
     "metadata": {},
     "output_type": "execute_result"
    }
   ],
   "execution_count": 40
  },
  {
   "metadata": {},
   "cell_type": "markdown",
   "source": [
    "## Problem 2 (20pts)\n",
    "\n",
    "Given a function of trajectory:\n",
    "$$\n",
    "J(x(t)) = \\int_0^{\\pi/2} \\frac{1}{2} x(t)^2 dt\n",
    "$$\n",
    "Compute the analytical solution when $x=\\cos(t)$, verify your answer by numerical integration.\n",
    "\n",
    "The code for numerical integration is provided below:"
   ],
   "id": "9da5e7daf24df8fb"
  },
  {
   "metadata": {
    "ExecuteTime": {
     "end_time": "2025-09-23T04:15:05.429225Z",
     "start_time": "2025-09-23T04:15:05.423493Z"
    }
   },
   "cell_type": "code",
   "source": [
    "def integrate(func, xspan, step_size):\n",
    "    '''\n",
    "    Numerical integration with Euler's method\n",
    "\n",
    "    Parameters:\n",
    "    ====================\n",
    "    func: Python function\n",
    "        func is the function you want to integrate for\n",
    "    xspan: list\n",
    "        xspan is a list of two elements, representing\n",
    "        the start and end of integration\n",
    "    step_size:\n",
    "        a smaller step_size will give a more accurate result\n",
    "\n",
    "    Returns:\n",
    "    int_val:\n",
    "        result of the integration\n",
    "    ====================\n",
    "    '''\n",
    "    x = np.arange(xspan[0], xspan[1], step_size)\n",
    "    int_val = 0\n",
    "    for xi in x:\n",
    "        int_val += func(xi) * step_size\n",
    "    return int_val\n",
    "\n",
    "# a simple test\n",
    "def square(x):\n",
    "    return x**2\n",
    "\n",
    "def doCos(x):\n",
    "    return (0.5) * np.cos(x)**2\n",
    "#print( integrate(func=square, xspan=[0, 1], step_size=0.01) )\n",
    "\n",
    "print(\"Answer is\")\n",
    "print( integrate(func=doCos, xspan=[0, np.pi/2], step_size=0.01) )\n",
    "# or you just call the function without indicating parameters\n",
    "# print( integrate(square, [0,1], 0.01) )\n"
   ],
   "id": "40823f983a88e1fc",
   "outputs": [
    {
     "name": "stdout",
     "output_type": "stream",
     "text": [
      "Answer is\n",
      "0.3951990765638034\n"
     ]
    }
   ],
   "execution_count": 41
  },
  {
   "metadata": {},
   "cell_type": "markdown",
   "source": "**Turn in: A scanned (or photograph from your phone or webcam) copy of your hand written analytical solution (or you can use $\\LaTeX$). Also, turn in the code you used to numerically evaluate the result and the code output.**",
   "id": "c001f29f5c052b64"
  },
  {
   "metadata": {
    "ExecuteTime": {
     "end_time": "2025-09-23T04:15:05.480925Z",
     "start_time": "2025-09-23T04:15:05.476701Z"
    }
   },
   "cell_type": "code",
   "source": [
    "# Specify the path to your PDF file and desired dimensions\n",
    "pdf_path = \"Hw0_Q2.pdf\"  # Replace with the actual path to your PDF\n",
    "width = 800  # Adjust as needed\n",
    "height = 600  # Adjust as needed\n",
    "\n",
    "# Create and display the IFrame\n",
    "IFrame(pdf_path, width=width, height=height)"
   ],
   "id": "18d5ef96dc7a77b7",
   "outputs": [
    {
     "data": {
      "text/plain": [
       "<IPython.lib.display.IFrame at 0x75ab67983290>"
      ],
      "text/html": [
       "\n",
       "        <iframe\n",
       "            width=\"800\"\n",
       "            height=\"600\"\n",
       "            src=\"Hw0_Q2.pdf\"\n",
       "            frameborder=\"0\"\n",
       "            allowfullscreen\n",
       "            \n",
       "        ></iframe>\n",
       "        "
      ]
     },
     "execution_count": 42,
     "metadata": {},
     "output_type": "execute_result"
    }
   ],
   "execution_count": 42
  },
  {
   "metadata": {},
   "cell_type": "markdown",
   "source": [
    "## Problem 3 (20pts)\n",
    "\n",
    "For the function $J(x(t))$ in Problem 2, compute and evaluate the analytical solution for the directional derivative of $J$ at $x(t) = \\cos(t)$ in the direction $v(t) = \\sin(t)$. Note that the directional derivative should be in the form of integration. Evaluate this integral analytically, and verify your answer using the same numerical integration function as in Problem 2.\n",
    "\n",
    "**Turn in: A scanned (or photograph from your phone or webcam) copy of your hand written (or you can use $\\LaTeX$) derivation and evaluation of the directional derivative. Also, include the code used to numerically verify the integration result.**"
   ],
   "id": "76181d06bb7b37d9"
  },
  {
   "metadata": {
    "ExecuteTime": {
     "end_time": "2025-09-23T04:15:05.538215Z",
     "start_time": "2025-09-23T04:15:05.530854Z"
    }
   },
   "cell_type": "code",
   "source": [
    "# Put this in your import cell.\n",
    "from IPython.display import Markdown, display\n",
    "\n",
    "# How to print in bold, you could wrap the \"display(Markdown())\"\"\n",
    "# in a function if you want a more consice alternative.\n",
    "answer = 42\n",
    "display(Markdown(\"**Hello World: {}**\".format(answer)))\n",
    "\n",
    "def doSinCos(x):\n",
    "    return np.sin(x) * np.cos(x)\n",
    "#print( integrate(func=square, xspan=[0, 1], step_size=0.01) )\n",
    "\n",
    "print(\"Answer is: \")\n",
    "print( integrate(func=doSinCos, xspan=[0, np.pi/2], step_size=0.01) )\n",
    "# or you just call the function without indicating parameters\n",
    "# print( integrate(square, [0, 1], 0.01) )"
   ],
   "id": "d188608e4bc86fae",
   "outputs": [
    {
     "data": {
      "text/plain": [
       "<IPython.core.display.Markdown object>"
      ],
      "text/markdown": "**Hello World: 42**"
     },
     "metadata": {},
     "output_type": "display_data",
     "jetTransient": {
      "display_id": null
     }
    },
    {
     "name": "stdout",
     "output_type": "stream",
     "text": [
      "Answer is: \n",
      "0.4999869977969663\n"
     ]
    }
   ],
   "execution_count": 43
  },
  {
   "metadata": {
    "ExecuteTime": {
     "end_time": "2025-09-23T04:15:05.593327Z",
     "start_time": "2025-09-23T04:15:05.589112Z"
    }
   },
   "cell_type": "code",
   "source": [
    "# Specify the path to your PDF file and desired dimensions\n",
    "pdf_path = \"Hw0_Q3.pdf\"  # Replace with the actual path to your PDF\n",
    "width = 800  # Adjust as needed\n",
    "height = 600  # Adjust as needed\n",
    "\n",
    "# Create and display the IFrame\n",
    "IFrame(pdf_path, width=width, height=height)"
   ],
   "id": "46a8b5f36ae66604",
   "outputs": [
    {
     "data": {
      "text/plain": [
       "<IPython.lib.display.IFrame at 0x75ab67999ee0>"
      ],
      "text/html": [
       "\n",
       "        <iframe\n",
       "            width=\"800\"\n",
       "            height=\"600\"\n",
       "            src=\"Hw0_Q3.pdf\"\n",
       "            frameborder=\"0\"\n",
       "            allowfullscreen\n",
       "            \n",
       "        ></iframe>\n",
       "        "
      ]
     },
     "execution_count": 44,
     "metadata": {},
     "output_type": "execute_result"
    }
   ],
   "execution_count": 44
  },
  {
   "metadata": {},
   "cell_type": "markdown",
   "source": [
    "## Problem 4 (20pts)\n",
    "\n",
    "Verify your answer in Problem 3 symbolically using Python's SymPy package, this means you need to compute the directional derivative and evaluate the integration all symbolically.\n",
    "\n",
    "*Hint 1: Different from computing directional derivative in Problem 1, this time the function includes integration. Thus, instead of defining x as a symbol, you should define x as a function of symbol t. An example of defining function and taking the derivative of the function integration is provided below.*"
   ],
   "id": "b876d5aa18927f60"
  },
  {
   "metadata": {
    "ExecuteTime": {
     "end_time": "2025-09-23T04:15:06.010691Z",
     "start_time": "2025-09-23T04:15:05.646418Z"
    }
   },
   "cell_type": "code",
   "source": [
    "t = sym.symbols('t')\n",
    "eps = sym.symbols('epsilon')\n",
    "\n",
    "# define function x and y\n",
    "x = sym.Function('x')(t)\n",
    "v = sym.Function('v')(t)\n",
    "\n",
    "\n",
    "# define J(x(t), y(t))\n",
    "J = sym.integrate((1/2)*(x+eps*v)**2, [t, 0, sym.pi/2])\n",
    "print('J(x(t), y(t)) = ')\n",
    "display(J)\n",
    "\n",
    "# take the time derivative of J(x(t))\n",
    "dJdepsilon = J.diff(eps)\n",
    "print('derivative of J(x(t), v(t)) wrt x(t): ')\n",
    "\n",
    "dJdepsilon = dJdepsilon.subs(eps, 0)\n",
    "display(dJdepsilon)\n",
    "\n",
    "# now, we have x(t)=sin(t) and y(t)=cos(t), we substitute them\n",
    "# in, and evaluate the integration\n",
    "dJdepsilon_subs = dJdepsilon.subs({x:sym.sin(t), v:sym.cos(t)})\n",
    "print('derivative of J, after substitution: ')\n",
    "display(dJdepsilon_subs)\n",
    "print('evaluation of derivative of J, after substitution: ')\n",
    "display(sym.N(dJdepsilon_subs))\n"
   ],
   "id": "93b2a7a59b51d8ba",
   "outputs": [
    {
     "name": "stdout",
     "output_type": "stream",
     "text": [
      "J(x(t), y(t)) = \n"
     ]
    },
    {
     "data": {
      "text/plain": [
       "    π                                            π         \n",
       "    ─                   π                        ─         \n",
       "    2                   ─                        2         \n",
       "    ⌠                   2                        ⌠         \n",
       "    ⎮  2  2             ⌠                        ⎮  2      \n",
       "0.5⋅⎮ ε ⋅v (t) dt + 0.5⋅⎮ 2⋅ε⋅v(t)⋅x(t) dt + 0.5⋅⎮ x (t) dt\n",
       "    ⌡                   ⌡                        ⌡         \n",
       "    0                   0                        0         "
      ],
      "text/latex": "$\\displaystyle 0.5 \\int\\limits_{0}^{\\frac{\\pi}{2}} \\epsilon^{2} v^{2}{\\left(t \\right)}\\, dt + 0.5 \\int\\limits_{0}^{\\frac{\\pi}{2}} 2 \\epsilon v{\\left(t \\right)} x{\\left(t \\right)}\\, dt + 0.5 \\int\\limits_{0}^{\\frac{\\pi}{2}} x^{2}{\\left(t \\right)}\\, dt$"
     },
     "metadata": {},
     "output_type": "display_data",
     "jetTransient": {
      "display_id": null
     }
    },
    {
     "name": "stdout",
     "output_type": "stream",
     "text": [
      "derivative of J(x(t), v(t)) wrt x(t): \n"
     ]
    },
    {
     "data": {
      "text/plain": [
       "    π                      π     \n",
       "    ─                      ─     \n",
       "    2                      2     \n",
       "    ⌠                      ⌠     \n",
       "0.5⋅⎮ 2⋅v(t)⋅x(t) dt + 0.5⋅⎮ 0 dt\n",
       "    ⌡                      ⌡     \n",
       "    0                      0     "
      ],
      "text/latex": "$\\displaystyle 0.5 \\int\\limits_{0}^{\\frac{\\pi}{2}} 2 v{\\left(t \\right)} x{\\left(t \\right)}\\, dt + 0.5 \\int\\limits_{0}^{\\frac{\\pi}{2}} 0\\, dt$"
     },
     "metadata": {},
     "output_type": "display_data",
     "jetTransient": {
      "display_id": null
     }
    },
    {
     "name": "stdout",
     "output_type": "stream",
     "text": [
      "derivative of J, after substitution: \n"
     ]
    },
    {
     "data": {
      "text/plain": [
       "    π            π                   \n",
       "    ─            ─                   \n",
       "    2            2                   \n",
       "    ⌠            ⌠                   \n",
       "0.5⋅⎮ 0 dt + 0.5⋅⎮ 2⋅sin(t)⋅cos(t) dt\n",
       "    ⌡            ⌡                   \n",
       "    0            0                   "
      ],
      "text/latex": "$\\displaystyle 0.5 \\int\\limits_{0}^{\\frac{\\pi}{2}} 0\\, dt + 0.5 \\int\\limits_{0}^{\\frac{\\pi}{2}} 2 \\sin{\\left(t \\right)} \\cos{\\left(t \\right)}\\, dt$"
     },
     "metadata": {},
     "output_type": "display_data",
     "jetTransient": {
      "display_id": null
     }
    },
    {
     "name": "stdout",
     "output_type": "stream",
     "text": [
      "evaluation of derivative of J, after substitution: \n"
     ]
    },
    {
     "data": {
      "text/plain": [
       "0.500000000000000"
      ],
      "text/latex": "$\\displaystyle 0.5$"
     },
     "metadata": {},
     "output_type": "display_data",
     "jetTransient": {
      "display_id": null
     }
    }
   ],
   "execution_count": 45
  },
  {
   "metadata": {},
   "cell_type": "markdown",
   "source": [
    "## Problem 5 (20pts)\n",
    "\n",
    "Given the equation:\n",
    "$$\n",
    "xy + \\sin(x) = x + y\n",
    "$$\n",
    "Use Python's SymPy package to symbolically solve this equation for $y$, thus you can write $y$ as a function of $x$. Transfer your symbolic solution into a numerical function and plot this function for $x\\in[0, \\pi]$ with Python's Matplotlib package.\n",
    "\n",
    "In this problem you will use two methods in SymPy. The first is its symbolic sovler method **solve()**, which takes in an equation or expression (in this it equals 0) and solve it for one or one set of variables. Another method you will use is **lambdify()**, which can transfer a symbolic expression into a numerical function automatically (of course in this problem we can hand code the function, but later in the class we will have super sophisticated expression to evaluate.\n",
    "\n",
    "Below is an example of using these two methods for an equation $2x^3\\sin(4x) = xy$ (feel free to take this as the start point for your solution):"
   ],
   "id": "8af9b8c3dbbbcd6"
  },
  {
   "metadata": {
    "ExecuteTime": {
     "end_time": "2025-09-23T04:15:06.126743Z",
     "start_time": "2025-09-23T04:15:06.041446Z"
    }
   },
   "cell_type": "code",
   "source": [
    "# from sympy.abc import x, y # it's same as defining x, y using symbols() OR\n",
    "x, y = sym.symbols(r'x,y')\n",
    "\n",
    "# define an equation\n",
    "eqn = sym.Eq(x*y + sym.sin(x), x+y)\n",
    "print('Original equation')\n",
    "display(eqn)\n",
    "\n",
    "# solve this equation for y\n",
    "y_sol = sym.solve(eqn, y) # this method returns a list,\n",
    "                             # which may include multiple solutions\n",
    "print('Symbolic solutions')\n",
    "print(y_sol)\n",
    "y_expr = y_sol[0] # in this case we just have one solution\n",
    "\n",
    "# lambdify the expression wrt symbol x\n",
    "func = sym.lambdify(x, y_expr)\n",
    "print('Test: func(1.0) = ', func(1.0))\n",
    "\n",
    "##############\n",
    "# now it's time to plot it from 0 to pi\n",
    "\n",
    "# generate list of values from 0 to pi\n",
    "x_list = np.linspace(0, np.pi, 100)\n",
    "\n",
    "# evaluate function at those values\n",
    "f_list = func(x_list)\n",
    "\n",
    "# plot it\n",
    "plt.plot(x_list, f_list)\n",
    "plt.show()"
   ],
   "id": "f1767f76e1a22e8f",
   "outputs": [
    {
     "name": "stdout",
     "output_type": "stream",
     "text": [
      "Original equation\n"
     ]
    },
    {
     "data": {
      "text/plain": [
       "x⋅y + sin(x) = x + y"
      ],
      "text/latex": "$\\displaystyle x y + \\sin{\\left(x \\right)} = x + y$"
     },
     "metadata": {},
     "output_type": "display_data",
     "jetTransient": {
      "display_id": null
     }
    },
    {
     "name": "stdout",
     "output_type": "stream",
     "text": [
      "Symbolic solutions\n",
      "[(x - sin(x))/(x - 1)]\n",
      "Test: func(1.0) =  inf\n"
     ]
    },
    {
     "name": "stderr",
     "output_type": "stream",
     "text": [
      "<lambdifygenerated-4>:2: RuntimeWarning: divide by zero encountered in scalar divide\n",
      "  return (x - sin(x))/(x - 1)\n"
     ]
    },
    {
     "data": {
      "text/plain": [
       "<Figure size 640x480 with 1 Axes>"
      ],
      "image/png": "[encoded data removed]"
     },
     "metadata": {},
     "output_type": "display_data",
     "jetTransient": {
      "display_id": null
     }
    }
   ],
   "execution_count": 46
  },
  {
   "metadata": {
    "ExecuteTime": {
     "end_time": "2025-09-23T04:15:06.146657Z",
     "start_time": "2025-09-23T04:15:06.144953Z"
    }
   },
   "cell_type": "code",
   "source": "",
   "id": "d7df6abd49492a01",
   "outputs": [],
   "execution_count": null
  }
 ],
 "metadata": {
  "kernelspec": {
   "display_name": "Python 3",
   "language": "python",
   "name": "python3"
  },
  "language_info": {
   "codemirror_mode": {
    "name": "ipython",
    "version": 2
   },
   "file_extension": ".py",
   "mimetype": "text/x-python",
   "name": "python",
   "nbconvert_exporter": "python",
   "pygments_lexer": "ipython2",
   "version": "2.7.6"
  }
 },
 "nbformat": 4,
 "nbformat_minor": 5
}
