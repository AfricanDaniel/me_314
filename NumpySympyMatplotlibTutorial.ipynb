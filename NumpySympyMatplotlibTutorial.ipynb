{
 "nbformat": 4,
 "nbformat_minor": 0,
 "metadata": {
  "colab": {
   "provenance": []
  },
  "kernelspec": {
   "name": "python3",
   "display_name": "Python 3 (ipykernel)",
   "language": "python"
  }
 },
 "cells": [
  {
   "cell_type": "markdown",
   "metadata": {
    "id": "rL7I7livE5Sd"
   },
   "source": [
    "# Numpy, Sympy, and Matplotlib Tutorial for Fall 2025 ME 314\n",
    "In this tutorial we will be looking into the libraries that you will need to use in order to complete your homeworks. Again, if you want to make your own edits to this notebook, you will have to save your own copy of it.\n",
    "\n",
    "*   Numpy is a numerical computation library. It has access to most math tools you'll need to make numerical calculations.\n",
    "*   Sympy is a symbolic computation library. It handles equations and can solve for variables much in the same way you do by hand. It can also do much more than just that so get comfortable with it.\n",
    "*   Matplotlib is a plotting library. While there are other options (particularly for use with notebooks) this is a great plotting library that gives you a lot of freedom to make nice plots.\n",
    "\n"
   ]
  },
  {
   "cell_type": "markdown",
   "metadata": {
    "id": "PumMdpL1Ggss"
   },
   "source": [
    "## Importing Modules\n",
    "Here you can see how you include the libraries. Colaboratory already has them all installed for you. The basic importing command is \"import *library*\""
   ]
  },
  {
   "cell_type": "code",
   "metadata": {
    "id": "Qnf4IBTGGf4b",
    "colab": {
     "base_uri": "https://localhost:8080/"
    },
    "outputId": "e5bdf235-d195-47ab-8fe7-dd20c8da6559"
   },
   "source": [
    "import numpy as me314_np\n",
    "import numpy as np\n",
    "import sympy as sym\n",
    "\n",
    "print(\"check sympy version to make sure it's newer than 1.6: \", sym.__version__)\n",
    "\n",
    "# This command below is a type of command that's unique to Jupyter notebooks,\n",
    "# it tells the notebook how to display plotsfrom matplotlib. Don't mess with it.\n",
    "%matplotlib inline\n",
    "import matplotlib.pyplot as plt"
   ],
   "outputs": [],
   "execution_count": null
  },
  {
   "cell_type": "markdown",
   "metadata": {
    "id": "JPdOt7J9IVCA"
   },
   "source": [
    "However, as you note above, I'm using \"import sympy as sym\" and so on. The \"sym\" is called the namespace of the library. This means that if we want to use any of Sympy's functions we'd have to use \"sym.var('x')\" for instance."
   ]
  },
  {
   "cell_type": "markdown",
   "metadata": {
    "id": "GDl5yDt3JH0S"
   },
   "source": [
    "### Quick Note on Printing\n",
    "At the top of all your homework files I include the code below, which enables pretty printing when using Sympy. This is gonna make all your equations look very nice directly as an output of your code. Don't change it."
   ]
  },
  {
   "cell_type": "code",
   "metadata": {
    "id": "q1UspKLBJMgp"
   },
   "source": [
    "def custom_latex_printer(exp,**options):\n",
    "    from google.colab.output._publish import javascript\n",
    "    url = \"https://cdnjs.cloudflare.com/ajax/libs/mathjax/2.7.3/latest.js?config=default\"\n",
    "    javascript(url=url)\n",
    "    return sym.printing.latex(exp,**options)\n",
    "sym.init_printing(use_latex=\"mathjax\",latex_printer=custom_latex_printer)"
   ],
   "outputs": [],
   "execution_count": null
  },
  {
   "cell_type": "markdown",
   "metadata": {
    "id": "mkt7sSRKKOXf"
   },
   "source": [
    "## Numpy"
   ]
  },
  {
   "cell_type": "markdown",
   "metadata": {
    "id": "AzjyoJaPM_PF"
   },
   "source": [
    "### Arrays\n",
    "Ok, so we're gonna start with Numpy arrays. While numpy does in fact have a matrix variable type, arrays are most versatile. Let's define an array below:"
   ]
  },
  {
   "cell_type": "code",
   "metadata": {
    "id": "LSe_dLRvKNU9",
    "colab": {
     "base_uri": "https://localhost:8080/"
    },
    "outputId": "5c736205-9d93-4adc-d471-60044da3667b"
   },
   "source": [
    "A = np.array([[1.,2.,3.],[4.,5.,6.],[7.,8.,9.]])\n",
    "print(A)"
   ],
   "outputs": [],
   "execution_count": null
  },
  {
   "cell_type": "markdown",
   "metadata": {
    "id": "Np8PyoeZLNNP"
   },
   "source": [
    "These arrays are indexed in the usual way that we index arrays, with a comma separating the coordinates."
   ]
  },
  {
   "cell_type": "code",
   "metadata": {
    "id": "S1q_bPmkLC7Q",
    "colab": {
     "base_uri": "https://localhost:8080/"
    },
    "outputId": "899b7dca-37ea-407f-97ad-bc31eabca462"
   },
   "source": [
    "print(A[0,1])"
   ],
   "outputs": [],
   "execution_count": null
  },
  {
   "cell_type": "markdown",
   "metadata": {
    "id": "0_Wcy6pcLSuk"
   },
   "source": [
    "Note that numpy has similar types to those used by standard Python, but they are slightly different:"
   ]
  },
  {
   "cell_type": "code",
   "metadata": {
    "id": "kIRwT8OdLrlK",
    "colab": {
     "base_uri": "https://localhost:8080/"
    },
    "outputId": "8db5a051-adfd-4e6e-8871-cd2d3d67a69d"
   },
   "source": [
    "print(type(A[0,1]))\n",
    "print(type(A))"
   ],
   "outputs": [],
   "execution_count": null
  },
  {
   "cell_type": "markdown",
   "metadata": {
    "id": "DSWhiTvZLrTr"
   },
   "source": [
    "Here's an important note on matrix/vector multiplication:"
   ]
  },
  {
   "cell_type": "code",
   "metadata": {
    "id": "oy83WhKWKnIx",
    "colab": {
     "base_uri": "https://localhost:8080/"
    },
    "outputId": "c734777c-5495-41e2-e15a-dd812342d80d"
   },
   "source": [
    "print(\"Element-wise mult:\")\n",
    "print(A*A,'\\n')\n",
    "print(\"Matrix mult:\")\n",
    "print(A.dot(A))\n",
    "print(np.dot(A,A))"
   ],
   "outputs": [],
   "execution_count": null
  },
  {
   "cell_type": "code",
   "metadata": {
    "id": "LOs27DlKbwha",
    "colab": {
     "base_uri": "https://localhost:8080/"
    },
    "outputId": "fad733c5-4ad2-490e-9cf7-520a5bd80ce7"
   },
   "source": [
    "# things are even more interesting on vectors\n",
    "a = np.array([1, 2, 3])\n",
    "b = np.array([1, 2, 3])\n",
    "\n",
    "print(a.shape)\n",
    "\n",
    "# element-wise multiplication\n",
    "print(a * b)\n",
    "\n",
    "# Matrix multiplication between a 1-by-3 vector and a 3-by-1 vector\n",
    "print(a.dot(b))\n",
    "\n",
    "# Matrix multiplication between a 3-by-1 vector and a 1-by-3 vector\n",
    "print(np.outer(a,b))\n",
    "print(a.reshape(3,1) * b)\n",
    "\n",
    "\n",
    "print(a.reshape(1,3).shape)\n"
   ],
   "outputs": [],
   "execution_count": null
  },
  {
   "cell_type": "markdown",
   "metadata": {
    "id": "GCkYfam7L9F5"
   },
   "source": [
    "If you want to do matrix multiplication you have to use A.dot(B), or equivalently, np.dot(A,B). If you use the multiplication symbol then you will do element-wise multiplication instead. Note how this is the opposite of matlab.\n",
    "\n",
    "To do a matrix transpose is quite simple as well:"
   ]
  },
  {
   "cell_type": "code",
   "metadata": {
    "id": "5jfT-qeNLc0K",
    "colab": {
     "base_uri": "https://localhost:8080/"
    },
    "outputId": "1e28e646-d265-4b34-efd8-09bd9eca6b5d"
   },
   "source": [
    "print(A)\n",
    "print(A.T)"
   ],
   "outputs": [],
   "execution_count": null
  },
  {
   "cell_type": "markdown",
   "metadata": {
    "id": "NmfhCapPMo4B"
   },
   "source": [
    "Another useful trick is that you can check the shape of a numpy array by doing:"
   ]
  },
  {
   "cell_type": "code",
   "metadata": {
    "id": "x7sgii3ZMN86",
    "colab": {
     "base_uri": "https://localhost:8080/"
    },
    "outputId": "ccc1990b-efd2-4030-c514-3f96bd2a57b4"
   },
   "source": [
    "print(A.shape)\n",
    "print(a.shape)\n",
    "print(a.T.shape)"
   ],
   "outputs": [],
   "execution_count": null
  },
  {
   "cell_type": "markdown",
   "metadata": {
    "id": "zWdCoSaHPT_o"
   },
   "source": [
    "Most math functions that you'll need should be immediately available within numpy. Here's just a couple for example:"
   ]
  },
  {
   "cell_type": "code",
   "metadata": {
    "id": "Gmh7Zi_UMt5S",
    "colab": {
     "base_uri": "https://localhost:8080/"
    },
    "outputId": "573587be-7221-4ed5-8b2e-314bcd7950e9"
   },
   "source": [
    "print(np.log(A),'\\n') # Natural log (element-wise)\n",
    "print(np.exp(A),'\\n') # Exponential (element-wise)\n",
    "print(np.sin(A),'\\n') # Sine (element-wise)\n",
    "print(np.sqrt(A),'\\n') # Square root (element-wise)"
   ],
   "outputs": [],
   "execution_count": null
  },
  {
   "cell_type": "markdown",
   "metadata": {
    "id": "2JkLbAQxQRPC"
   },
   "source": [
    "### Useful Functions\n",
    "Here I'm just highlighting some useful functions that you may use in your homeowrks that aren't obviously available within a math toolbox.\n",
    "\n",
    "When you need a matrix of a certain shape full of zeros you can do the following:"
   ]
  },
  {
   "cell_type": "code",
   "metadata": {
    "id": "x55fdmnsPe5T",
    "colab": {
     "base_uri": "https://localhost:8080/"
    },
    "outputId": "b9bfb7c1-e0cd-43b7-9766-12cef00b0d93"
   },
   "source": [
    "desired_shape = (3,4)\n",
    "print(np.zeros(desired_shape))\n",
    "test = np.zeros((7,8))\n",
    "print(test)"
   ],
   "outputs": [],
   "execution_count": null
  },
  {
   "cell_type": "markdown",
   "metadata": {
    "id": "PaLi0K3OQtf3"
   },
   "source": [
    "You can do the same for ones:"
   ]
  },
  {
   "cell_type": "code",
   "metadata": {
    "id": "ADHHdhCuQpyi",
    "colab": {
     "base_uri": "https://localhost:8080/"
    },
    "outputId": "ba5d3a48-6ab8-4320-e212-6d631ce37b85"
   },
   "source": [
    "desired_shape = (3,4)\n",
    "print(np.ones(desired_shape))"
   ],
   "outputs": [],
   "execution_count": null
  },
  {
   "cell_type": "markdown",
   "metadata": {
    "id": "Tc_OM5b_Qy0n"
   },
   "source": [
    "You can also define a diagonal matrix by supplying just a vector:"
   ]
  },
  {
   "cell_type": "code",
   "metadata": {
    "id": "SOds2LZBQwby",
    "colab": {
     "base_uri": "https://localhost:8080/"
    },
    "outputId": "4b010187-4d13-4af8-886b-fcaa1fd1b5e9"
   },
   "source": [
    "diagonal = [1,2,3,4]\n",
    "print(np.diag(diagonal))"
   ],
   "outputs": [],
   "execution_count": null
  },
  {
   "cell_type": "markdown",
   "metadata": {
    "id": "f-JUPUtGRO3P"
   },
   "source": [
    "I'll note that if you ever need to use linear algebra with arrays, you need to use numpy's linear algebra submodule linalg. Here's how you'd calculate a determinant of the matrix above:"
   ]
  },
  {
   "cell_type": "code",
   "metadata": {
    "id": "Xt0nPjTfQ-PK",
    "colab": {
     "base_uri": "https://localhost:8080/"
    },
    "outputId": "aca7d751-39e4-4691-b2c9-17333079b463"
   },
   "source": [
    "diagonal = [1,2,3,4]\n",
    "mat = np.diag(diagonal)\n",
    "print(np.linalg.det(mat))"
   ],
   "outputs": [],
   "execution_count": null
  },
  {
   "cell_type": "markdown",
   "metadata": {
    "id": "_2rejQgBRpHS"
   },
   "source": [
    "If you want to round floating point numbers with long decimals as above, you could use the following function:"
   ]
  },
  {
   "cell_type": "code",
   "metadata": {
    "id": "uOOlWQYaRkjW",
    "colab": {
     "base_uri": "https://localhost:8080/"
    },
    "outputId": "33265acf-041a-4613-beae-a93e714e3ada"
   },
   "source": [
    "decimal_places = 2\n",
    "print(np.round(np.linalg.det(mat),decimal_places))"
   ],
   "outputs": [],
   "execution_count": null
  },
  {
   "cell_type": "markdown",
   "metadata": {
    "id": "ICzVyzcLSW_d"
   },
   "source": [
    "When you need to define a range of numbers you can use the linspace function:"
   ]
  },
  {
   "cell_type": "code",
   "metadata": {
    "id": "TrvvZK_xR0cL",
    "colab": {
     "base_uri": "https://localhost:8080/"
    },
    "outputId": "dc1c249c-f3fb-4824-c45f-f378f575367e"
   },
   "source": [
    "range_begin = 0\n",
    "range_end = 1\n",
    "num_points = 11\n",
    "print(np.linspace(range_begin, range_end, num_points))"
   ],
   "outputs": [],
   "execution_count": null
  },
  {
   "cell_type": "markdown",
   "metadata": {
    "id": "rjCScVC_dEjd"
   },
   "source": [
    "NumPy also has a similar function to Python's built-in range method, but it's more flexible, and different from \"range()\", NumPy's \"arange()\" can return an array directly."
   ]
  },
  {
   "cell_type": "code",
   "metadata": {
    "id": "Qub0XnNMdJ60",
    "colab": {
     "base_uri": "https://localhost:8080/"
    },
    "outputId": "2b44157a-29d7-4330-8914-4d98e0cdc1a0"
   },
   "source": [
    "range_begin = 0\n",
    "range_end = 1\n",
    "interval = 0.1\n",
    "print(np.arange(range_begin, range_end+interval, interval))"
   ],
   "outputs": [],
   "execution_count": null
  },
  {
   "cell_type": "markdown",
   "metadata": {
    "id": "WDGe8VrGTMSb"
   },
   "source": [
    "## Sympy\n",
    "Since this is a dynamics course where things vary in time, we usually begin by defining an immutable variable to represent time at the top of the file in the import section of our file. However, we will just do that here in this case."
   ]
  },
  {
   "cell_type": "code",
   "metadata": {
    "id": "vAG-QemKSs3K",
    "colab": {
     "base_uri": "https://localhost:8080/",
     "height": 106
    },
    "outputId": "20aeba4a-04d7-4bd3-ddfa-8612cc3f3c47"
   },
   "source": [
    "from sympy.abc import t, a, b, c\n",
    "display(t, a, b, c)"
   ],
   "outputs": [],
   "execution_count": null
  },
  {
   "cell_type": "markdown",
   "metadata": {
    "id": "Nwl3uGlmUJlY"
   },
   "source": [
    "### Symbols and Functions\n",
    "Let's start by looking at symbols and functions. Symbols are used for when you want to represent quantities that do not depend on other things, such as constants."
   ]
  },
  {
   "cell_type": "code",
   "metadata": {
    "id": "yRJydyM0U-TZ",
    "colab": {
     "base_uri": "https://localhost:8080/",
     "height": 106
    },
    "outputId": "9bbe1ec8-e3c6-4b65-90a6-bc96d58add42"
   },
   "source": [
    "m, L, g, theta = sym.symbols(r'm L g, \\theta') # r'' means raw string\n",
    "display(m, L, g, theta)"
   ],
   "outputs": [],
   "execution_count": null
  },
  {
   "cell_type": "markdown",
   "metadata": {
    "id": "Y28k637HVSHp"
   },
   "source": [
    "Already with these symbols we can write expressions. To print sympy objects nicely, we do not use print(), we use display() instead. See below with this random expression of our symbols:"
   ]
  },
  {
   "cell_type": "code",
   "metadata": {
    "id": "tyhz6GTiVFrj",
    "colab": {
     "base_uri": "https://localhost:8080/",
     "height": 39
    },
    "outputId": "80e0fa6e-9457-4ff1-b8cc-0c2a4687ee5d"
   },
   "source": [
    "expr = sym.sin((1/2)*m)+g**L\n",
    "display(expr)"
   ],
   "outputs": [],
   "execution_count": null
  },
  {
   "cell_type": "markdown",
   "metadata": {
    "id": "TUpXOeSMWaFs"
   },
   "source": [
    "Note here that we have to use Sympy's trigonometric functions which are NOT the same as numpy's. This is because Sympy needs thhe symbolic function, not the numerical one. Now let's define a function of time:"
   ]
  },
  {
   "cell_type": "code",
   "metadata": {
    "id": "u0GHFEsOVbUC",
    "colab": {
     "base_uri": "https://localhost:8080/",
     "height": 39
    },
    "outputId": "09303a88-6803-4c23-fb7f-736958dbd77b"
   },
   "source": [
    "theta = sym.Function(r'\\theta')(t)\n",
    "display(theta)"
   ],
   "outputs": [],
   "execution_count": null
  },
  {
   "cell_type": "markdown",
   "metadata": {
    "id": "BAyNE8SRXRCd"
   },
   "source": [
    "If you want to use greek letters in your equations, you will need to use the latex command for it in the function instantiation. This is stuff you can easily google, but generally it follows the same format as above. Now that we have a function (which we can equivalently interpret as a curve as stated in class), we can apply certain operations onto it. Most of the time this will just be a derivative:"
   ]
  },
  {
   "cell_type": "code",
   "metadata": {
    "id": "INQJ6OvjXCwT",
    "colab": {
     "base_uri": "https://localhost:8080/",
     "height": 52
    },
    "outputId": "ef4335e0-3182-412e-eeab-c10a7a5cfab9"
   },
   "source": [
    "thetadot = theta.diff(t)\n",
    "display(thetadot)"
   ],
   "outputs": [],
   "execution_count": null
  },
  {
   "cell_type": "markdown",
   "metadata": {
    "id": "eXQVsoryYVKO"
   },
   "source": [
    "### Matrices and Derivatives\n",
    "We use Sympy's matrix function to define both matrices and vectors. For example, let's define a configuration vector using both $\\theta$ and $\\dot{\\theta}$:"
   ]
  },
  {
   "cell_type": "code",
   "metadata": {
    "id": "iCPO9vEtYEFQ",
    "colab": {
     "base_uri": "https://localhost:8080/",
     "height": 137
    },
    "outputId": "ee35e9e3-c652-424c-cffe-0f87bcc15af3"
   },
   "source": [
    "q = sym.Matrix([theta,thetadot])\n",
    "display(q)\n",
    "print(\"Matrices/vectors have a shape too:\")\n",
    "display(q.shape)\n",
    "print(\"As well as a transpose:\")\n",
    "display(q.T)"
   ],
   "outputs": [],
   "execution_count": null
  },
  {
   "cell_type": "markdown",
   "metadata": {
    "id": "vhjIPfnRbwnV"
   },
   "source": [
    "We can also take the derivative of matrices with respect to variables such as time:"
   ]
  },
  {
   "cell_type": "code",
   "metadata": {
    "id": "p1rKONCAbVGX",
    "colab": {
     "base_uri": "https://localhost:8080/",
     "height": 61
    },
    "outputId": "1f920608-af2b-42e5-f59d-8e32bce23565"
   },
   "source": [
    "qdot = q.diff(t)\n",
    "display(qdot)"
   ],
   "outputs": [],
   "execution_count": null
  },
  {
   "cell_type": "markdown",
   "source": [
    "We can take the derivative with respect to vectors as well"
   ],
   "metadata": {
    "id": "3mIcA2hFjomv"
   }
  },
  {
   "cell_type": "code",
   "source": [
    "# define a vector\n",
    "x1 = sym.Function(r'x_1')(t)\n",
    "x2 = sym.Function(r'x_2')(t)\n",
    "q = sym.Matrix([x1, x2])\n",
    "print('vector q:')\n",
    "display(q)\n",
    "\n",
    "# define an expression of both x1 and x2\n",
    "J = sym.sin(x1**2) + sym.cos(x2)**2\n",
    "print('function J(q):')\n",
    "display(J)\n",
    "\n",
    "# take the derivative of J wrt the vector q\n",
    "dJdq = J.diff(q)\n",
    "print('dJdq:')\n",
    "display(dJdq)"
   ],
   "metadata": {
    "colab": {
     "base_uri": "https://localhost:8080/",
     "height": 175
    },
    "id": "wfznkXycjtaz",
    "outputId": "26cff2a6-cb8b-4ea6-a71f-b1df10c51688"
   },
   "outputs": [],
   "execution_count": null
  },
  {
   "cell_type": "markdown",
   "source": [
    "The above example has a scalar-valued function, but the derivative can be taken for vector-valued functions as well. But, in this case, we should use \".jacobian\" instead of \".diff\"."
   ],
   "metadata": {
    "id": "qHkogqDTkdF6"
   }
  },
  {
   "cell_type": "code",
   "source": [
    "J1 = sym.sin(x1**2) + sym.cos(x2)**2\n",
    "J2 = sym.cos(x1**2) + sym.sin(x2)**2\n",
    "J = sym.Matrix([J1, J2])\n",
    "print('vector-valued function J(q):')\n",
    "display(J)\n",
    "\n",
    "dJdq = J.diff(q)\n",
    "print('dJdq (with diff):')\n",
    "display(dJdq)\n",
    "print(f'shape of dJdq (with diff): {dJdq.shape}')\n",
    "\n",
    "dJdq = J.jacobian(q)\n",
    "print('dJdq (with jaocbian):')\n",
    "display(dJdq)\n",
    "print(f'shape of dJdq (with jacobian): {dJdq.shape}')"
   ],
   "metadata": {
    "colab": {
     "base_uri": "https://localhost:8080/",
     "height": 272
    },
    "id": "wa7UqpQYki01",
    "outputId": "31bf6efa-b252-4cb8-8679-205c66c7f065"
   },
   "outputs": [],
   "execution_count": null
  },
  {
   "cell_type": "markdown",
   "metadata": {
    "id": "TL7c6D6jtpaV"
   },
   "source": [
    "### Equations and Substitutions\n",
    "We will now be looking at specifiying equations. Sympy has an equation object that is very nice, and lets you define the left and right hand sides of equations as separated by a comma, see the simple example below for reference:"
   ]
  },
  {
   "cell_type": "code",
   "metadata": {
    "id": "cJYZe3Iae-aM",
    "colab": {
     "base_uri": "https://localhost:8080/",
     "height": 52
    },
    "outputId": "e100973e-9371-47ec-aa39-1e4698d1602c"
   },
   "source": [
    "my_eq = sym.Eq(thetadot, theta**2+g)\n",
    "display(my_eq)"
   ],
   "outputs": [],
   "execution_count": null
  },
  {
   "cell_type": "markdown",
   "metadata": {
    "id": "jw53UGk4uf-i"
   },
   "source": [
    "When you have an equation object, you can do several useful things, for example you can get the left hand side, or right hand side, or solve for a variable:"
   ]
  },
  {
   "cell_type": "code",
   "metadata": {
    "id": "Q8Pv7VvTuwax",
    "colab": {
     "base_uri": "https://localhost:8080/",
     "height": 180
    },
    "outputId": "87dda63e-25eb-44e2-a8dd-f5aafea1936b"
   },
   "source": [
    "print(\"Left side:\")\n",
    "display(my_eq.lhs)\n",
    "print(\"Right side:\")\n",
    "display(my_eq.rhs)\n",
    "\n",
    "print(\"Solving for theta:\")\n",
    "my_eq_sol = sym.solve(my_eq, theta)\n",
    "display(my_eq_sol)"
   ],
   "outputs": [],
   "execution_count": null
  },
  {
   "cell_type": "markdown",
   "metadata": {
    "id": "AhqMZhHmvZ1i"
   },
   "source": [
    "As you can see there's two solutions to the equation I wrote down, and they are both represented in the list of solutions to the equation.\n",
    "\n",
    "If we wanted to make a substitution in an expression or equation it is very straight forward, see below:"
   ]
  },
  {
   "cell_type": "code",
   "metadata": {
    "id": "Bw9zSvey5V44",
    "colab": {
     "base_uri": "https://localhost:8080/",
     "height": 52
    },
    "outputId": "10f5d4ab-bddf-484c-903c-9b03ee277af3"
   },
   "source": [
    "dummy = sym.symbols('a')\n",
    "display(my_eq.subs(theta,dummy))"
   ],
   "outputs": [],
   "execution_count": null
  },
  {
   "cell_type": "markdown",
   "metadata": {
    "id": "ue-ki7SR5u63"
   },
   "source": [
    "If we wanted to substitute multiple variables at once we use the following syntax:"
   ]
  },
  {
   "cell_type": "code",
   "metadata": {
    "id": "vWbcvELm50EW",
    "colab": {
     "base_uri": "https://localhost:8080/",
     "height": 52
    },
    "outputId": "1ba5b02a-7714-41ff-ea25-9ff0ac655739"
   },
   "source": [
    "dummy2 = sym.symbols('b')\n",
    "display(my_eq.subs({theta:dummy, g:dummy2})) # use dict when substituting multiple variables"
   ],
   "outputs": [],
   "execution_count": null
  },
  {
   "cell_type": "markdown",
   "metadata": {
    "id": "5b5xavKB3UnJ"
   },
   "source": [
    "### IMPORTANT: Solving Matrix Equations With Dummy Variables\n",
    "Generally, Sympy will have no issues solving matrix equations. But sometimes we will need to use what we call \"dummy variables\" instead of solving the equation directly (and you will need this trick in this course!).\n",
    "\n",
    "<!-- However, when the variables we are manipulating are functions and their derivatives Sympy runs into some issues that we can easily avoid with some foresight. -->\n",
    "\n",
    "Let's look at the matrix equation below:"
   ]
  },
  {
   "cell_type": "code",
   "metadata": {
    "id": "PPJwybGQv5kL",
    "colab": {
     "base_uri": "https://localhost:8080/",
     "height": 139
    },
    "outputId": "53041ddb-1114-41f4-cf5d-bf340d93e046"
   },
   "source": [
    "q = sym.Matrix([theta, thetadot])\n",
    "qdot = q.diff(t)\n",
    "my_mat_eq = sym.Eq(qdot, sym.Matrix([-g+q[0],m*L*q[1]+1]))\n",
    "print('a set of two equation in matrix form:')\n",
    "display(my_mat_eq)\n",
    "print('variable set q to be solved:')\n",
    "display(q)"
   ],
   "outputs": [],
   "execution_count": null
  },
  {
   "cell_type": "markdown",
   "metadata": {
    "id": "Oi0AAbND4E4V"
   },
   "source": [
    "We can solve this equation for our configuration $q=[\\theta,\\dot{\\theta}]$, we get the following:"
   ]
  },
  {
   "cell_type": "code",
   "metadata": {
    "id": "_vvIAwBt4bOD",
    "colab": {
     "base_uri": "https://localhost:8080/",
     "height": 68
    },
    "outputId": "1005640a-45e9-40f4-d0c9-0691f35c43cb"
   },
   "source": [
    "sym.solve(my_mat_eq, q)"
   ],
   "outputs": [],
   "execution_count": null
  },
  {
   "cell_type": "markdown",
   "metadata": {
    "id": "CeIN3vFp4eYm"
   },
   "source": [
    "Up until V1.6, SymPy is not able to solve the above the equation directly (it will return empty solution). In that case, we can a \"dummy variable trick\" to get around of this issue: We make a variable substitution to get rid of the derivative terms using \"dummy variables\".\n",
    "\n",
    "Even though after V1.6, SymPy supports directly solving for matrix equations, this \"dummy variable trick\" can still be helpful in other settings, so we now introduce it below."
   ]
  },
  {
   "cell_type": "code",
   "metadata": {
    "id": "E4o-OWju6Ozb",
    "colab": {
     "base_uri": "https://localhost:8080/",
     "height": 139
    },
    "outputId": "a8d9ac9c-395c-48b9-84c4-4a97692744f4"
   },
   "source": [
    "# dummy variables\n",
    "v, vd = sym.symbols(r'v \\dot{v}')\n",
    "\n",
    "# dummy configuration\n",
    "q_dummy = sym.Matrix([theta, v])\n",
    "\n",
    "# dummy configuration velocity\n",
    "qdot_dummy = sym.Matrix([v, vd])\n",
    "\n",
    "# dummy equation through substitution\n",
    "my_mat_eq_dummy = my_mat_eq.subs({q[1]: q_dummy[1], qdot[0]:qdot_dummy[0],qdot[1]:qdot_dummy[1]}) # substitution\n",
    "print('original equation:')\n",
    "display(my_mat_eq)\n",
    "print('dummy equation:')\n",
    "display(my_mat_eq_dummy)"
   ],
   "outputs": [],
   "execution_count": null
  },
  {
   "cell_type": "markdown",
   "metadata": {
    "id": "Ceo3OjRw8Xid"
   },
   "source": [
    "As you can see, the equation above is functionally the same as the previous matrix equation with the derivatives of theta. The only difference is that we made the substitution $[\\dot{\\theta}, \\ddot{\\theta}]\\rightarrow[v, \\dot{v}]$. So let's see if we can solve it now:"
   ]
  },
  {
   "cell_type": "code",
   "metadata": {
    "id": "G36nHCkO8Wzq",
    "colab": {
     "base_uri": "https://localhost:8080/",
     "height": 58
    },
    "outputId": "6646223d-7fae-43ae-fdb9-ba8035d46d6a"
   },
   "source": [
    "mat_eq_sols_dummy = sym.solve(my_mat_eq_dummy,q_dummy)\n",
    "display(mat_eq_sols_dummy)"
   ],
   "outputs": [],
   "execution_count": null
  },
  {
   "cell_type": "markdown",
   "metadata": {
    "id": "ti0-sCi59ijq"
   },
   "source": [
    "Note that when we solve matrix equations the solutions come back in a Python \"dictionary.\" This is another standard Python data structure, you can google it for more information. But basically, if you want to access the entry under \"$v$\", you have to index it with that variable. See below how we index it:"
   ]
  },
  {
   "cell_type": "code",
   "metadata": {
    "id": "I_Fm9Wsh9kQG",
    "colab": {
     "base_uri": "https://localhost:8080/",
     "height": 123
    },
    "outputId": "ad41b68e-e7de-47b8-90b2-d4f14dfb8d32"
   },
   "source": [
    "sol1_dummy = mat_eq_sols_dummy[q_dummy[0]]\n",
    "sol2_dummy = mat_eq_sols_dummy[q_dummy[1]]\n",
    "print(\"Solution for\",q_dummy[0],':')\n",
    "display(sol1_dummy)\n",
    "print(\"Solution for\",q_dummy[1],':')\n",
    "display(sol2_dummy)"
   ],
   "outputs": [],
   "execution_count": null
  },
  {
   "cell_type": "markdown",
   "metadata": {
    "id": "qQ-1WGBCAMHL"
   },
   "source": [
    "Now if we want to get back to the solutions without our substitution, all we need to do is substitute the true variables back in, as seen below:"
   ]
  },
  {
   "cell_type": "code",
   "metadata": {
    "id": "1HeU7kVGAMqC",
    "colab": {
     "base_uri": "https://localhost:8080/",
     "height": 136
    },
    "outputId": "f5ec43f9-4aea-4bd9-d3a2-a58e6ac1e9fd"
   },
   "source": [
    "sol1 = sol1_dummy.subs({qdot_dummy[0]:qdot[0], qdot_dummy[1]:qdot[1]})\n",
    "sol2 = sol2_dummy.subs({qdot_dummy[0]:qdot[0], qdot_dummy[1]:qdot[1]})\n",
    "print(\"Solution for\",q[0],':')\n",
    "display(sol1)\n",
    "print(\"Solution for\",q[1],':')\n",
    "display(sol2)"
   ],
   "outputs": [],
   "execution_count": null
  },
  {
   "cell_type": "markdown",
   "metadata": {
    "id": "cTgsSeWeCAKR"
   },
   "source": [
    "### IMPORTANT: Lambdifying Symbolic Expressions\n",
    "Lambdifying is Sympy's terminology for taking a symbolic expression and evaluating it numerically. This will be extremely important for you to complete any simulations in your homework assignments. So how is this done? Pretty easily for expressions that are not derivatives of functions, see below:"
   ]
  },
  {
   "cell_type": "code",
   "metadata": {
    "id": "xWfj3sxDDQuZ",
    "colab": {
     "base_uri": "https://localhost:8080/",
     "height": 129
    },
    "outputId": "adb62102-d420-435b-8e0c-091884ec7aaa"
   },
   "source": [
    "# Let's take one of the expressions we used before,\n",
    "# and substitute values for constants\n",
    "my_eq = sym.Eq(thetadot,theta**2+g)\n",
    "print('original equation:')\n",
    "display(my_eq)\n",
    "\n",
    "fun = my_eq.rhs.subs(g,9.81)\n",
    "print('fun: ')\n",
    "display(fun)\n",
    "lam_fun = sym.lambdify(theta,fun)\n",
    "print('type of lam_fun: ', type(lam_fun))"
   ],
   "outputs": [],
   "execution_count": null
  },
  {
   "cell_type": "markdown",
   "metadata": {
    "id": "tZRux9FzEq8I"
   },
   "source": [
    "Let's evaluate it now:"
   ]
  },
  {
   "cell_type": "code",
   "metadata": {
    "id": "6Q5rf6yCEuSl",
    "colab": {
     "base_uri": "https://localhost:8080/"
    },
    "outputId": "d9eb1901-8858-426b-da6e-e2cd841e143f"
   },
   "source": [
    "vals = np.linspace(0,5,20)\n",
    "print(lam_fun(0.1))\n",
    "print(lam_fun(vals))"
   ],
   "outputs": [],
   "execution_count": null
  },
  {
   "cell_type": "markdown",
   "metadata": {
    "id": "sUtVu10nE6aC"
   },
   "source": [
    "Lambdify works with numpy to evaluate your symbolic expressions. Again, after v1.6, SymPy is able to lambdify derivative terms directly, but using dummy variables for lambdify is still a useful trick. Let's take a look at one of our solutions to the matrix equation and stack them. If we want to evaluate this vector expression different values of $\\ddot{\\theta}$ we will need to substitute it for a dummy variable:"
   ]
  },
  {
   "cell_type": "code",
   "metadata": {
    "id": "PUS726iTFU3y",
    "colab": {
     "base_uri": "https://localhost:8080/",
     "height": 68
    },
    "outputId": "0d3a2911-b4fb-4183-f093-eb16cd25d1b2"
   },
   "source": [
    "# Substituting for constants\n",
    "vec_fun = sym.Matrix([sol1,sol2]).subs({L:1,g:9.81,m:1})\n",
    "display(vec_fun)"
   ],
   "outputs": [],
   "execution_count": null
  },
  {
   "cell_type": "markdown",
   "metadata": {
    "id": "uqGBtpOAGamn"
   },
   "source": [
    "After we substitute for our dummy variable we have the expression below:"
   ]
  },
  {
   "cell_type": "code",
   "metadata": {
    "id": "a-M_nrQ5GaN-",
    "colab": {
     "base_uri": "https://localhost:8080/",
     "height": 58
    },
    "outputId": "7c106c65-4e11-43d4-923f-f5bb40aa4164"
   },
   "source": [
    "dummy_vec_fun = vec_fun.subs(qdot[1],qdot_dummy[1])\n",
    "display(dummy_vec_fun)"
   ],
   "outputs": [],
   "execution_count": null
  },
  {
   "cell_type": "markdown",
   "metadata": {
    "id": "C0Gpyqj7GpcF"
   },
   "source": [
    "And lambdify is happy to evaluate it:"
   ]
  },
  {
   "cell_type": "code",
   "metadata": {
    "id": "MDjPLgroGthq",
    "colab": {
     "base_uri": "https://localhost:8080/"
    },
    "outputId": "fc341216-5f84-4b28-857b-76aa87d3cee7"
   },
   "source": [
    "lam_vec_fun = sym.lambdify(qdot_dummy[1],dummy_vec_fun)\n",
    "\n",
    "# or you can just directly lambdify without the dummy variable\n",
    "# lam_vec_fun = sym.lambdify(qdot[1], vec_fun)\n",
    "\n",
    "print(lam_vec_fun(0.1))\n",
    "print(lam_vec_fun(0.1).T)"
   ],
   "outputs": [],
   "execution_count": null
  },
  {
   "cell_type": "markdown",
   "metadata": {
    "id": "k-6wETgVH7S5"
   },
   "source": [
    "### Simplifying and Expanding\n",
    "As a short note, you may find it helpful to simplify expressions as you go along so that you can understand them better, or sometimes your code may run faster. Here's a simple example, consider one of our solutions to the matrix equations:"
   ]
  },
  {
   "cell_type": "code",
   "metadata": {
    "id": "XXaqcFuFf7Fj",
    "colab": {
     "base_uri": "https://localhost:8080/",
     "height": 58
    },
    "outputId": "fdc88f97-d098-49d8-c81a-e1c110b66cf8"
   },
   "source": [
    "sol1"
   ],
   "outputs": [],
   "execution_count": null
  },
  {
   "cell_type": "markdown",
   "metadata": {
    "id": "adn48LT2IYKI"
   },
   "source": [
    "We can expand this expression to play around with it"
   ]
  },
  {
   "cell_type": "code",
   "metadata": {
    "id": "CL7PSXiyIRsz",
    "colab": {
     "base_uri": "https://localhost:8080/",
     "height": 58
    },
    "outputId": "394e0d37-5881-4825-ab38-53de02865ee4"
   },
   "source": [
    "exp_sol1 = sym.expand(sol1)\n",
    "display(exp_sol1)"
   ],
   "outputs": [],
   "execution_count": null
  },
  {
   "cell_type": "markdown",
   "metadata": {
    "id": "N_4zDYdBIy1H"
   },
   "source": [
    "And then simplify back:"
   ]
  },
  {
   "cell_type": "code",
   "metadata": {
    "id": "UbqMn0XEIxo3",
    "colab": {
     "base_uri": "https://localhost:8080/",
     "height": 58
    },
    "outputId": "1374a64b-073d-4bc1-fcd6-90c11dfe81fd"
   },
   "source": [
    "sym.simplify(exp_sol1)"
   ],
   "outputs": [],
   "execution_count": null
  },
  {
   "cell_type": "markdown",
   "metadata": {
    "id": "K92q9yglJAdm"
   },
   "source": [
    "You can also do this with matrix expressions without issue."
   ]
  },
  {
   "cell_type": "markdown",
   "metadata": {
    "id": "iFFPHvYaJY2Q"
   },
   "source": [
    "## Matplotlib\n",
    "This is one of Python's plotting main plotting libraries. It's pretty straightforward to use and gives you tons of freedom. I'll leave you with a simple example that is representative of what you may want to do with a plot most of the time in this class, but not representative of all that matplotlib is capable of.\n",
    "\n",
    "Let's plot the outputs of both of the lambdified equations that we worked through in this tutorial:"
   ]
  },
  {
   "cell_type": "code",
   "metadata": {
    "id": "-Q1t_UWyKqmy",
    "colab": {
     "base_uri": "https://localhost:8080/"
    },
    "outputId": "e4b8b546-35e2-42df-fa09-54cac804c0d9"
   },
   "source": [
    "# Range of values we care about\n",
    "x_min = -10; x_max = 10; N = 1000;\n",
    "x_domain = np.linspace(x_min, x_max, N)\n",
    "print('shape of x_domain: ', x_domain.shape)\n",
    "\n",
    "# Plug into our functions\n",
    "lam_fun_output = lam_fun(x_domain)\n",
    "print('shape of lam_fun_output: ', lam_fun_output.shape)\n",
    "lam_vec_fun_output = lam_vec_fun(x_domain)\n",
    "print('shape of lam_vec_fun_output: ', lam_vec_fun_output.shape)"
   ],
   "outputs": [],
   "execution_count": null
  },
  {
   "cell_type": "markdown",
   "metadata": {
    "id": "WK4vgny5LSKW"
   },
   "source": [
    "However, recall that lam_vec_fun was a vector equation, so it has two sets of values, meaning we will have to index them. A simple plot using this data can be seen below:"
   ]
  },
  {
   "cell_type": "code",
   "metadata": {
    "id": "h14qixMbLGP9",
    "colab": {
     "base_uri": "https://localhost:8080/",
     "height": 585
    },
    "outputId": "553d209b-99f2-4262-d3f5-4baa85a2a7fc"
   },
   "source": [
    "plt.figure(dpi=125,facecolor='w') # we choose the resolution and background color for plot\n",
    "plt.plot(x_domain,lam_fun_output)\n",
    "plt.plot(x_domain,lam_vec_fun_output[0].T) # to make dimensions match you may have to transpose your vector\n",
    "plt.plot(x_domain,lam_vec_fun_output[1].T)\n",
    "plt.xlim([x_min, x_max])\n",
    "plt.xlabel('x')\n",
    "plt.ylabel('Function Outputs')\n",
    "plt.grid(True)\n",
    "plt.title('Tutorial Plot Example')\n",
    "plt.legend(['Fun','VecFun1','VecFun2']) # in order of plots\n",
    "plt.show()"
   ],
   "outputs": [],
   "execution_count": null
  },
  {
   "cell_type": "markdown",
   "metadata": {
    "id": "lSiqF_XCMxWh"
   },
   "source": [
    "Other plots you make will just be variations on this format, so as long as you're comfortable with these basics it'll be fine!"
   ]
  },
  {
   "cell_type": "markdown",
   "metadata": {
    "id": "E1DbcuCglep5"
   },
   "source": [
    "## Other Things You Should Be Careful About"
   ]
  },
  {
   "cell_type": "markdown",
   "metadata": {
    "id": "94lcxoR8l2m1"
   },
   "source": [
    "NumPy and SymPy all have some built-in functions and constants that have same names, BUT they can not be mixed!\n",
    "\n",
    "Every year we will have some people mixed these two libraries and spent DAYS on debugging the code, so please be really careful when you import and use built-in functions and variables from NumPy and SymPy."
   ]
  },
  {
   "cell_type": "code",
   "metadata": {
    "id": "wFVwKKwBlnLV",
    "colab": {
     "base_uri": "https://localhost:8080/"
    },
    "outputId": "f5c31d04-9dbc-4933-af25-651aceed0b62"
   },
   "source": [
    "from numpy import pi, cos, sin\n",
    "\n",
    "def my_tan(a):\n",
    "    return sin(a) / cos(a)\n",
    "\n",
    "print('my_tan(pi) =', my_tan(pi))\n",
    "print('type of the output: ', type(my_tan(pi)))"
   ],
   "outputs": [],
   "execution_count": null
  },
  {
   "cell_type": "code",
   "metadata": {
    "id": "RaqNYgCamQns",
    "colab": {
     "base_uri": "https://localhost:8080/"
    },
    "outputId": "232c7a88-8987-4599-ccbd-981738a3ecce"
   },
   "source": [
    "from sympy import pi, cos, sin\n",
    "\n",
    "def my_tan(a):\n",
    "    return sin(a) / cos(a)\n",
    "\n",
    "print('my_tan(pi) =', my_tan(pi))\n",
    "print('type of the output: ', type(my_tan(pi)))"
   ],
   "outputs": [],
   "execution_count": null
  },
  {
   "cell_type": "code",
   "metadata": {
    "id": "4LSvnoUj5OuQ",
    "colab": {
     "base_uri": "https://localhost:8080/",
     "height": 37
    },
    "outputId": "aa8213e5-4d60-4df4-985e-d98f40a45586"
   },
   "source": [
    "from numpy import sin, cos\n",
    "import numpy as np\n",
    "np.sin(1)\n",
    "np.pi"
   ],
   "outputs": [],
   "execution_count": null
  },
  {
   "cell_type": "markdown",
   "metadata": {
    "id": "YvFQHl01ne82"
   },
   "source": [
    "Difference between list and NumPy array"
   ]
  },
  {
   "cell_type": "code",
   "metadata": {
    "id": "fHY_Wd9InLq-",
    "colab": {
     "base_uri": "https://localhost:8080/"
    },
    "outputId": "2addf7cd-3a01-4ccd-f1d7-8e714d2fae53"
   },
   "source": [
    "a_list = [1, 2, 3]\n",
    "an_array = np.array([1, 2, 3])\n",
    "print('a_list + [1, 2, 3] =', a_list + [1, 2, 3])\n",
    "print('an_array + [1, 2, 3] =', an_array + [1, 2, 3])"
   ],
   "outputs": [],
   "execution_count": null
  },
  {
   "cell_type": "code",
   "metadata": {
    "id": "1n1UOjB_ns6J"
   },
   "source": [],
   "outputs": [],
   "execution_count": null
  }
 ]
}
